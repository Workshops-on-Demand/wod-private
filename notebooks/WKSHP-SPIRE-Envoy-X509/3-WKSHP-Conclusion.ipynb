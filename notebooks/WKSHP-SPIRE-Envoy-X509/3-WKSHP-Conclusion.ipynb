{
 "cells": [
  {
   "cell_type": "markdown",
   "metadata": {},
   "source": [
    "{{ BRANDINGLOGO }}\n",
    "\n",
    "# Thank you for visiting the Hack Shack\n",
    "\n",
    "Powered by [{{ BRANDING }} Community Team](hpedev.io)\n",
    "\n",
    "{% if MODEWS == 'CHLG' %}\n",
    "# Thank you for participating to our software challenge\n",
    "{% endif %}\n",
    "\n",
    "# Conclusion\n",
    "\n",
    "In this workshop you got started with SPIRE and Envoy Secret Directory Service (SDS) to create a zero trust security model within a microservices architecture in Kubernetes.\n",
    "\n",
    "Congratulations!\n",
    "\n",
    "{% if MODEWS == 'CHLG' %}\n",
    "# The challenge is not over yet\n",
    "In order to complete the challenge, you must take the [quiz]({{ SURVEYCHALURL }}). Only then will you get a chance to become a winner! Please note that you must be present at the Hack Shack Celebration party to win. Refer to the Terms and Conditions for details.\n",
    "{% endif %}\n",
    "\n",
    "# Learn more\n",
    "\n",
    "To learn more about SPIFFE and SPIRE and this use case, check out the following resources:\n",
    "\n",
    "* [SPIFFE - SPIRE 101 – An introduction to SPIFFE server and SPIRE agent security concepts hands-on workshop](https://hackshack.hpedev.io/workshop/27)\n",
    "* [Buiding a Foundation for Zero Trust with SPIFFE and SPIRE technical paper](https://www.hpe.com/psnow/doc/a50004027enw?jumpid=in_lit-psnow-red)\n",
    "* [SPIFFE Concept](https://spiffe.io/docs/latest/spiffe-about/spiffe-concepts/)\n",
    "* [SPIRE Concept](https://spiffe.io/docs/latest/spire-about/spire-concepts/)\n",
    "* [Quickstart for SPIRE on Kubernetes](https://spiffe.io/docs/latest/try/getting-started-k8s/)\n",
    "* [Using Envoy with SPIRE](https://spiffe.io/docs/latest/microservices/envoy/)\n",
    "\n",
    "\n",
    "# Final step\n",
    "\n",
    "### Please take a moment to fill out our [survey](https://forms.office.com/Pages/ResponsePage.aspx?id=YSBbEGm2MUuSrCTTBNGV3KHzFdd987lBoQATWJq45DdUN0hWUTIzN1JKWExPUEpGSUhYQzVIRjNQVy4u) so we can ensure future workshops meet your needs.\n",
    "\n",
    "### And make sure you use `File->Log Out` to terminate your workshop session.\n",
    "\n",
    "### You can join the {{ BRANDING }} Community by [signing up](https://developer.hpe.com/newsletter-signup) to the HPE DEV Newsletter \n",
    "\n",
    "### Learn more about the {{ BRANDING }} Community\n",
    "![QRCode](Pictures/QRCode-HPEDEV.png)\n",
    "\n",
    "# Thank you\n",
    "![ThankYou](Pictures/grommet.jpg)"
   ]
  }
 ],
 "metadata": {
  "kernelspec": {
   "display_name": "Bash",
   "language": "bash",
   "name": "bash"
  },
  "language_info": {
   "codemirror_mode": "shell",
   "file_extension": ".sh",
   "mimetype": "text/x-sh",
   "name": "bash"
  }
 },
 "nbformat": 4,
 "nbformat_minor": 4
}
