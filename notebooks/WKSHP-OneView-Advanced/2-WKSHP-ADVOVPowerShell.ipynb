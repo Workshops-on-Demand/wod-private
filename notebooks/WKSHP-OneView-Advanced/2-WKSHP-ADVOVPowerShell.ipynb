{
 "cells": [
  {
   "cell_type": "code",
   "execution_count": null,
   "metadata": {},
   "outputs": [],
   "source": []
  },
  {
   "cell_type": "markdown",
   "metadata": {},
   "source": [
    "#  Advanced PowerShell scripting with HPE OneView Powershell library (POSH) \n",
    "\n",
    "## Lab 2 : Updating/ Creating OneView resource\n",
    "\n",
    "In this lab, you will:\n",
    "* Modify attribute of an existing OneView resource\n",
    "* Create a new OneView resource\n",
    "\n",
    "**Note**: Attributes of an OV resource can have different data structures: string, integer, array, hash tables.... \n",
    "\n",
    "When modifying an attribute, you need to provide the expected data structure.\n",
    "\n",
    "Also not all attributes can be modified. A good example is the vLAN Id attribute of an OV network resource. It is read-only and if you wnat to change a VLAN ID of a given network resource, you have to create a new OV network resource with new VLAN id value.\n",
    "  \n",
    "\n",
    "We first need to load our HPE OneView PowerShell library "
   ]
  },
  {
   "cell_type": "code",
   "execution_count": null,
   "metadata": {},
   "outputs": [],
   "source": [
    "Import-Module HPEOneView.540\n",
    "Import-Module ImportExcel "
   ]
  },
  {
   "cell_type": "markdown",
   "metadata": {},
   "source": [
    "## Connecting to OneView\n",
    "\n",
    "Let's make a connection to the OneView environment"
   ]
  },
  {
   "cell_type": "code",
   "execution_count": null,
   "metadata": {},
   "outputs": [],
   "source": [
{% for key,value in OVIP.items() %}
{% if key|string == STDID|string %}
    "$appliance = \"{{ value }}\"\n",
"{% endif %}\n",
{% endfor %}
    "$username   = \"student{{ STDID }}\"\n",
    "\n",
    "Connect-OVMgmt -hostname $appliance -username $username -password password"
   ]
  },
  {
   "cell_type": "markdown",
   "metadata": {},
   "source": [
    "If the login is successful, you get an authenticated session with your OneView appliance. All OV sessions are stored in this global variable"
   ]
  },
  {
   "cell_type": "code",
   "execution_count": null,
   "metadata": {},
   "outputs": [],
   "source": [
    "$ConnectedSessions"
   ]
  },
  {
   "cell_type": "markdown",
   "metadata": {},
   "source": [
    "## Modifying attributes of OneView resource \n",
    "\n",
    "Scenario 1: Change a name of an existing logicalInterConnectGroup (lig). Here are the steps:\n",
    "* Get the OneView logicalInterConnectGroup \n",
    "* Modify value of the **name** attribute\n",
    "* Update the resource \n",
    "\n",
    " \n",
    "\n",
    "**Note**: Preserve the character '*' for wildcard search."
   ]
  },
  {
   "cell_type": "code",
   "execution_count": null,
   "metadata": {},
   "outputs": [],
   "source": [
    "$thisLig        =  Get-OVLogicalInterconnectGroup -name *1frame*{{STDID}}* \n",
    "$old_name       = $thisLig.name\n",
    "$new_name       = 'new_'+ $old_name \n",
    "\n",
    "# Update the attribute\n",
    "$thisLig.name   = $new_name\n",
    "\n",
    "#Commit to OneView\n",
    "Set-OVresource $thisLig |wait-OVtaskComplete\n",
    "\n",
    "$Lig            = Get-OVLogicalInterconnectGroup -name *1frame*{{STDID}}* \n",
    "\n",
    "write-host -foreground CYAN \"the lig name has changed from $old_name to $($Lig.name)\"\n",
    "\n"
   ]
  },
  {
   "cell_type": "markdown",
   "metadata": {},
   "source": [
    "## Creating new resources\n",
    "\n",
    "To create new resources in OneView, you will use the new-OV* cmdlets. Some commands have a small set of parameters but other may require configuration of dozens of parameters and helper functions to make it work. For instance, the new-OVserverprofile has several parameters to be configured.\n",
    "\n",
    "Also, in most common use cases, you may already have an existing OneView environment ( in lab or in production) and you simply want to use it as a reference or model to create new resources and modify some attributes. A good scenario is to create networks with new VLAN ID from existing OneView networks.\n",
    "\n"
   ]
  },
  {
   "cell_type": "markdown",
   "metadata": {},
   "source": [
    "The OneView PowerShell library provides an useful cmdlet called **ConvertTo-OVPowerShellScript** that generates a PowerShell script to create OneView resource from an existing one. You can then modify values in the script to create new resource.\n",
    "\n",
    "**ConvertTo-OVPowerShellScript** is useful in the following scenarios:\n",
    "* You want to learn about PowerShell scripting with OneView but don't know where/how to start.The cmdlet provides a full example of script based on what to have built in the graphical interface\n",
    "* You want to automate creating new OneView instances based on existing OneView instance. The new OneView instance will have similar configuration as the 'master' one ebilt some minor changes in the settings.  \n",
    "\n",
    "Let's explore use of the cmdlet in some scenarios\n",
    "\n",
    "Scenario 1: Creating OneView network with new VLAN ID \n",
    " "
   ]
  },
  {
   "cell_type": "code",
   "execution_count": null,
   "metadata": {},
   "outputs": [],
   "source": [
    "# Generate a script based on existing network\n",
    "Get-OVnetwork -name *student{{STDID}}* | convertTo-OVPowerShellscript > Examples/net.ps1"
   ]
  },
  {
   "source": [
    "In the left window pane of your browser, navigate to the folder **Examples** and open the file **net.ps1**. This is the output of the command that is saved to a file.\n",
    "\n",
    "You notice that the cmdlet generates a PowerShell script based on values from an existing network (pulled from **Get-OVnetwork** ) and the last command is the call to **New-OVnetwork** with the attributes defined above.\n",
    "\n",
    "Look at the code below pasted from the net.ps1 file.\n",
    "\n"
   ],
   "cell_type": "markdown",
   "metadata": {},
   "execution_count": null,
   "outputs": []
  },
  {
   "cell_type": "code",
   "execution_count": null,
   "metadata": {},
   "outputs": [],
   "source": [
    "$newVLAN                            = {{STDID }}+300\n",
    "$stID                               = {{STDID }}\n",
    "# -------------- Attributes for Ethernet network \n",
    "$name                               = \"net-VLAN$newVLAN-Student$stID\"\n",
    "$type                               = \"ethernet\"\n",
    "$vLANType                           = \"Tagged\"\n",
    "$vLANid                             = $newVLAN\n",
    "$pBandwidth                         = 2500\n",
    "$mBandwidth                         = 10000\n",
    "$PLAN                               = $False\n",
    "$smartLink                          = $False\n",
    "$purpose                            = \"General\"\n",
    "New-OVNetwork -Name $name -Type $Type -PrivateNetwork $PLAN -SmartLink $smartLink -VLANType $VLANType -VlanID $VLANID `\n",
    "              -TypicalBandwidth $pBandwidth -MaximumBandwidth $mBandwidth -purpose $purpose \n",
    "\n",
    "\n",
    "# Now we query OneView to get the new network\n",
    "Get-OVnetwork -name $name\n"
   ]
  },
  {
   "source": [
    "A more complex example is generating a script to create logical interconnect group\n",
    "\n",
    "Scenario 2: Creating OneView Logical Interconnect group\n"
   ],
   "cell_type": "markdown",
   "metadata": {}
  },
  {
   "cell_type": "code",
   "execution_count": null,
   "metadata": {},
   "outputs": [],
   "source": [
    "# Generating LIG creation\n",
    "Get-OVLogicalInterconnectGroup -name  *lig-student{{STDID}}* | convertto-OVPowerShellScript    > Examples/lig.ps1 \n"
   ]
  },
  {
   "source": [
    "\n",
    "You can view the code in the **Examples/lig.ps1**\n"
   ],
   "cell_type": "markdown",
   "metadata": {}
  },
  {
   "cell_type": "markdown",
   "metadata": {},
   "source": [
    "For more information about the cmdelts, check the OneView online help [here](https://hpe-docs.gitbook.io/posh-hpeoneview/)\n",
    "The online help uses the gitbook format\n"
   ]
  },
  {
   "source": [
    "## Disconnecting from OneView\n",
    "\n",
    "Finally, when we're done with our work with the OneView API, it is good practice to disconnect from the appliance to clean up the session"
   ],
   "cell_type": "markdown",
   "metadata": {}
  },
  {
   "cell_type": "code",
   "execution_count": null,
   "metadata": {},
   "outputs": [],
   "source": [
    "Disconnect-OVMgmt"
   ]
  },
  {
   "cell_type": "markdown",
   "metadata": {},
   "source": [
    "# And if we have time....\n",
    "Quick demo on Importing OneView resources\n"
   ]
  }
 ],
 "metadata": {
  "kernelspec": {
   "display_name": "PowerShell",
   "language": "powershell",
   "name": "powershell"
  },
  "language_info": {
   "codemirror_mode": "shell",
   "file_extension": ".ps1",
   "mimetype": "text/x-sh",
   "name": "powershell"
  }
 },
 "nbformat": 4,
 "nbformat_minor": 4
}
