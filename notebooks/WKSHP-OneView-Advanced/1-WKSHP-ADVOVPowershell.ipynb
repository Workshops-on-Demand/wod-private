{
 "cells": [
  {
   "cell_type": "code",
   "execution_count": null,
   "metadata": {},
   "outputs": [],
   "source": []
  },
  {
   "cell_type": "markdown",
   "metadata": {},
   "source": [
    "#  Advanced PowerShell scripting with HPE OneView Powershell library (POSH) \n",
    "## Lab 1 : Querying OneView\n",
    "In this lab, we will execute several Get-OV cmdlets to retrieve information about OV resources:\n",
    "* OV ethernet network with **Get-OVnetwork**\n",
    "* OV logical interconnect group with **Get-OVlogicalInterconnectGroup**\n",
    "  \n",
    "\n",
    "We first need to load our HPE OneView PowerShell library "
   ]
  },
  {
   "cell_type": "code",
   "execution_count": null,
   "metadata": {},
   "outputs": [],
   "source": [
    "Import-Module HPEOneView.540\n",
    "Import-Module ImportExcel "
   ]
  },
  {
   "cell_type": "markdown",
   "metadata": {},
   "source": [
    "## Connecting to OneView\n",
    "\n",
    "Let's make a connection to the OneView environment"
   ]
  },
  {
   "cell_type": "code",
   "execution_count": null,
   "metadata": {},
   "outputs": [],
   "source": [
{% for key,value in OVIP.items() %}
{% if key|string == STDID|string %}
    "$appliance = \"{{ value }}\"\n",
"{% endif %}\n",
{% endfor %}
    "$username   = \"student{{ STDID }}\"\n",
    "\n",
    "Connect-OVMgmt -hostname $appliance -username $username -password password"
   ]
  },
  {
   "cell_type": "markdown",
   "metadata": {},
   "source": [
    "If the login is successful, you get an authenticated session with your OneView appliance. All OV sessions are stored in this global variable"
   ]
  },
  {
   "cell_type": "code",
   "execution_count": null,
   "metadata": {},
   "outputs": [],
   "source": [
    "$connectedSessions"
   ]
  },
  {
   "cell_type": "markdown",
   "metadata": {},
   "source": [
    "## Using Get-OV* cmdlets to query OneView\n",
    "\n",
    "Now that we have a connection to OneView, let's query OneView to get information about OneView resources.\n",
    "First, we will get the OneView ethernet networks. As there are lots of networks, we will filter the query based on names. \n",
    "You will now modify the cmdlet below to query networks based on your student ID.\n",
    "\n",
    "**Note**: Preserve the character '*' for wildcard search."
   ]
  },
  {
   "cell_type": "code",
   "execution_count": null,
   "metadata": {},
   "outputs": [],
   "source": [
    "Get-OVnetwork -name *student{{ STDID }}* "
   ]
  },
  {
   "cell_type": "markdown",
   "metadata": {},
   "source": [
    "The cmdlet returns a list of networks based on the filter (stored in an array) and the output displays only a subset of attributes (the most common ones).\n",
    "\n",
    "To see all attributes you can pipe the output to the format-list cmdlet."
   ]
  },
  {
   "cell_type": "code",
   "execution_count": null,
   "metadata": {},
   "outputs": [],
   "source": [
    "$netArray = Get-OVnetwork -name *student{{ STDID }}* \n",
    "# Pick up first element\n",
    "$netArray[0] | format-list * "
   ]
  },
  {
   "cell_type": "code",
   "execution_count": null,
   "metadata": {},
   "outputs": [],
   "source": [
    "$ligArray  = Get-OVlogicalInterconnectGroup -name *student{{ STDID }}* \n",
    "# Pick up first element\n",
    "$ligArray[0] | format-list * "
   ]
  },
  {
   "cell_type": "code",
   "execution_count": null,
   "metadata": {},
   "outputs": [],
   "source": []
  },
  {
   "cell_type": "markdown",
   "metadata": {},
   "source": [
    "## Using Send-OVRequest cmdlet\n",
    "\n",
    "**Note**: \n",
    "In the REST API world, every resource can be addressed using its resource location called uri.\n",
    "\n",
    "In this example, the rerource location for this particular network is stored in the attribute uri as shown in the output above.\n",
    "\n",
    "You can access to the resource through its uri with the cmdlet **Send-OVRequest**\n",
    "\n",
    "Here is an example. Assume that you know the uri of a resource, you can access to the resource object by using **send-OVRequest**\n"
   ]
  },
  {
   "cell_type": "code",
   "execution_count": null,
   "metadata": {},
   "outputs": [],
   "source": [
    "send-OVrequest -uri $ligArray[0].uri"
   ]
  },
  {
   "cell_type": "markdown",
   "metadata": {},
   "source": [
    "**Send-OVRequest** is a very useful cmdlet to find any OV resource using its uri.\n",
    "Let's apply this technique for the next exercise. \n",
    "\n",
    "In this scenario, you want to find all networks that are members to a networkset.\n",
    "Here are the steps:\n",
    "* Query OneView for networkset\n",
    "* Locate attribute in networkset for networks\n",
    "* Use Send-OVRequest with network Uris to get network objects\n",
    "* Get name attribute in network objects\n",
    "\n",
    " "
   ]
  },
  {
   "cell_type": "code",
   "execution_count": null,
   "metadata": {},
   "outputs": [],
   "source": [
    "# This is another technique to set filter on a cmdlet\n",
    "$netsetArray = Get-OVnetworkSet | where name -like *student{{ STDID }}* \n",
    "$netsetArray[0] | fl *          # fl is an alias of format-list"
   ]
  },
  {
   "cell_type": "code",
   "execution_count": null,
   "metadata": {},
   "outputs": [],
   "source": []
  },
  {
   "cell_type": "markdown",
   "metadata": {},
   "source": [
    "Take note of the attribute **networkUris**. It contains the list of networks that are members of this networkset. As you can see, it is a list of uris. In order to get name of the networks, you need to access the network object and then select the name attribute."
   ]
  },
  {
   "cell_type": "code",
   "execution_count": null,
   "metadata": {},
   "outputs": [],
   "source": [
    "$netNames       = @()\n",
    "$netsetName     = $netsetArray[0].name\n",
    "$uriList        = $netsetArray[0].networkUris\n",
    "foreach ($netUri in $uriList)\n",
    "{\n",
    "    $net        = Send-OVRequest -uri $netUri\n",
    "    $netNames   += $net.name\n",
    "}\n",
    "write-host -foreground CYAN \"Members of networkset ---> $netsetName are:\"\n",
    "$netNames"
   ]
  },
  {
   "cell_type": "markdown",
   "metadata": {},
   "source": [
    "## Using OneView /rest/index/associations\n",
    "\n",
    "In OneView, resources are very often associated/linked to other resources. The example above shows a simple association between network and networkset and the sample code shows a simple technique to discover members. \n",
    "\n",
    "However, associations can have multiple relationships and occur at different levels in the relationship hierarchy.\n",
    "You can have :\n",
    "* one-to-one / many-to-one / one-to-many relationship\n",
    "* child-parent / child-grandparent relationship\n",
    "\n",
    "Here are some examples:\n",
    "* SAN volume attached to a server profile\n",
    "* Network member of multiple network sets\n",
    "* Network connections associated to server profile \n",
    "* Server profile template used by multiple server profiles\n",
    "* Network used in an uplinkset defined in a logical interconnect group\n",
    "\n",
    "Performing search in those types of relationship can be time consuming but also requires lots of coding.\n",
    "\n",
    "Fortunately, the OneView REST API provides an [index associations API](https://techlibrary.hpe.com/docs/enterprise/servers/oneview5.0/cicf-api/en/index.html#rest/index/associations) to manage parent/child assosiations between resources that reduce coding tasks for search operations.\n",
    "\n",
    "Let's discover this API.\n"
   ]
  },
  {
   "cell_type": "code",
   "execution_count": null,
   "metadata": {},
   "outputs": [],
   "source": [
    "# Get the root level of this API and discover all attributes\n",
    "Send-OVRequest -uri /rest/index/associations | get-member\n"
   ]
  },
  {
   "cell_type": "markdown",
   "metadata": {},
   "source": [
    "Take note of the attributes **count** and **members**\n",
    "Now let's discover the members "
   ]
  },
  {
   "cell_type": "code",
   "execution_count": null,
   "metadata": {},
   "outputs": [],
   "source": [
    "$members = (Send-OVRequest -uri /rest/index/associations).members\n",
    "$members | gm                       # Shortcut to get-member\n"
   ]
  },
  {
   "cell_type": "markdown",
   "metadata": {},
   "source": [
    "Take note of the attributes **name**, **childUri** and **parentUri**. **Name** defines the association type, **childUri** and **parentUri** are the linked resources.\n",
    "Let's find the name we are interested in. In this scenario, we are looking for *networkset*.\n",
    "\n",
    "\n",
    "**Note**: You can find a list of full association names [here](https://techlibrary.hpe.com/docs/enterprise/servers/oneview5.0/cicf-api/en/index.html#associationNames) \n"
   ]
  },
  {
   "cell_type": "code",
   "execution_count": null,
   "metadata": {},
   "outputs": [],
   "source": [
    "$members_in_NetworkSet = $members | where name -like '*NetworkSet*' # Use wildcard if you don't know the exact name\n",
    "\n",
    "write-host \"Relationship name is $($members_in_NetworkSet[0].name)\"\n",
    "$members_in_NetworkSet | select parentUri, childUri  "
   ]
  },
  {
   "cell_type": "markdown",
   "metadata": {},
   "source": [
    "So the association type is NETWORKSET_TO_NETWORK. Let's define the filter now. In this scenario, you want to find all network sets that contains a given network. So you will set the childUri value to be the network uri and teh search will return all parents ( which are networkset uri ) that contains the network uri.\n",
    "\n",
    "We will use the cmdlet **search-OVassociations** for that purpose."
   ]
  },
  {
   "cell_type": "code",
   "execution_count": null,
   "metadata": {},
   "outputs": [],
   "source": [
    "$myNetworkSet           = Get-OVnetworkSet | where name -like *student{{ STDID }}* \n",
    "$mynetworkSetName       = $myNetworkSet.name\n",
    "\n",
    "$netSetAssociations     = search-OVassociations NETWORKSET_TO_NETWORK -Parent $myNetworkSet\n",
    "$netSetAssociations | ft *\n",
    "\n",
    "\n",
    "write-host \"`n Child Uris are:\"\n",
    "write-host \"----------------------\"\n",
    "$membersUri             = $netSetAssociations.childUri\n",
    "$membersUri\n",
    "\n",
    "\n",
    "write-host \"`n Members of this network set $mynetworkSetName are: \"\n",
    "write-host \"----------------------\"\n",
    "$membersUri | % {(send-OVRequest -uri $_).name }\n"
   ]
  },
  {
   "cell_type": "markdown",
   "metadata": {},
   "source": [
    "You have made it! Bravo!!!\n",
    "\n",
    "One last try!\n",
    "We will now search for all Logical Interconnect groups (lig) that uses a given network as internal network.\n",
    "\n",
    "The REST API documentation shows that there is an association named  LOGICAL_INTERCONNECT_GROUP_TO_INTERNAL_NETWORK\n",
    "\n"
   ]
  },
  {
   "cell_type": "code",
   "execution_count": null,
   "metadata": {},
   "outputs": [],
   "source": [
    "$thisNetwork        = get-OVnetwork -name \"*VLAN{{ STDID }}-*\"\n",
    "$thisNetwork_name   = $thisNetwork.name\n",
    "$ligAssociations    = search-OVassociations LOGICAL_INTERCONNECT_GROUP_TO_INTERNAL_NETWORK -Child $thisNetwork\n",
    "$ligAssociations | ft *\n",
    "$ligUris            = $ligAssociations.parentUri\n",
    "\n",
    "write-host \"`n LIGs that use this network $thisnetworkName are : \"\n",
    "write-host \"----------------------\"\n",
    "$ligUris | % {(send-OVRequest -uri $_).name }"
   ]
  },
  {
   "cell_type": "markdown",
   "metadata": {},
   "source": [
    "## Exporting to Excel\n",
    "\n",
    "The Import-Excel is a PowerShell module ( available from the PowerShell Gallery) that enables you to interact with Excel directly\n",
    "It can be used to export OneView configuration to Excel sheets that can be reviewed later or included in the documentation.\n",
    "Let's see how we can levergae the module to generate Excel sheets"
   ]
  },
  {
   "cell_type": "code",
   "execution_count": null,
   "metadata": {},
   "outputs": [],
   "source": [
    "Get-OVnetwork -name *VLAN{{ STDID }}* | select name, vLandID, preferredBandwidth | export-Excel -path Examples/result.xlsx"
   ]
  },
  {
   "cell_type": "markdown",
   "metadata": {},
   "source": [
    "## Disconnecting from OneView\n",
    "\n",
    "Finally, when we're done with our work with the OneView API, it is good practice to disconnect from the appliance to clean up the session"
   ]
  },
  {
   "cell_type": "code",
   "execution_count": null,
   "metadata": {},
   "outputs": [],
   "source": [
    "Disconnect-OVMgmt"
   ]
  },
  {
   "cell_type": "markdown",
   "metadata": {},
   "source": [
    "# And if we have time....\n",
    "Quick demo on Exporting OneView resources"
   ]
  }
 ],
 "metadata": {
  "kernelspec": {
   "display_name": "PowerShell",
   "language": "powershell",
   "name": "powershell"
  },
  "language_info": {
   "codemirror_mode": "shell",
   "file_extension": ".ps1",
   "mimetype": "text/x-sh",
   "name": "powershell"
  }
 },
 "nbformat": 4,
 "nbformat_minor": 4
}
