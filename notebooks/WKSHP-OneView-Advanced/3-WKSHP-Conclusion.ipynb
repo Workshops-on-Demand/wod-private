{
 "cells": [
  {
   "cell_type": "markdown",
   "metadata": {},
   "source": [
    "![HPEDEVlogo](Pictures/hpedevlogo-NB.jpg)\n",
    "\n",
    "# Thank you for visiting the Hack Shack\n",
    "\n",
    "Powered by [{{ BRANDING }} Community Team](hpedev.io)\n",
    "\n",
    "{% if MODEWS == 'CHLG' %}\n",
    "# Thank you for participating to our software challenge\n",
    "{% endif %}\n",
    "\n",
    "\n",
    "# Conclusion\n",
    "In this workshop, you explore the different OneView cmdlets to query OneView, to search OneView associations, modify attributes of OneView resource and finally generate sxcripts to create new OneView resource \n",
    "\n",
    "Congratulations!\n",
    "\n",
    "# Final Step\n",
    "Please Take a moment to fill out our [survey](http://bit.ly/hackshack-survey)\n",
    "\n",
    "Please use 'File -> Log Out' in the menu to terminate your session\n",
    "\n",
    "# Thank You\n",
    "![ThankYou](Pictures/grommet.jpg)"
   ]
  }
 ],
 "metadata": {
  "kernelspec": {
   "display_name": "Bash",
   "language": "bash",
   "name": "bash"
  },
  "language_info": {
   "codemirror_mode": "shell",
   "file_extension": ".sh",
   "mimetype": "text/x-sh",
   "name": "bash"
  }
 },
 "nbformat": 4,
 "nbformat_minor": 4
}
