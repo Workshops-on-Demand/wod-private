{
 "cells": [
  {
   "cell_type": "markdown",
   "metadata": {
    "tags": []
   },
   "source": [
    "{{ BRANDINGLOGO }}\n",
    "\n",
    "# Thank you for visiting the Hack Shack\n",
    "\n",
    "Powered by [{{ BRANDING }} Community Team](hpedev.io)\n",
    "\n",
    "{% if MODEWS == 'CHLG' %}\n",
    "# Thank you for participating to our software challenge\n",
    "{% endif %}\n",
    "\n",
    "\n",
    "# Conclusion\n",
    "\n",
    "In this workshop, we covered how to get started with the Terraform provider for HPE GreenLake. We explained how to collect data from the platform and request the creation of a Virtual Machine instance. We then showed you how to manage the lifecycle of a Virtual Machine using Terraform. We applied several changes to the Terraform infrastructure configuration file and observed how the desired state is automatically tracked by Terraform and applied to HPE GreenLake.\n",
    "\n",
    "-      [ Learn more about Terraform](https://www.terraform.io/)\n",
    "\n",
    "-      [ Learn more about HPE GreenLake](https://www.hpe.com/us/en/greenlake.html). You can, for example, get into our [Trial Program](https://www.hpe.com/us/en/greenlake/managed-cloud-controls-trial.html) and test HPE GreenLake for a period of 4 weeks. Another option is to try our Trial Express program. Finally, you can get yourself an account on HPE GreenLake [here](https://auth.hpe.com/signin/register). \n",
    "\n",
    "-      [ Learn more about the HPE GreenLake Terraform provider](https://registry.terraform.io/providers/HPE/hpegl)\n",
    "\n",
    "Congratulations!\n",
    "\n",
    "\n",
    "{% if MODEWS == 'CHLG' %}\n",
    "# The challenge is not over yet\n",
    "In order to complete the challenge, you must take the [quiz]({{ SURVEYCHALURL }}). Only then will you get a chance to become a winner! Please note that you must be present at the Hack Shack Celebration party to win. Refer to the Terms and Conditions for details.\n",
    "{% endif %}\n",
    "# Final steps\n",
    "Please take a moment to fill out our [survey]({{ SURVEYURL }}).\n",
    "\n",
    "And make sure you use File -> Log Out menu to terminate your workshop session.\n",
    "\n",
    "# Thank you\n",
    "![ThankYou](Pictures/grommet.JPG)"
   ]
  }
 ],
 "metadata": {
  "kernelspec": {
   "display_name": "Bash",
   "language": "bash",
   "name": "bash"
  },
  "language_info": {
   "codemirror_mode": "shell",
   "file_extension": ".sh",
   "mimetype": "text/x-sh",
   "name": "bash"
  }
 },
 "nbformat": 4,
 "nbformat_minor": 4
}
