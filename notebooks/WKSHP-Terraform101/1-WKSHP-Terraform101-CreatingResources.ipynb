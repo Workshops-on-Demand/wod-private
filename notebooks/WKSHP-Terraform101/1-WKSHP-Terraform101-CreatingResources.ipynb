{
 "cells": [
  {
   "cell_type": "markdown",
   "metadata": {},
   "source": [
    "## Let’s harness some of the benefits of Infrastructure as Code\n",
    "\n",
    "One of the superpowers of IaC is its repeatability, the fact that you can set something up once and then use the same information in multiple ways. Implementing IaC allows organizations to store configuration files describing the desired infrastructure as a single source of truth. It also allows you to apply the DevOps methodology that’s already in place for application code directly to the infrastructure. For example, configuration files can be stored and managed through GitHub using the same way your DevOps team manages the application code. This concept is often called “Shifting Left”, as you are describing the infrastructure to host an application earlier (left) in the delivery pipeline of the application. This allows for easier and consistent deployments of infrastructure across the complete infrastructure landscape of an organization.\n",
    "\n",
    "## HPE GreenLake\n",
    "\n",
    "HPE GreenLake is HPE’s edge-to-cloud platform. The HPE GreenLake platform provides a unified experience wherever your applications and its data are located on the edge, in colocations or in your own datacenter. This cloud experience everywhere includes the following capabilities:\n",
    "\n",
    "* Self-service\n",
    "* Infinite scalability\n",
    "* Pay-as-you-go\n",
    "* Managed for you\n",
    "\n",
    "## HPE GreenLake Cloud Services\n",
    "\n",
    "The HPE GreenLake ecosystem provides solutions for several top workloads such as containers, Machine Learning, private cloud, virtual machines, SAP HANA, HPC, VDI and many more. This page on [HPE GreenLake cloud services and ecosystem](https://www.hpe.com/us/en/greenlake/services.html) provides a complete list. The ecosystem also leverages many technologies from HPE partners such as Microsoft, VMware, SAP, Nutanix, Veeam and others. \n",
    "\n",
    "## HPE GreenLake for private cloud\n",
    "\n",
    "One of the options provided by HPE GreenLake is to make it easy for customers to order and operate a private cloud with a mix of virtual machines, containers, and physical servers. This is exactly what the private cloud service is all about. This service allows customers to point and click to create resources such as virtual machines. It also provides access via a public API, allowing developers to use  an Infrastructure-as-Code type of tool to automate provisioning, for example using Terraform.\n",
    "\n",
    "During this session, you can connect to your [console on HPE GreenLake](https://client.greenlake.hpe.com/login), using the following credentials:\n",
    "\n",
    "- username: john.doe@hpedev.io\n",
    "- password: Dev@HPE2022*\n",
    "\n",
    "This is not mandatory, as we provide screen captures of what yu are expected to see, but feel free to give it a try. \n",
    "\n",
    "## Terraform\n",
    "\n",
    "[Terraform](https://terraform.io) is an open source Infrastructure-as-Code framework originally created by HashiCorp that is written in Go. It uses a declarative language (HashiCorp Configuration Language HCL or JSON more recently) to describe the desired state of the infrastructure in terms of cloud, virtual machines, networks, storage, and many other components. Terraform uses the concept of “providers” to integrate with all major public clouds. Terraform is a so-called idempotent system in the sense that it doesn’t generate any side effects if applied multiple times on an infrastructure already in its desired state. Terraform has gained quite the momentum in the last few years. Its main competition is Ansible, Amazon Cloud Formation, Puppet and Chef.\n"
   ]
  },
  {
   "cell_type": "markdown",
   "metadata": {
    "tags": []
   },
   "source": [
    "## Terraform installation\n",
    "\n",
    "Your first step is to get your system ready to run Terraform. This will include:\n",
    "\n",
    "1. Installing Terraform: follow [these steps](https://learn.hashicorp.com/tutorials/terraform/install-cli)\n",
    "2. Verifying installation: **terraform --help**\n",
    "\n",
    "We have already installed Terraform in you workshop environment, so you are ready to start building your infrastructure description file. Before we do so let's check the Terraform version installed on our system:"
   ]
  },
  {
   "cell_type": "code",
   "execution_count": null,
   "metadata": {},
   "outputs": [],
   "source": [
    "# Let's find out the version installed on this environment\n",
    "terraform version"
   ]
  },
  {
   "cell_type": "markdown",
   "metadata": {},
   "source": [
    "> Ignore the fact that you might not be running the latest version of Terraform.\n",
    "\n",
    "## Building a Terraform configuration file from scratch\n",
    "\n",
    "Let’s start building this TF file. It's called config.tf and you can open it for edition by double clicking from the left pane file explorer view. We will edit this file during the entire workshop, so keep it open and don't forget to save using the save icon from the taskbar above your notebooks. In case you have any issues with the file, you can find valid files at different stages from the solutions folder. Just cut/paste content from any of these to get back on track.\n",
    "\n",
    "> Note: config.tf should be empty at this time.\n",
    "\n",
    "### Selecting a Terraform provider\n",
    "\n",
    "The first section of the file will enumerate the “providers” you rely upon for building your infrastructure, and they could be multiple providers in a single TF file. In this case here, you will only have the HPE GreenLake provider referenced as hpe/hpegl in the official [Terraform registry](https://registry.terraform.io/).\n",
    "\n",
    "You can find out more about the HPE GreenLake Terraform provider from its [Terraform Registry page](https://registry.terraform.io/providers/HPE/hpegl/latest).\n",
    "\n",
    "This page also provides a link to the GitHub repository corresponding to this provider. The [docs](https://github.com/hpe/terraform-provider-hpegl/tree/main/docs) folder is your best source of information for using the different data sources and resources provided by the provider. If you navigate to the resources section, you will see that one resource you can manipulate with this provider is a [VM instance](https://github.com/hpe/terraform-provider-hpegl/blob/main/docs/resources/vmaas_instance.md). Let’s focus on this resource in this article.\n",
    "\n",
    "> Note: Because this is open source, don’t hesitate to open issues, or even a pull request, if you identify an issue.\n",
    "\n",
    "Insert the following lines in your Terraform configuration file: config.tf and save it.\n",
    "\n",
    "```json\n",
    "# Load HPE GreenLake terraform provider\n",
    "terraform {\n",
    "      required_providers {\n",
    "         hpegl = {\n",
    "            source  = \"hpe/hpegl\"\n",
    "            version = \"0.1.7\"\n",
    "         }\n",
    "      }\n",
    "   }\n",
    "```\n",
    "\n"
   ]
  },
  {
   "cell_type": "markdown",
   "metadata": {},
   "source": [
    "### Terraform init\n",
    "\n",
    "Before you can use Terraform, you will have to initialize it from the configuration file we have created. This is done with the following step: **terraform init**\n"
   ]
  },
  {
   "cell_type": "code",
   "execution_count": null,
   "metadata": {},
   "outputs": [],
   "source": [
    "# Let's inititalize our Terraform environment\n",
    "terraform init"
   ]
  },
  {
   "cell_type": "markdown",
   "metadata": {},
   "source": [
    "#### Configuring the Terraform provider\n",
    "\n",
    "Now that you have expressed the fact that the hpegl provider will be used, you need to setup some parameters for it. As explained on this [page](https://github.com/hpe/terraform-provider-hpegl/blob/main/docs/index.md), you can either explicitly set those parameters in your Terraform configuration file (tf file), or have them set in a series of environment variables, or a mix of both. \n",
    "\n",
    "I suggest the following two parameters be added in your TF file by cut/pasting it:\n",
    "\n",
    "```json\n",
    "# Setup provider environment (location and space)\n",
    "provider \"hpegl\" {\n",
    "      vmaas {\n",
    "         location   = \"HPE\"\n",
    "         space_name = \"HPEDEV HackShack workshops\"\n",
    "      }\n",
    "}\n",
    "```"
   ]
  },
  {
   "cell_type": "markdown",
   "metadata": {},
   "source": [
    "You can find your location and your space name from the HPE GreenLake user interface. In our example shown below, HPE is our location:\n",
    "\n",
    "![GreenLake for private cloud](./Pictures/greenlakeforprivatecloud.png \"GreenLake for private cloud\")\n",
    "\n",
    "And in the capture below, **HPEDEV HackShack workshops** is the space we have created for our workshops. You can check your Space from the HPE GreenLake console under your profile icon.\n",
    "\n",
    "![GreenLake select new space](./Pictures/greenlakeselectingspace.png \"GreenLake select new space\")"
   ]
  },
  {
   "cell_type": "markdown",
   "metadata": {},
   "source": [
    "And the rest (such as tenant id, user id and user secret key) can be placed in a resources file, which you can source before running your Terraform command. \n",
    "\n",
    "We have already created this student.src file for you, so you can take a look at it and source it to declare the variables:"
   ]
  },
  {
   "cell_type": "code",
   "execution_count": null,
   "metadata": {},
   "outputs": [],
   "source": [
    "# Check the content of student.src\n",
    "cat student.src\n",
    "# and source it\n",
    "source ./student.src"
   ]
  },
  {
   "cell_type": "markdown",
   "metadata": {},
   "source": [
    "These values were all retrieved from the HPE GreenLake user interface. \n",
    "\n",
    "But in a nutshell, we created an API Client using an administrative account, as illustrated below:\n",
    "\n",
    "![GreenLake API Clients](./Pictures/greenlakeapiclients.png \"GreenLake API Clients\")\n",
    "\n",
    "Your client id and the Issuer URL are also available there, as shown in capture below. \n",
    "\n",
    "![GreenLake Terraform API Client](./Pictures/greenlaketerraformapiclient.png \"GreenLake Terraform API Client\")\n",
    "\n",
    "\n",
    "Finally, your Tenant ID is shown in the HPE GreenLake console under your profile icon, **API Access**.\n",
    "\n",
    "![GreenLake Tenant ID](./Pictures/greenlaketenantid.png \"GreenLake Tenant ID\")\n",
    "\n"
   ]
  },
  {
   "cell_type": "markdown",
   "metadata": {},
   "source": [
    "student{{ STDID }}### Querying for infrastructure components\n",
    "\n",
    "Your next step with the TF file is to query the HPE GreenLake provider to collect information needed to create your first VM instance. From the [documentation](https://github.com/hpe/terraform-provider-hpegl/blob/main/docs/resources/vmaas_instance.md), you can see that you need to gather the following information:\n",
    "\n",
    "* Cloud ID\n",
    "* Group ID\n",
    "* Layout ID\n",
    "* Plan ID\n",
    "* Instance type code\n",
    "* Network ID\n",
    "* Resource Pool ID\n",
    "* Template ID\n",
    "* Folder Code\n",
    "\n",
    "For this, you will use the Terraform **data** statements. For example, the following statement retrieves the Cloud ID and stores it (in variable called **cloud**), which we can later retrieve using: **data.hpegl_vmaas_cloud.cloud.id**:\n",
    "\n",
    "```json\n",
    "# Retrieve cloud id\n",
    "data \"hpegl_vmaas_cloud\" \"cloud\" {\n",
    "  name = \"HPE GreenLake VMaaS Cloud-Trial4 \"\n",
    "   }\n",
    "```\n",
    "\n",
    "Cut it and paste it in your config.tf file. \n",
    "\n",
    "Then, using a similar technique, you can retrieve the rest of the data you need. \n",
    "\n",
    "```json\n",
    "# And a few networks\n",
    "data \"hpegl_vmaas_network\" \"blue_net\" {\n",
    "  name = \"Blue-Network\"\n",
    "   }\n",
    "data \"hpegl_vmaas_network\" \"green_net\" {\n",
    "  name = \"Green-network\"\n",
    "   }\n",
    " \n",
    "data \"hpegl_vmaas_cloud_folder\" \"compute_folder\" {\n",
    "   cloud_id = data.hpegl_vmaas_cloud.cloud.id\n",
    "   name = \"ComputeFolder\"\n",
    "   }\n",
    " \n",
    "# Locate a resource pool\n",
    "data \"hpegl_vmaas_resource_pool\" \"cl_resource_pool\" {\n",
    "  cloud_id = data.hpegl_vmaas_cloud.cloud.id\n",
    "  name = \"ComputeResourcePool\"\n",
    "   }\n",
    " \n",
    "# And a group\n",
    "data \"hpegl_vmaas_group\" \"default_group\" {\n",
    "  name = \"student{{ STDID }}\"\n",
    "}\n",
    " \n",
    "# Locate a plan\n",
    "data \"hpegl_vmaas_plan\" \"g1_small\" {\n",
    "  name = \"G1-Small\"\n",
    "   }\n",
    " \n",
    "# A layout\n",
    "data \"hpegl_vmaas_layout\" \"vmware\" {\n",
    "  name           \t= \"VMware VM with vanilla CentOS\"\n",
    "  instance_type_code = \"glhc-vanilla-centos\"\n",
    "}\n",
    " \n",
    "# And a template\n",
    "data \"hpegl_vmaas_template\" \"vanilla\" {\n",
    "  name = \"vanilla-centos7-x86_64-09072020\"\n",
    "   }\n",
    "```\n",
    "\n",
    "Cut and paste this into you config file. The order of the statements doesn't really matter.\n",
    "\n",
    "> You can get information about each of the data statements supported by the hpegl provider from [GitHub](https://github.com/hpe/terraform-provider-hpegl/tree/main/docs/data-sources).\n",
    "\n",
    "### Validating the config file\n",
    "\n",
    "Now that we have added a fair amount of content in our configuration file, a good practice is to validate regularly using the **terraform validate** command. Before that, make sure your tf file has been saved."
   ]
  },
  {
   "cell_type": "code",
   "execution_count": null,
   "metadata": {},
   "outputs": [],
   "source": [
    "# Validate config file \n",
    "terraform validate"
   ]
  },
  {
   "cell_type": "markdown",
   "metadata": {
    "jp-MarkdownHeadingCollapsed": true,
    "tags": []
   },
   "source": [
    "### Creating a VM resource\n",
    "\n",
    "The last step is to use a Terraform **resource** statement to request the creation of a new VM instance. Let's cut/paste the following resource statement to your configuration file:\n",
    "\n",
    "```json\n",
    "resource \"hpegl_vmaas_instance\" \"student{{ STDID }}\" {\n",
    "  name           \t= \"student{{ STDID }}\"\n",
    "  cloud_id       \t= data.hpegl_vmaas_cloud.cloud.id\n",
    " \tgroup_id       \t= data.hpegl_vmaas_group.default_group.id\n",
    " \tlayout_id      \t= data.hpegl_vmaas_layout.vmware.id\n",
    " \tplan_id        \t= data.hpegl_vmaas_plan.g1_small.id\n",
    " \tinstance_type_code = data.hpegl_vmaas_layout.vmware.instance_type_code\n",
    " \n",
    " \tnetwork {\n",
    "     \tid = data.hpegl_vmaas_network.green_net.id\n",
    " \t}\n",
    " \n",
    " \tvolume {\n",
    "     \tname     \t= \"root_vol\"\n",
    "     \tsize     \t= 15\n",
    "     \tdatastore_id = \"auto\"\n",
    " \t}\n",
    " \n",
    " \tconfig {\n",
    "     \tresource_pool_id = data.hpegl_vmaas_resource_pool.cl_resource_pool.id\n",
    "     \ttemplate_id  \t= data.hpegl_vmaas_template.vanilla.id\n",
    "     \tno_agent     \t= true\n",
    "     \tasset_tag    \t= \"vm_terraform\"\n",
    "     \tfolder_code  \t= data.hpegl_vmaas_cloud_folder.compute_folder.code\n",
    " \t}\n",
    " \n",
    " \tpower = \"poweron\"\n",
    "   }\n",
    " \n",
    "```\n",
    "\n",
    "> Note: You can get information about each of the resource statements supported by the hpegl provider from [GitHub](https://github.com/hpe/terraform-provider-hpegl/tree/main/docs/resources)."
   ]
  },
  {
   "cell_type": "markdown",
   "metadata": {},
   "source": [
    "### Terraform ready to plan\n",
    "\n",
    "I recommend running the **terraform validate** command again as you add sections to your file to track syntax errors. Once ready, the **terraform plan** command will provide information about what will be created when the **terraform apply** method is finally used.\n",
    "\n",
    "Let's try this:\n",
    "\n",
    "> It will take a couple of minutes. Wait until the command finishes ands the * goes away in the cell left indication.\n",
    " "
   ]
  },
  {
   "cell_type": "code",
   "execution_count": null,
   "metadata": {},
   "outputs": [],
   "source": [
    "# Let's validate\n",
    "terraform validate\n",
    "\n",
    "# Let's see the plan\n",
    "terraform plan"
   ]
  },
  {
   "cell_type": "markdown",
   "metadata": {},
   "source": [
    "If you agree with the plan and what is going to be created, you can move to the last step, i.e. applying the configuration.\n",
    "\n",
    "### Terraform ready to apply\n",
    "\n",
    "The command you need to use is now: **terraform apply**. This will rerun the plan command, then apply it. It will prompt you to confirm before it starts building what’s in the plan. However, for usage in a Jupyter Notebook environment, we will auto-approve.\n",
    "\n",
    "> Again, this will take a few minutes. Be patient and wait until the * is cleared in the cell indicator."
   ]
  },
  {
   "cell_type": "code",
   "execution_count": null,
   "metadata": {},
   "outputs": [],
   "source": [
    "terraform apply -input=false -auto-approve"
   ]
  },
  {
   "cell_type": "markdown",
   "metadata": {},
   "source": [
    "If we now check the list of VM in your GreenLake Console, we should see our new VM, similar to what is shown below:\n",
    "\n",
    "![GreenLake VM created using Terraform](./Pictures/vmcreated.png \"GreenLake VM created using Terraform\")\n",
    "\n"
   ]
  },
  {
   "cell_type": "markdown",
   "metadata": {},
   "source": [
    "This concludes the first part of this workshop. We have been able to create a VM instance using Terraform. The configuration file that we built together can be stored in a GitHub repository and handled the same way you handle application code. Welcome to the world of Infrastructure-as-Code!\n",
    "\n",
    "Let's now move to the [second part](2-WKSHP-Terraform101-ManagingResources.ipynb) in which we will continue to modify the configuration file to change the desired state of the virtual machine.\n"
   ]
  }
 ],
 "metadata": {
  "kernelspec": {
   "display_name": "Bash",
   "language": "bash",
   "name": "bash"
  },
  "language_info": {
   "codemirror_mode": "shell",
   "file_extension": ".sh",
   "mimetype": "text/x-sh",
   "name": "bash"
  }
 },
 "nbformat": 4,
 "nbformat_minor": 4
}
