{
 "cells": [
  {
   "cell_type": "markdown",
   "metadata": {},
   "source": [
    "## Let's clean up the mess \n",
    "\n",
    "Terraform uses the command **terraform destroy** to undo an infrastructure that was built with Terraform. Before we do so, we need to once again set our environment variables, as we have started a new notebook."
   ]
  },
  {
   "cell_type": "code",
   "execution_count": null,
   "metadata": {},
   "outputs": [],
   "source": [
    "# Source SRC file to reload environment variables\n",
    "source ./student.src"
   ]
  },
  {
   "cell_type": "markdown",
   "metadata": {},
   "source": [
    "Now, let's destroy the infrastructure as it is currently described in our configuration file."
   ]
  },
  {
   "cell_type": "code",
   "execution_count": null,
   "metadata": {},
   "outputs": [],
   "source": [
    "terraform destroy  -input=false -auto-approve"
   ]
  },
  {
   "cell_type": "markdown",
   "metadata": {},
   "source": [
    "Let's take a look again in the HPE GreenLake console. The student{{ STDID }} VM has been deleted.\n",
    "\n",
    "This terminates part 3 of the workshop where we used Terraform to decommision resources created during the rest of the workshop. Let's now move on to the [Conclusion](4-WKSHP-Conclusion.ipynb)."
   ]
  }
 ],
 "metadata": {
  "kernelspec": {
   "display_name": "Bash",
   "language": "bash",
   "name": "bash"
  },
  "language_info": {
   "codemirror_mode": "shell",
   "file_extension": ".sh",
   "mimetype": "text/x-sh",
   "name": "bash"
  }
 },
 "nbformat": 4,
 "nbformat_minor": 4
}
