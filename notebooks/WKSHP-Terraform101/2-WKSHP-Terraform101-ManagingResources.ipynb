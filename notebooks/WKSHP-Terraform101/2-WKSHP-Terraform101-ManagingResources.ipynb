{
 "cells": [
  {
   "cell_type": "markdown",
   "metadata": {},
   "source": [
    "## Let’s recap\n",
    "\n",
    "In [the fist lab](1-WKSHP-Terraform101-CreatingResources.ipynb), we covered HPE GreenLake with its Private Cloud Service and showed how to get started with Terraform and the Terraform provider for HPE GreenLake. In this lab, we will start with the same VM configuration created in Lab 1 as shown below. From there, we will show you how to tap into more advanced functionality that’s provided by Terraform and the HPE GreenLake provider:\n",
    "\n",
    "![GreenLake VM created using Terraform](./Pictures/vmcreated.png \"GreenLake VM created using Terraform\")\n",
    "\n",
    "First, let's reload our environment variables:"
   ]
  },
  {
   "cell_type": "code",
   "execution_count": null,
   "metadata": {},
   "outputs": [],
   "source": [
    "# Check the content of student.src\n",
    "cat student.src\n",
    "# and source it\n",
    "source ./student.src"
   ]
  },
  {
   "cell_type": "markdown",
   "metadata": {},
   "source": [
    "## Infrastructure lifecycle management\n",
    "\n",
    "Once your infrastructure is created, it will need to evolve over time in order to cope with any change of workload or to perform maintenance. Let’s look at a few scenarios."
   ]
  },
  {
   "cell_type": "markdown",
   "metadata": {},
   "source": [
    "### Use case 1: Setting up tags and labels\n",
    "\n",
    "As organizations scale their cloud environments, they often need to define methodologies for organizing resources. For this, they can leverage tags and labels. Tags consist of key/value pairs that make it easier to search for, or filter, your cloud resources based on categories relevant to the organization. Another option is to attach labels, which are simple values, to your VMs in order to keep track of what it’s used for or who it belongs to.\n",
    "\n",
    "So, let's try adding metadata to the VM using tags and labels. According to the [documentation](https://github.com/HPE/terraform-provider-hpegl/blob/main/docs/resources/vmaas_instance.md), you can add labels by adding the following snippets to our configuration file within the VM resource block: \n",
    "\n",
    "```markdown\n",
    "# Using labels\n",
    "labels = [\"hackshack\", \"hpedev\"]\n",
    "```\n",
    "\n",
    "And you can add tags by inserting the following other code snippet in your configuration file:\n",
    "\n",
    "```markdown\n",
    "# Using tags\n",
    "tags = {\n",
    "        team  = \"HPE Developer\"\n",
    "        support = \"gold\"\n",
    "  }\n",
    "```\n",
    "\n",
    "Save TF file and apply those changes with **terraform apply**. Run a **terraform validate** to make sure there is no problem with your file."
   ]
  },
  {
   "cell_type": "code",
   "execution_count": null,
   "metadata": {},
   "outputs": [],
   "source": [
    "terraform validate\n",
    "terraform apply -input=false -auto-approve"
   ]
  },
  {
   "cell_type": "markdown",
   "metadata": {},
   "source": [
    "Look again in your HPE GreenLake console at the VM details. You should see the labels and the tags as illustrated in the capture below:\n",
    "\n",
    "![tags and labels applied to VM](./Pictures/greenlaketagandlabels.png \"tags and labels applied to VM\")"
   ]
  },
  {
   "cell_type": "markdown",
   "metadata": {},
   "source": [
    "### Use case 2: Get me more disk space\n",
    "\n",
    "Another typical use case would be to add another disk to a VM, say a data volume for application usage. The syntax for this is the same as what you used to create the VM with its *root_vol*, already visible in the Storage details of the VM:\n",
    "\n",
    "![VM was created with one disk: root_vol](./Pictures/vmwithonedisk.png \"VM was created with one disk: root_vol\")\n",
    "\n",
    "Go ahead and add the following code snippet to your configuration file, right underneath the first volume description:\n",
    "\n",
    "```markdown\n",
    "  # Add another volume \n",
    "  volume {\n",
    "         name         = \"data_vol\"\n",
    "         size         = 25\n",
    "         datastore_id = \"auto\"\n",
    "     }\n",
    "```\n",
    "\n",
    "Save the file, validate and apply again:"
   ]
  },
  {
   "cell_type": "code",
   "execution_count": null,
   "metadata": {},
   "outputs": [],
   "source": [
    "terraform validate\n",
    "terraform apply -input=false -auto-approve"
   ]
  },
  {
   "cell_type": "markdown",
   "metadata": {},
   "source": [
    "Check again in your HPE GreenLake console, and you should now see two disks attached to your VM, as shown below:\n",
    "\n",
    "![VM with two disks](./Pictures/vmwithtwodisks.png \"VM with two disks\")"
   ]
  },
  {
   "cell_type": "markdown",
   "metadata": {
    "tags": []
   },
   "source": [
    "### Use case 3: Please snap this VM\n",
    "\n",
    "Here’s another use case you can try, which consists of snapshotting the VM. You can do this by adding the following Terraform code snippet in your configuration file, in the VM resource block:\n",
    "\n",
    "```markdown\n",
    "   snapshot {\n",
    "    name        = \"Snap1\"\n",
    "    description = \"Snap this VM so we can restart from this state\"\n",
    "  }\n",
    "```\n",
    "\n",
    "Save the file, validate and apply those changes."
   ]
  },
  {
   "cell_type": "code",
   "execution_count": null,
   "metadata": {},
   "outputs": [],
   "source": [
    "terraform validate\n",
    "terraform apply -input=false -auto-approve"
   ]
  },
  {
   "cell_type": "markdown",
   "metadata": {},
   "source": [
    "Wait a little and check the details of the VM  once again, in the Backups section. You should have something similar to:\n",
    "\n",
    "![Snap of VM ready](./Pictures/vmsnapped.png \"Snap of VM ready\")"
   ]
  },
  {
   "cell_type": "markdown",
   "metadata": {},
   "source": [
    "### Use case 4: Stop this VM\n",
    "\n",
    "Let's finish this lab with one last scenario. You might want to just turn off the VMs that are part of an infrastructure when you don’t need them to save cost or limit your carbon impact on the planet. If you paid attention to the configuration file, you’ll see that we inserted a power statement when originally creating the VM. While *poweron* is the only valid option when creating a new resource of type **hpegl\\_vmaas\\_instance**, other values are available for lifecycle management, such as *poweroff* and *suspend*.\n",
    "\n",
    "Locate the following section in your configuration file:\n",
    "\n",
    "```markdown\n",
    "     }\n",
    "     power = \"poweron\"\n",
    "   }\n",
    "```\n",
    "\n",
    "And change it so that the power desired state is set to *poweroff*, as shown below:\n",
    "\n",
    "```markdown\n",
    "     }\n",
    "     power = \"poweroff\"\n",
    "   }\n",
    "```\n",
    "\n",
    "Save file, validate and apply changes a last time:"
   ]
  },
  {
   "cell_type": "code",
   "execution_count": null,
   "metadata": {},
   "outputs": [],
   "source": [
    "terraform validate\n",
    "terraform apply -input=false -auto-approve"
   ]
  },
  {
   "cell_type": "markdown",
   "metadata": {},
   "source": [
    "Pretty soon afterwards, you can check out the HPE GreenLake console and see that the VM status was changed to stopped, as shown below:\n",
    "\n",
    "![VM is now stopped](./Pictures/vmstopped.png \"VM is now stopped\")"
   ]
  },
  {
   "cell_type": "markdown",
   "metadata": {},
   "source": [
    "## Debugging when things go wrong\n",
    "\n",
    "In this lab, we’ve showed you how to make sure the Terraform configuration file is valid before applying changes using the **terraform validate** command. To see more details during an apply command, you can also enable Terraform debug by simply setting up the TF_LOG environment variable. I suggest setting it up to DEBUG but other supported values are: TRACE, INFO, WARN and ERROR.\n",
    " \n",
    "```markdown\n",
    "export TF_LOG=DEBUG\n",
    "```\n",
    "\n",
    "We can try with a **terraform validate** command:"
   ]
  },
  {
   "cell_type": "code",
   "execution_count": null,
   "metadata": {},
   "outputs": [],
   "source": [
    "export TF_LOG=DEBUG\n",
    "terraform validate"
   ]
  },
  {
   "cell_type": "markdown",
   "metadata": {},
   "source": [
    "This terminates part 2 of this workshop. In this lab, we used Terraform to perform life cycle management actions on our VM instance. Let's move to [part 3](3-WKSHP-Terraform101-DecommisioningResources.ipynb) to see how we can decommision infrastructure with Terraform.\n"
   ]
  }
 ],
 "metadata": {
  "kernelspec": {
   "display_name": "Bash",
   "language": "bash",
   "name": "bash"
  },
  "language_info": {
   "codemirror_mode": "shell",
   "file_extension": ".sh",
   "mimetype": "text/x-sh",
   "name": "bash"
  }
 },
 "nbformat": 4,
 "nbformat_minor": 4
}
