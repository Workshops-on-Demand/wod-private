{
 "cells": [
  {
   "cell_type": "markdown",
   "metadata": {},
   "source": [
    "# HPE OneView API Workshop\n",
    "## Introduction to the HPE OneView API\n",
    "To facilitate the usage of the API from various programming languages and to avoid creating code to build HTTP requests and all their attributes (headers, body), we have libraries for several languages that will take care of REST details and let you concentrate on the resources you want to manage. In this workshop we are going to use PowerShell. Version 5.0 (and later) of the HPE OneView PowerShell library is compatible with [PowerShell Core](https://github.com/PowerShell/PowerShell) and can work on different platforms, Windows of course, but also macOS and Linux.  \n",
    "\n",
    "We first need to load our HPE OneView PowerShell library "
   ]
  },
  {
   "cell_type": "code",
   "execution_count": null,
   "metadata": {},
   "outputs": [],
   "source": [
    "Import-Module HPEOneView.540"
   ]
  },
  {
   "cell_type": "markdown",
   "metadata": {},
   "source": [
    "We can get a list of all the commands provided by the library:"
   ]
  },
  {
   "cell_type": "code",
   "execution_count": null,
   "metadata": {},
   "outputs": [],
   "source": [
    "Get-Command -Module HPEOneView.540"
   ]
  },
  {
   "cell_type": "markdown",
   "metadata": {},
   "source": [
    "Let's define the IP address of the HPE OneView appliance we want to connect to."
   ]
  },
  {
   "cell_type": "code",
   "execution_count": null,
   "metadata": {},
   "outputs": [],
   "source": [
{% for key,value in OVIP.items() %}
{% if key|string == STDID|string %}
    "$appliance = \"{{ value }}\""
"{% endif %}\n",
{% endfor %}
   ]
  },
  {
   "cell_type": "markdown",
   "metadata": {},
   "source": [
    "Now we can connect to the HPE OneView appliance"
   ]
  },
  {
   "cell_type": "code",
   "execution_count": null,
   "metadata": {},
   "outputs": [],
   "source": [
    "Connect-OVMgmt -hostname $appliance -username Administrator -password password"
   ]
  },
  {
   "cell_type": "markdown",
   "execution_count": null,
   "metadata": {},
   "outputs": [],
   "source": [
    "If the login is successful, you get an authenticated session with your OneView appliance. The key to that session is a string stored in the following variable"
   ]
  },
  {
   "cell_type": "code",
   "execution_count": null,
   "metadata": {},
   "outputs": [],
   "source": [
    "$token = $global:ConnectedSessions[0].SessionID\n",
    "$token"
   ]
  },
  {
   "cell_type": "markdown",
   "metadata": {},
   "source": [
    "We can use this token to acces the REST API without using the PowerShell library, for example with curl to make a simple HTTP request, passing our session ID in a HTTP header named auth"
   ]
  },
  {
   "cell_type": "code",
   "execution_count": null,
   "metadata": {},
   "outputs": [],
   "source": [
    "curl -k \"https://$appliance/rest/network-sets\" -H \"auth: $token\" | jq ."
   ]
  },
  {
   "cell_type": "markdown",
   "metadata": {},
   "source": [
    "Try the same request without the auth header, and watch the error you get"
   ]
  },
  {
   "cell_type": "code",
   "execution_count": null,
   "metadata": {},
   "outputs": [],
   "source": [
    "curl -k \"https://$appliance/rest/network-sets\" | jq ."
   ]
  },
  {
   "cell_type": "markdown",
   "metadata": {},
   "source": [
    "The same request can be done with a PowerShell cmdlet from the library which will take care of the URL for the request (https://.../rest/network-sets), the auth header and other headers like X-API-Version. If you want, you can add the `-Verbose` option to see a lot more details about the command, including HTTP URLs and headers of the request and response"
   ]
  },
  {
   "cell_type": "code",
   "execution_count": null,
   "metadata": {},
   "outputs": [],
   "source": [
    "Get-OVNetworkSet"
   ]
  },
  {
   "cell_type": "markdown",
   "metadata": {},
   "source": [
    "Let's look at the impact of another important header: X-API-Version. It defines the version of the API endpoint your code was designed for. Each version of OneView has a corresponding API version, and no they are not the same... The mapping can be viewed in the first page of the online help for OneView titled About: https://techlibrary.hpe.com/docs/enterprise/servers/oneview5.0/cicf-api/en/index.html#about  \n",
    "For backwards compatibility, every version of OneView accepts requests for its own API version and several older versions, the list of supported and unsupported API versions is also in that help page above. It is important to understand that without an X-API-Version header in the request, OneView will assume you want the oldest version of the API it can support. Let's take an example with a feature that was added relatively recently in OneView, hypervisor cluster profiles. What happens if you try a GET on that resource without an X-API-Version header ?"
   ]
  },
  {
   "cell_type": "code",
   "execution_count": null,
   "metadata": {},
   "outputs": [],
   "source": [
    "curl -k \"https://$appliance/rest/hypervisor-cluster-profiles\" -H \"auth: $token\" | jq ."
   ]
  },
  {
   "cell_type": "markdown",
   "metadata": {},
   "source": [
    "You get a 404 error, the well-known page not found. That is simply because in older versions of the API, this resource just did not exist. Now repeat the same request with an X-API-Version header"
   ]
  },
  {
   "cell_type": "code",
   "execution_count": null,
   "metadata": {},
   "outputs": [],
   "source": [
    "curl -k \"https://$appliance/rest/hypervisor-cluster-profiles\" -H \"auth: $token\" -H \"X-API-Version: 1200\" | jq ."
   ]
  },
  {
   "cell_type": "markdown",
   "metadata": {},
   "source": [
    "Omitting the X-API-Version header is one of the most common mistakes when you use the OneView API wihout one of the helper libraries like the PowerShell one we are using in this workshop, and it can cause some head scratching because it may still work in some cases (like in the ethernet-networks example above since that resource exists since the very beginning of OneView) and not work or cause weird behavior in other cases."
   ]
  },
  {
   "cell_type": "markdown",
   "metadata": {},
   "source": [
    "## Provision a new server"
   ]
  },
  {
   "cell_type": "markdown",
   "metadata": {},
   "source": [
    "Our goal is to provision a new server to augment the capacity of a business application. We can look at the servers managed by OneView and see which ones would be available"
   ]
  },
  {
   "cell_type": "code",
   "execution_count": null,
   "metadata": {},
   "outputs": [],
   "source": [
    "Get-OVServer"
   ]
  },
  {
   "cell_type": "markdown",
   "metadata": {},
   "source": [
    "This default output does not tell us if a server has a profile assigned to it, but it doesn't show all the data. Let's look at which properties are available in a server hardware resource"
   ]
  },
  {
   "cell_type": "code",
   "execution_count": null,
   "metadata": {},
   "outputs": [],
   "source": [
    "Get-OVServer | Get-Member"
   ]
  },
  {
   "cell_type": "markdown",
   "metadata": {},
   "source": [
    "We see serverProfileUri, this is the property that tells us if a server hardware has a profile assigned to it. We want a list of servers that do not have a server profile assigned, i.e. the serverProfileUri is empty"
   ]
  },
  {
   "cell_type": "code",
   "execution_count": null,
   "metadata": {},
   "outputs": [],
   "source": [
    "Get-OVServer | Where-Object {!$_.serverProfileUri}"
   ]
  },
  {
   "cell_type": "markdown",
   "metadata": {},
   "source": [
    "For those of you more advanced in OneView PowerShell, yes there is an easier way to perform the above command, by using the -NoProfile option of Get-OVServer..."
   ]
  },
  {
   "cell_type": "code",
   "execution_count": null,
   "metadata": {},
   "outputs": [],
   "source": [
    "Get-OVServer -NoProfile"
   ]
  },
  {
   "cell_type": "markdown",
   "metadata": {},
   "source": [
    "It is fair to assume that any of these servers is available. We want to create a profile to assign to one of these servers. We have server profile templates that were created outside of this workshop"
   ]
  },
  {
   "cell_type": "code",
   "execution_count": null,
   "metadata": {},
   "outputs": [],
   "source": [
    "Get-OVServerProfileTemplate"
   ]
  },
  {
   "cell_type": "code",
   "execution_count": null,
   "metadata": {},
   "outputs": [],
   "source": [
{% for key,value in SRVNAME.items() %}
{% if key|string == STDID|string %}
    "$server_name = \"{{ value }}\"\n",
"{% endif %}\n",
{% endfor %}
{% for key,value in SHT.items() %}
{% if key|string == STDID|string %}
    "$server_hardware_type = \"{{ value }}\"\n",
"{% endif %}\n",
{% endfor %}
{% for key,value in SPTNAME.items() %}
{% if key|string == STDID|string %}
    "$server_profile_template = \"{{ value }}\"\n"
"{% endif %}\n",
{% endfor %}
   ]
  },
  {
   "cell_type": "markdown",
   "metadata": {},
   "source": [
    "You are going to use the server named server_name which is linked to Server Hardware Type server_hardware_type . So we want to create a server profile based on server profile template server_profile_template"
   ]
  },
  {
   "cell_type": "code",
   "execution_count": null,
   "metadata": {},
   "outputs": [],
   "source": [
    "$server = Get-OVServer -Name \"$server_name\"\n",
    "$spt = Get-OVServerProfileTemplate -name \"$server_profile_template\"\n",
    "New-OVServerProfile -Name \"Profile Student {{ STDID }}\" -ServerProfileTemplate $spt -server $server"
   ]
  },
  {
   "cell_type": "markdown",
   "metadata": {},
   "source": [
    "Let's look in detail at the server profile we just created. Most of its properties come from the Server Profile Template"
   ]
  },
  {
   "cell_type": "code",
   "execution_count": null,
   "metadata": {},
   "outputs": [],
   "source": [
    "get-ovserverprofile -name \"Profile Student {{ STDID }}\" | select *"
   ]
  },
  {
   "cell_type": "markdown",
   "metadata": {},
   "source": [
    "As always in PowerShell, piping is very useful. Let's determine which servers are available (no profile assigned) for our given Server Hardware Type $server_hardware_type"
   ]
  },
  {
   "cell_type": "code",
   "execution_count": null,
   "metadata": {},
   "outputs": [],
   "source": [
    "get-ovserverhardwaretype -name \"$server_hardware_type\" | get-ovserver -noprofile"
   ]
  },
  {
   "cell_type": "markdown",
   "metadata": {},
   "source": [
    "The PowerShell OneView library provides cmdlets for just about everything in the OneView REST API. In rare cases not covered by a native cmdlet, you can use the more generic function Send-OVRequest and pass it the URI you want /rest/...  \n",
    "Let's do this to get the list of active sessions on our appliance. The REST call is documented [here](https://techlibrary.hpe.com/docs/enterprise/servers/oneview5.0/cicf-api/en/index.html#rest/active-user-sessions)"
   ]
  },
  {
   "cell_type": "code",
   "execution_count": null,
   "metadata": {},
   "outputs": [],
   "source": [
    "Send-OVRequest -uri \"/rest/active-user-sessions\""
   ]
  },
  {
   "cell_type": "markdown",
   "metadata": {},
   "source": [
    "To clean up after ourselves, let's delete the server profile we created previously. This will allow us to re-create it for the same server in the Python notebook we are about to look at."
   ]
  },
  {
   "cell_type": "code",
   "execution_count": null,
   "metadata": {},
   "outputs": [],
   "source": [
    "Remove-OVServerProfile -Name \"Profile Student {{ STDID }}\" -Confirm:$false"
   ]
  },
  {
   "cell_type": "markdown",
   "metadata": {},
   "source": [
    "Finally, when we're done with our work with the OneView API, it is good practice to disconnect from the appliance to clean up the session"
   ]
  },
  {
   "cell_type": "code",
   "execution_count": null,
   "metadata": {},
   "outputs": [],
   "source": [
    "Disconnect-OVMgmt"
   ]
  }
 ],
 "metadata": {
  "kernelspec": {
   "display_name": "PowerShell",
   "language": "powershell",
   "name": "powershell"
  },
  "language_info": {
   "codemirror_mode": "shell",
   "file_extension": ".ps1",
   "mimetype": "text/x-sh",
   "name": "powershell"
  }
 },
 "nbformat": 4,
 "nbformat_minor": 4
}
