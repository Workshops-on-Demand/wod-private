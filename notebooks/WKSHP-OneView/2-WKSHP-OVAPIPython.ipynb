{
  "cells": [
    {
      "cell_type": "markdown",
      "metadata": {},
      "source": [
        "# HPE OneView API Workshop\n",
        "Introduction to the HPE OneView API\\\n",
        "[HPE OneView API Reference](https://techlibrary.hpe.com/docs/enterprise/servers/oneview5.0/cicf-api/en/index.html#about)  \n",
        "ATTENTION ! The Python library comes in 2 flavors: [oneview-python](https://github.com/HewlettPackard/oneview-python) and [python-hpOneView](https://github.com/HewlettPackard/python-hpOneView). python-hpOneView is deprecated, any new work should use oneview-python  \n",
        "Let's start by importing the module and defining the appliance we want to connect to"
      ]
    },
    {
      "cell_type": "code",
      "execution_count": null,
      "metadata": {},
      "outputs": [],
      "source": [
        "from pprint import pprint\n",
        "from hpeOneView.oneview_client import OneViewClient\n",
        "\n",
        "config = {\n",
{% for key,value in OVIP.items() %}
{% if key|string == STDID|string %}
        "    \"ip\": \"{{ value }}\",\n",
"{% endif %}\n",
{% endfor %}
        "    \"credentials\": {\n",
        "        \"userName\": \"administrator\",\n",
        "        \"password\": \"password\"\n",
        "    }\n",
        "}\n"
      ]
    },
    {
      "cell_type": "markdown",
      "metadata": {},
      "source": [
        "Now we can make the connection"
      ]
    },
    {
      "cell_type": "code",
      "execution_count": null,
      "metadata": {},
      "outputs": [],
      "source": [
        "oneview_client = OneViewClient(config)"
      ]
    },
    {
      "cell_type": "markdown",
      "metadata": {},
      "source": [
        "Get a list of server hardware managed by this appliance"
      ]
    },
    {
      "cell_type": "code",
      "execution_count": null,
      "metadata": {},
      "outputs": [],
      "source": [
        "server_hardwares = oneview_client.server_hardware\n",
        "pprint(server_hardwares.get_all())"
      ]
    },
    {
      "cell_type": "markdown",
      "metadata": {},
      "source": [
        "The output is pure unformatted JSON. Good for programming, not so much for human readability  \n",
        "Get a particular server hardware from its name"
      ]
    },
    {
      "cell_type": "code",
      "execution_count": null,
      "metadata": {},
      "outputs": [],
      "source": [
{% for key,value in SRVNAME.items() %}
{% if key|string == STDID|string %}
       "server_name = \"{{ value }}\"\n",
"{% endif %}\n",
{% endfor %}
        "server = server_hardwares.get_by_name(server_name)"
      ]
    },
    {
      "cell_type": "code",
      "execution_count": null,
      "metadata": {},
      "outputs": [],
      "source": [
        "pprint(server.data)"
      ]
    },
    {
      "cell_type": "code",
      "execution_count": null,
      "metadata": {},
      "outputs": [],
      "source": [
        "help(server)"
      ]
    },
    {
      "cell_type": "markdown",
      "metadata": {},
      "source": [
        "Let's create a server profile like we did in PowerShell. First we need to get the server profile template we want to use, and create a profile object from it. "
      ]
    },
    {
      "cell_type": "code",
      "execution_count": null,
      "metadata": {},
      "outputs": [],
      "source": [
{% for key,value in SPTNAME.items() %}
{% if key|string == STDID|string %}
       "server_profile_template = \"{{ value }}\"\n",
"{% endif %}\n",
{% endfor %}
        "tmpl = oneview_client.server_profile_templates.get_by_name(server_profile_template)\n",
        "profile = tmpl.get_new_profile()"
      ]
    },
    {
      "cell_type": "markdown",
      "metadata": {},
      "source": [
        "At this point, the profile is just an object in our local Python interpreter. We need to augment the data in our profile object with at least 2 properties: a name for the profile and a server hardware URI which represents the server we want to assign the server to"
      ]
    },
    {
      "cell_type": "code",
      "execution_count": null,
      "metadata": {},
      "outputs": [],
      "source": [
        "profile['serverHardwareUri'] = server.data['uri']\n",
        "profile['name'] = 'Profile Student {{ STDID }}'"
      ]
    },
    {
      "cell_type": "markdown",
      "metadata": {},
      "source": [
        "Now we are ready to pass our profile data to OneView to actually create and assign the server profile"
      ]
    },
    {
      "cell_type": "code",
      "execution_count": null,
      "metadata": {},
      "outputs": [],
      "source": [
        "new_profile = oneview_client.server_profiles.create(profile)"
      ]
    },
    {
      "cell_type": "markdown",
      "metadata": {},
      "source": [
        "To clean up after ourselves, we are going to delete the profile we just created"
      ]
    },
    {
      "cell_type": "code",
      "execution_count": null,
      "metadata": {},
      "outputs": [],
      "source": [
        "new_profile.delete()"
      ]
    },
    {
      "cell_type": "markdown",
      "metadata": {},
      "source": [
        "And finally, we disconnect our session"
      ]
    },
    {
      "cell_type": "code",
      "execution_count": null,
      "metadata": {},
      "outputs": [],
      "source": [
        "oneview_client.connection.logout()"
      ]
    },
    {
      "cell_type": "markdown",
      "metadata": {},
      "source": [
        "# Time to wrap up\n",
        "You can now move to the conclusion of this workshop !\n",
        "\n",
        "* [Conclusion](3-WKSHP-Conclusion.ipynb)"
      ]
    }
  ],
  "metadata": {
    "kernelspec": {
      "display_name": "Python 3",
      "language": "python",
      "name": "python3"
    },
    "language_info": {
      "codemirror_mode": {
        "name": "ipython",
        "version": 3
      },
      "file_extension": ".py",
      "mimetype": "text/x-python",
      "name": "python",
      "nbconvert_exporter": "python",
      "pygments_lexer": "ipython3",
      "version": "3.6.9"
    }
  },
  "nbformat": 4,
  "nbformat_minor": 4
}
