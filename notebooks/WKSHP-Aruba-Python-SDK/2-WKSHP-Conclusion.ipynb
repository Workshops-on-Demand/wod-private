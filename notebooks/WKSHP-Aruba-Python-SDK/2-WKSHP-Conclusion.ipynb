{
 "cells": [
  {
   "cell_type": "markdown",
   "metadata": {},
   "source": [
    "{{ BRANDINGLOGO }}   ![arubalogo](Pictures/aruba.jpg)\n",
    "\n",
    "# Thank you for visiting the Hack Shack\n",
    "\n",
    "Powered by [{{ BRANDING }} Community Team](hpedev.io)\n",
    "\n",
    "{% if MODEWS == 'CHLG' %}\n",
    "# Thank you for participating to our software challenge\n",
    "{% endif %}\n",
    "\n",
    "\n",
    "# Conclusion\n",
    "This session is intended to get you started with the pyaoscx v2 SDK.  This SDK functions as the foundation for other Aruba Automation frameworks and tools, such as Ansible and NAPALM.\n",
    "For those interested in taking their Aruba automation journey further, please reach out to our Aruba Automation PDL at [aruba-automation@hpe.com](mailto:aruba-automation@hpe.com)\n",
    "\n",
    "\n",
    "\n",
    "{% if MODEWS == 'CHLG' %}\n",
    "# The challenge is not over yet\n",
    "In order to complete the challenge, you must take the [quiz]({{ SURVEYCHALURL }}). Only then will you get a chance to become a winner! Please note that you must be present at the Hack Shack Celebration party to win. Refer to the Terms and Conditions for details.\n",
    "{% endif %}\n",
    "# Final steps\n",
    "\n",
    "### Please take a moment to fill out our [survey]({{ SURVEYURL }}).\n",
    "\n",
    "### Learn more about the {{ BRANDING }} Community\n",
    "![QRCode](Pictures/QRCode-HPEDEV.png)\n",
    "\n",
    "### And make sure you use `File -> Log Out` menu to terminate your workshop session.\n",
    "\n",
    "# Thank you\n",
    "![ThankYou](Pictures/grommet.jpg)\n",
    "\n"
   ]
  }
 ],
 "metadata": {
  "kernelspec": {
   "display_name": "Bash",
   "language": "bash",
   "name": "bash"
  },
  "language_info": {
   "codemirror_mode": "shell",
   "file_extension": ".sh",
   "mimetype": "text/x-sh",
   "name": "bash"
  }
 },
 "nbformat": 4,
 "nbformat_minor": 4
}
