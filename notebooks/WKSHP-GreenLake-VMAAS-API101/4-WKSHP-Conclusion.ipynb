{
 "cells": [
  {
   "cell_type": "markdown",
   "metadata": {},
   "source": [
    "{{ BRANDINGLOGO }}\n",
    "\n",
    "# Thank you for visiting the Hack Shack\n",
    "\n",
    "Powered by [{{ BRANDING }} Community Team](hpedev.io)\n",
    "\n",
    "{% if MODEWS == 'CHLG' %}\n",
    "# Thank you for participating to our software challenge\n",
    "{% endif %}\n",
    "\n",
    "\n",
    "# Conclusion\n",
    "\n",
    "In the following workshop, you have learned about the HPE GreenLake Private Cloud API Basics. From leveraging the basics of authentification  to the creation of your first instance and its management, you had the opportunity to discover simple yet efficient ways to automate simple VM deployment and management.\n",
    "\n",
    "Today you experienced a controlled lab environment of our {{ BRANDING }} Greenlake {{ BRANDING }} Greenlake Hack Shack tenant with some typical private cloud use cases.If you are interested in how HPE GreenLake for private cloud might work in your specific environment, where you can define use cases for your company and get full admin access and control to define policies and buildcustom instance types, please request a HPE GreenLake for private cloud trial.You can request a full trial for HPE GreenLake for private cloud by visiting our web site at [HPE GreenLake Free Private Cloud Trial](https://www.hpe.com/us/en/greenlake/private-cloud-vms/request-trial.html) or simply send an email to glhc@hpe.com. A member of the team will be in touch to discuss your unique requirements and prepare the use cases to be tested as part of the trial.\n",
    "\n",
    "Congratulations!\n",
    "\n",
    "\n",
    "{% if MODEWS == 'CHLG' %}\n",
    "# The challenge is not over yet\n",
    "In order to complete the challenge, you must take the [quiz]({{ SURVEYCHALURL }}). Only then will you get a chance to become a winner! Please note that you must be present at the Hack Shack Celebration party to win. Refer to the Terms and Conditions for details.\n",
    "{% endif %}\n",
    "# Final steps\n",
    "Please take a moment to fill out our [survey]({{ SURVEYURL }}).\n",
    "\n",
    "And make sure you use File -> Log Out menu to terminate your workshop session.\n",
    "\n",
    "# Thank you\n",
    "![ThankYou](Pictures/grommet.JPG)"
   ]
  }
 ],
 "metadata": {
  "kernelspec": {
   "display_name": "Bash",
   "language": "bash",
   "name": "bash"
  },
  "language_info": {
   "codemirror_mode": "shell",
   "file_extension": ".sh",
   "mimetype": "text/x-sh",
   "name": "bash"
  }
 },
 "nbformat": 4,
 "nbformat_minor": 4
}
