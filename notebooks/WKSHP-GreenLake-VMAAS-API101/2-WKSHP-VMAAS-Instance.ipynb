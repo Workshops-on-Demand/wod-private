{
 "cells": [
  {
   "cell_type": "markdown",
   "metadata": {},
   "source": [
    "# Provisioning\n",
    "\n",
    "## Instances\n",
    "Instances are sets of vms of various types that can be provisioned across the GreenLake for private cloud stack and a wide range of services like MySQL, Redis, ElasticSearch, PostgreSQL, Tomcat, nginx, Confluence, Jenkins, and more. There are a few important concept differentiators between what we call an instance and what amazon calls an instance. In GreenLake an instance can represent many vms that are of a set. For example. If you wanted to spin up a Mongo sharded replicaset, that requires 7 virtual machines. In GreenLake for private cloud we represent this as a singular instance with a specified layout and then represent all the associated services running within that virtual machine. The serverId represents the compute resource it was provisioned onto, (i.e. the virtual machine).\n"
   ]
  },
  {
   "cell_type": "markdown",
   "metadata": {},
   "source": [
    "# Provisioning concepts\n",
    "HPE GreenLake for private cloud enables provisioning capabilities ranging from individual virtual machines to multi-tier application topologies.\n",
    "\n",
    "HPE GreenLake for private cloud provides provisioning using the following:\n",
    "\n",
    "* Virtual images\n",
    "\n",
    "* Instance types\n",
    "\n",
    "* Blueprints\n",
    "\n",
    "Using virtual images, instance types, and blueprints, you can provision:\n",
    "\n",
    "* Instances\n",
    "\n",
    "* Apps\n",
    "\n",
    "## Virtual images\n",
    "The Virtual Image section of the HPE GreenLake for private cloud dashboard displays a list of synced images from cloud integration. A virtual image is simply a template in VMware vCenter that has been prepared with the right configuration before uploading.\n",
    "\n",
    "## Instance types\n",
    "An instance type is derived from a virtual image and can contain variants of the same service. In the following figure, the same Apache service instance type can be used to provision an instance with different versions running on different underlying images.\n",
    "\n",
    "![Instances Types](Pictures/glc_und_std_lib.png) \n",
    "\n",
    "\n",
    "## Blueprints\n",
    "A blueprint, or application blueprint, allows a user to define an application structure for easy reproducibility and deployment into various environments. Blueprints can be used to mix and match instance types to provision an application dependent on multiple layers, or tiers, of services.\n",
    "\n",
    "![Instances Types](Pictures/glc-blueprint.png)\n",
    "\n",
    "## Instances\n",
    "An instance is a representation of a resource or service. This service may involve several virtual machines. For example, when you create an instance, a particular option may contain several instance configurations. One of these configurations could be a cluster consisting of seven virtual machines. Rather than representing these directly as seven individual instances, HPE GreenLake for private cloud groups them together into a singular instance of a service that contains multiple virtual machines. This model allows for instance actions that can be performed to expand capacity on an instance (either horizontally or vertically). You can apply this concept to something such as a simple Apache web server in which 10 copies of a web server horizontally are scaled out to handle traffic.\n",
    "\n",
    "When viewing an instance detail page, you can look at details and statistics specific to a virtual machine. This feature helps simplify the management model for tracking these services.\n",
    "\n",
    "## Apps\n",
    "An app is a collection of instances linked together using application tiers. Tiers enable you to define segregated sections of connectivity between the various elements or instances within an application. Linking instances together in an application may affect instance environments and provide service discovery capabilities for them to cross-connect.\n",
    "\n",
    "Once these instances are all linked together in an application concept, this may affect instance environments and provide service discovery capabilities for them to cross-connect."
   ]
  },
  {
   "cell_type": "markdown",
   "metadata": {},
   "source": [
    "# Important Note\n",
    "The HPE GreenLake Central API Acess token has a time to live duration of 15 minutes fro security reasons.\n",
    "\n",
    "if during the course of the lab, you run an API call and get a result indicating your token is not valid : \n",
    "\n",
    "\n",
    "{\n",
    "  \"message\": \"Unable to read user authentication information.\",\n",
    "  \"details\": \"Invalid access token provided: 'Unauthorized access: Token is not valid'\",\n",
    "  \"recommendedActions\": [\n",
    "    \"Obtain a valid token and resubmit the request.\"\n",
    "  ],\n",
    "  \"errorCode\": \"UNAUTHORIZED\"\n",
    "}\n",
    "\n",
    "\n",
    "Please go back to step4 to retrieve the GreenLake Central API Acess token to copy / paste it in the token.txt file.\n",
    "\n",
    "Do not append content but replace existing token with the new one.\n",
    "\n",
    "Please re run the next cell each time you update the token in the token.txt file"
   ]
  },
  {
   "cell_type": "code",
   "execution_count": null,
   "metadata": {},
   "outputs": [],
   "source": [
    "##Generating GreenLake Service Client API Token\n",
    "#the following token is only valid for 15 minutes , please re run the cell to renew the token\n",
    "\n",
    "ACCESS_TOKEN=$(curl -X POST \"https://iam.us1.greenlake-hpe.com/oauth2/buu0lcj6alfdq0ajli4g/ausanc3firBcvcYdT357/v1/token\" --header 'Content-Type: application/x-www-form-urlencoded' \\\n",
    "--data-urlencode 'client_id={{ STUDENT_CLIENTID }}' \\\n",
    "--data-urlencode 'client_secret={{ STUDENT_CLIENTSECRET }}' \\\n",
    "--data-urlencode 'grant_type=client_credentials' \\\n",
    "--data-urlencode 'scope=hpe-tenant' |jq -r  .access_token) \n",
    "\n",
    "echo \"your api token is: $ACCESS_TOKEN\"\n",
    "\n",
    "# VMaaS Variables\n",
    "API_URL=\"https://client.greenlake.hpe.com/api/iac-vmaas/v1\"\n",
    "space=\"HPEDEV%20Workshop-on-Demand%20workshops\"\n",
    "location=\"HPE\"\n",
    "\n",
    "##GreenLake Central Login Details\n",
    "echo \"your operation context is:\" \"student{{ STDID }}\"  \"with Password:\" \"{{ PASSSTU }}{{ PASSSTU }}\""
   ]
  },
  {
   "cell_type": "markdown",
   "metadata": {},
   "source": [
    "Let's start by checking how many instances are running here"
   ]
  },
  {
   "cell_type": "code",
   "execution_count": null,
   "metadata": {},
   "outputs": [],
   "source": [
    "echo \"Listing all available instances now\"\n",
    "curl -s -X GET \\\n",
    "  \"$API_URL/instances?space=$space&location=$location\" \\\n",
    "  -H \"Authorization: $ACCESS_TOKEN\" |jq -r"
   ]
  },
  {
   "cell_type": "markdown",
   "metadata": {},
   "source": [
    "We will need the student group id as well, let 's get it as a variable now.\n"
   ]
  },
  {
   "cell_type": "code",
   "execution_count": null,
   "metadata": {},
   "outputs": [],
   "source": [
    "echo \"Getting your group Id now\"\n",
    "\n",
    "groupid=$(curl -s \"$API_URL/groups?space=$space&location=$location&name=student{{ STDID }}\" -H \"Authorization: $ACCESS_TOKEN\" |jq -r '.groups[].id')\n",
    "echo \"your student groupid is: $groupid\""
   ]
  },
  {
   "cell_type": "markdown",
   "metadata": {},
   "source": [
    "## Create now your first instance!\n",
    "\n",
    "You will deploy here a centos 7 VM named after your studentname (\"name\": \"api-vm-student{{ STDID }})\n",
    "\n",
    "### Creating an instance\n",
    "- POST /api/instances\n",
    "\n",
    "Payload: image  here\n"
   ]
  },
  {
   "cell_type": "markdown",
   "metadata": {},
   "source": [
    "### Just before we start...\n",
    "\n",
    "We will take a quick look at the existing tasks available for us. There are many ways to create a user at the deployment time. It could part of the overall student settings or you can actually use a task that will be processed at the end of the deployment as part of a workflow.\n",
    "\n",
    "The next cell will list all available tasks in the current setup. You will notice that there is a simple bash task named create user. We will leverage it to add a student user to the instance we will create.\n",
    "\n",
    "You can also take a look at the create instance API call and see at the very end of the call the task associated."
   ]
  },
  {
   "cell_type": "code",
   "execution_count": null,
   "metadata": {},
   "outputs": [],
   "source": [
    "echo \"Listing existing tasks \"\n",
    "\n",
    "curl -s \"$API_URL/tasks?space=$space&location=$location\" \\\n",
    "  -H \"Authorization: $ACCESS_TOKEN\" | jq -r"
   ]
  },
  {
   "cell_type": "markdown",
   "metadata": {},
   "source": [
    "Look for \n",
    "\"id\": 22,\n",
    "\"accountId\": 2,\n",
    "\"name\": \"Create user\","
   ]
  },
  {
   "cell_type": "code",
   "execution_count": null,
   "metadata": {},
   "outputs": [],
   "source": [
    "echo \"Creating your first HPE GreenLake Private Cloud Instance\"\n",
    "\n",
    "curl -s --request POST \"$API_URL/instances?space=$space&location=$location\" \\\n",
    "--header \"Authorization: Bearer $ACCESS_TOKEN\" \\\n",
    "--header 'Content-Type: application/json' \\\n",
    "--data-raw \"{ \"zoneId\": 1, \"instance\": { \"name\": \"vm-student{{ STDID }}-api\", \"site\": { \"id\": $groupid }, \"instanceType\": { \"code\": \"glhc-vanilla-centos\" }, \"layout\": { \"id\": 1159 }, \"plan\": { \"id\": 402 } }, \"volumes\": [ { \"name\": \"root\", \"size\": 15, \"datastoreId\": \"auto\" } ], \"networkInterfaces\": [ { \"network\": { \"id\": 7 }, \"networkInterfaceTypeId\": 4 } ], \"config\": { \"resourcePoolId\": 2, \"vmwareFolderId\": \"group-v41\" }, \"tags\": [ {\"name\": \"api-provisioned\", \"value\": \"True\"} ], \"workflow\": {\"taskSetId\": 22}  }\""
   ]
  },
  {
   "cell_type": "markdown",
   "metadata": {},
   "source": [
    "Let's now get the the VM id to be used later for managing it. We'll make it a variable for ease of use."
   ]
  },
  {
   "cell_type": "code",
   "execution_count": null,
   "metadata": {},
   "outputs": [],
   "source": [
    "echo \"Getting your VM Id now\"\n",
    "\n",
    "student{{ STDID }}vmid=$(curl -s --request GET \"$API_URL/instances?space=$space&location=$location&max=25&name=vm-student{{ STDID }}-api\" \\\n",
    "-H \"Authorization: $ACCESS_TOKEN\" |jq -r '.instances[0].id')\n",
    "\n",
    "\n",
    "echo \"your vm id is \"$student{{ STDID }}vmid"
   ]
  },
  {
   "cell_type": "markdown",
   "metadata": {},
   "source": [
    "### Note: The provisionning on the instance is quite quick. It is a matter of a minute ! We can check the its status with the following api call"
   ]
  },
  {
   "cell_type": "code",
   "execution_count": null,
   "metadata": {},
   "outputs": [],
   "source": [
    "echo \"Checking provisionning status of your student{{ STDID }} instance with id $student{{ STDID }}vmid\"\n",
    "\n",
    "curl -s --request GET \"$API_URL/instances/$student{{ STDID }}vmid?space=$space&location=$location\" \\\n",
    "-H \"Authorization: $ACCESS_TOKEN\" | jq -r '.instance.status'"
   ]
  },
  {
   "cell_type": "markdown",
   "metadata": {},
   "source": [
    "Once created and as for any Virtual machine, many operations are available to you:\n",
    "- Update\n",
    "- Stop\n",
    "- Start\n",
    "- Restart\n",
    "- Delete\n",
    "- Backup\n",
    "- Clone\n",
    "- Resize\n",
    "\n",
    "Let's see these in details now."
   ]
  },
  {
   "cell_type": "markdown",
   "metadata": {},
   "source": [
    "### Updating an instance\n",
    "\n",
    "[Updates an Instance GreenLake Doc link ](https://developer.greenlake.hpe.com/docs/greenlake/services/private-cloud/public/openapi/private-cloud-cmp-latest/operation/UpdatesAnInstance/)\n",
    "\n",
    "- PUT /instances/:id\n",
    "\n",
    "**Note: Site is alias of Group**\n",
    "\n",
    "- --name VALUE Name\n",
    "- --description VALUE Description\n",
    "- --environment VALUE Environment\n",
    "- --group GROUP Group Name or ID\n",
    "- --labels [LIST] Labels (keywords) in the format 'foo, bar'\n",
    "- --tags LIST Tags in the format 'name:value, name:value'. This will add and remove tags.\n",
    "- --add-tags TAGS Add Tags in the format 'name:value, name:value'. This will only add/update tags.\n",
    "- --remove-tags TAGS Remove Tags in the format 'name, name:value'. This removes tags, the :value component is optional and must match if passed.\n",
    "- --power-schedule-type ID Power Schedule Type ID\n",
    "- --owner USER Owner Username or ID\n",
    "\n"
   ]
  },
  {
   "cell_type": "markdown",
   "metadata": {},
   "source": [
    "Here, we will simply update the description field:\n",
    "It should be set to null as we did not specify it at the instance creation time"
   ]
  },
  {
   "cell_type": "code",
   "execution_count": null,
   "metadata": {},
   "outputs": [],
   "source": [
    "echo \"Checking the description field value\"\n",
    "\n",
    "curl -s --request GET \"$API_URL/instances/$student{{ STDID }}vmid?space=$space&location=$location\" \\\n",
    "-H \"Authorization: $ACCESS_TOKEN\" | jq -r '.instance.description'"
   ]
  },
  {
   "cell_type": "markdown",
   "metadata": {},
   "source": [
    "Let's Modify it now"
   ]
  },
  {
   "cell_type": "code",
   "execution_count": null,
   "metadata": {},
   "outputs": [],
   "source": [
    "echo \"Updating now the description field value\"\n",
    "\n",
    "curl -s --request PUT \"$API_URL/instances/$student{{ STDID }}vmid?space=$space&location=$location\" \\\n",
    "-H \"Authorization: $ACCESS_TOKEN \" \\\n",
    "-H 'Content-Type: application/json' \\\n",
    "--data-raw '{ \"instance\": {\n",
    "  \"description\": \"Description updated by API call by student{{ STDID }}\"\n",
    "  }}' | jq -r"
   ]
  },
  {
   "cell_type": "markdown",
   "metadata": {},
   "source": [
    "### Let's check the difference now : Description field should no longer be null"
   ]
  },
  {
   "cell_type": "code",
   "execution_count": null,
   "metadata": {},
   "outputs": [],
   "source": [
    "echo \"Checking the updated description field value\"\n",
    "\n",
    "curl -s --request GET \"$API_URL/instances/$student{{ STDID }}vmid?space=$space&location=$location\" \\\n",
    "-H \"Authorization: $ACCESS_TOKEN\" | jq -r '.instance.description'"
   ]
  },
  {
   "cell_type": "markdown",
   "metadata": {},
   "source": [
    "### Let's check again the status of the instance now, it should be running by now."
   ]
  },
  {
   "cell_type": "code",
   "execution_count": null,
   "metadata": {},
   "outputs": [],
   "source": [
    "echo \"Checking status of your student{{ STDID }} instance with id $student{{ STDID }}vmid\"\n",
    "\n",
    "curl -s --request GET \"$API_URL/instances/$student{{ STDID }}vmid?space=$space&location=$location\" \\\n",
    "-H \"Authorization: $ACCESS_TOKEN\" | jq -r '.instance.status'"
   ]
  },
  {
   "cell_type": "markdown",
   "metadata": {},
   "source": [
    "### Stop an instance\n",
    "\n",
    "[Stops an Instance GreenLake Doc link ](https://developer.greenlake.hpe.com/docs/greenlake/services/private-cloud/public/openapi/private-cloud-cmp-latest/operation/StopsAnInstance/)\n",
    "\n",
    "- PUT /instances/:id/stop?server=true&muteMonitoring=false\n",
    "\n",
    "- --mute-monitoring [on|off] Mute monitoring. Default is off.\n",
    "- -y, --yes Auto Confirm\n",
    "- -q, --quiet No Output, do not print to stdout"
   ]
  },
  {
   "cell_type": "code",
   "execution_count": null,
   "metadata": {},
   "outputs": [],
   "source": [
    "echo \"Stopping your student{{ STDID }} instance with id $student{{ STDID }}vmid\"\n",
    "\n",
    "curl -s --request PUT \"$API_URL/instances/$student{{ STDID }}vmid/stop?space=$space&location=$location&server=true&muteMonitoring=false\" \\\n",
    "-H \"Authorization: $ACCESS_TOKEN\" | jq -r\n",
    "\n",
    "echo \"Checking status of your student{{ STDID }} instance with id $student{{ STDID }}vmid\"\n",
    "\n",
    "curl -s --request GET \"$API_URL/instances/$student{{ STDID }}vmid?space=$space&location=$location\" \\\n",
    "-H \"Authorization: $ACCESS_TOKEN\" | jq -r '.instance.status'"
   ]
  },
  {
   "cell_type": "markdown",
   "metadata": {},
   "source": [
    "### Start an instance\n",
    "\n",
    "[Starts an Instance GreenLake Doc link ](https://developer.greenlake.hpe.com/docs/greenlake/services/private-cloud/public/openapi/private-cloud-cmp-latest/operation/StartsAnInstance/)\n",
    "\n",
    "- PUT /instances/:id/start?server=true\n",
    "\n",
    "- -y, --yes Auto Confirm\n",
    "- -q, --quiet No Output, do not print to stdout"
   ]
  },
  {
   "cell_type": "code",
   "execution_count": null,
   "metadata": {},
   "outputs": [],
   "source": [
    "echo \"Starting your student{{ STDID }} instance with id $student{{ STDID }}vmid\"\n",
    "\n",
    "curl -s --request PUT \"$API_URL/instances/$student{{ STDID }}vmid/start?space=$space&location=$location&server=true&muteMonitoring=true\" \\\n",
    "-H \"Authorization: $ACCESS_TOKEN\" | jq -r\n",
    "\n",
    "echo \"Checking status of your student{{ STDID }} instance with id $student{{ STDID }}vmid\"\n",
    "\n",
    "curl -s --request GET \"$API_URL/instances/$student{{ STDID }}vmid?space=$space&location=$location\" \\\n",
    "-H \"Authorization: $ACCESS_TOKEN\" | jq -r '.instance.status'"
   ]
  },
  {
   "cell_type": "markdown",
   "metadata": {},
   "source": [
    "### Restart an instance\n",
    "\n",
    "[Restarts an Instance GreenLake Doc link ](https://developer.greenlake.hpe.com/docs/greenlake/services/private-cloud/public/openapi/private-cloud-cmp-latest/operation/RestartsInstance/)\n",
    "\n",
    "- PUT /instances/:id/restart?server=true&muteMonitoring=true\n",
    "\n",
    "- --mute-monitoring [on|off] Mute monitoring. Default is on.\n",
    "- -y, --yes Auto Confirm\n",
    "- -q, --quiet No Output, do not print to stdout"
   ]
  },
  {
   "cell_type": "code",
   "execution_count": null,
   "metadata": {},
   "outputs": [],
   "source": [
    "echo \"Restarting your student{{ STDID }} instance with id $student{{ STDID }}vmid\"\n",
    "\n",
    "curl -s --request PUT \"$API_URL/instances/$student{{ STDID }}vmid/restart?space=$space&location=$location&server=true&muteMonitoring=true\" \\\n",
    "-H \"Authorization: $ACCESS_TOKEN\" | jq -r\n",
    "\n",
    "\n",
    "echo \"Checking status of your student{{ STDID }} instance with id $student{{ STDID }}vmid\"\n",
    "\n",
    "curl -s --request GET \"$API_URL/instances/$student{{ STDID }}vmid?space=$space&location=$location\" \\\n",
    "-H \"Authorization: $ACCESS_TOKEN\" | jq -r '.instance.status'"
   ]
  },
  {
   "cell_type": "markdown",
   "metadata": {},
   "source": [
    "### Suspend an instance\n",
    "\n",
    "[Suspends an Instance GreenLake Doc link ](https://developer.greenlake.hpe.com/docs/greenlake/services/private-cloud/public/openapi/private-cloud-cmp-latest/operation/SuspendsAnInstance/)\n",
    "\n",
    "- PUT /instances/:id/suspend?"
   ]
  },
  {
   "cell_type": "code",
   "execution_count": null,
   "metadata": {},
   "outputs": [],
   "source": [
    "echo \"Suspending your student{{ STDID }} instance with id $student{{ STDID }}vmid\"\n",
    "\n",
    "curl -s --request PUT \"$API_URL/instances/$student{{ STDID }}vmid/suspend?space=$space&location=$location\" \\\n",
    "-H \"Authorization: $ACCESS_TOKEN\" | jq -r\n",
    "\n",
    "echo \"Checking status of your student{{ STDID }} instance with id $student{{ STDID }}vmid\"\n",
    "\n",
    "curl -s --request GET \"$API_URL/instances/$student{{ STDID }}vmid?space=$space&location=$location\" \\\n",
    "-H \"Authorization: $ACCESS_TOKEN\" | jq -r '.instance.status'"
   ]
  },
  {
   "cell_type": "markdown",
   "metadata": {},
   "source": [
    "### Start again your instance"
   ]
  },
  {
   "cell_type": "code",
   "execution_count": null,
   "metadata": {},
   "outputs": [],
   "source": [
    "echo \"Starting again your student{{ STDID }} instance with id $student{{ STDID }}vmid\"\n",
    "\n",
    "curl -s --request PUT \"$API_URL/instances/$student{{ STDID }}vmid/start?space=$space&location=$location&server=true&muteMonitoring=true\" \\\n",
    "-H \"Authorization: $ACCESS_TOKEN\" | jq -r\n",
    "\n",
    "\n",
    "echo \"Checking status of your student{{ STDID }} instance with id $student{{ STDID }}vmid\"\n",
    "\n",
    "curl -s --request GET \"$API_URL/instances/$student{{ STDID }}vmid?space=$space&location=$location\" \\\n",
    "-H \"Authorization: $ACCESS_TOKEN\" | jq -r '.instance.status'"
   ]
  },
  {
   "cell_type": "markdown",
   "metadata": {},
   "source": [
    "### What about accessing the vm now ? \n",
    "Let's get the details for our centos instance. An IP address might help to connect. Some crededntials too."
   ]
  },
  {
   "cell_type": "code",
   "execution_count": null,
   "metadata": {},
   "outputs": [],
   "source": [
    "echo \" Retrieving your student{{ STDID }} instance IP Address now\"\n",
    "\n",
    "student{{ STDID }}vmip=$(curl -s --request GET \"$API_URL/instances/$student{{ STDID }}vmid?space=$space&location=$location\" \\\n",
    "-H \"Authorization: $ACCESS_TOKEN\" |jq -r '.instance.connectionInfo[0].ip')\n",
    "\n",
    "echo \"Your student{{ STDID }} instance IP Address is $student{{ STDID }}vmip\""
   ]
  },
  {
   "cell_type": "markdown",
   "metadata": {},
   "source": [
    "#### Check if vm is reachable "
   ]
  },
  {
   "cell_type": "code",
   "execution_count": null,
   "metadata": {},
   "outputs": [],
   "source": [
    "ping -c 5 $student{{ STDID }}vmip"
   ]
  },
  {
   "cell_type": "markdown",
   "metadata": {},
   "source": [
    "####  Connect now to the vm"
   ]
  },
  {
   "cell_type": "markdown",
   "metadata": {},
   "source": [
    "Click on the + button on the right hand side of the notebook UI to reach the  launcher page. Click then on the terminal tile in the other category at the bottom of the page.\n",
    "\n",
    "This will open up a new tab allowing you a proper cli access to run the ssh commands.\n",
    "\n",
    "user is `student` and password is `P@ssWkshp`\n",
    "\n",
    "\n",
    "![SSH](Pictures/wod-greenlakeapi-ssh.PNG)\n",
    "\n",
    "copy paste the content of the next cell in the terminal window to excute it"
   ]
  },
  {
   "cell_type": "code",
   "execution_count": null,
   "metadata": {},
   "outputs": [],
   "source": [
    "ssh student@$$student{{ STDID }}vmip"
   ]
  },
  {
   "cell_type": "markdown",
   "metadata": {},
   "source": [
    "## Summary:\n",
    "In this lab, you created your first instance leveraging the HPE GreenLake VMAAS API. You also managed to stop, start, restart this instance."
   ]
  },
  {
   "cell_type": "markdown",
   "metadata": {},
   "source": [
    "<br><br>\n",
    "\n",
    "## <i class=\"fas fa-2x fa-map-marker-alt\" style=\"color:#008000;\"></i>&nbsp;&nbsp;Next Steps\n",
    "\n",
    "Lab 3: Advanced Management of your Instance "
   ]
  },
  {
   "cell_type": "markdown",
   "metadata": {},
   "source": [
    "</br>\n",
    " <a href=\"1-WKSHP-VMAAS-Authentication.ipynb\" target=\"New\" title=\"Back:Authentication\"><button type=\"submit\"  class=\"btn btn-lg btn-block\" style=\"background-color:#008000;color:#fff;position:relative;width:10%; height: 30px;float: left;\"><b>Back</b></button></a>\n",
    " <a href=\"3-WKSHP-VMAAS-Instance-Advanced.ipynb#sc\" target=\"New\" title=\"Next:Advanced Management of your Instance\"><button type=\"submit\"  class=\"btn btn-lg btn-block\" style=\"background-color:#008000;color:#fff;position:relative;width:10%; height: 30px;float: right;\"><b>Next</b></button></a>\n"
   ]
  },
  {
   "cell_type": "markdown",
   "metadata": {},
   "source": [
    "<h2>Next&nbsp;&nbsp;&nbsp;&nbsp;<a href=\"3-WKSHP-VMAAS-Instance-Advanced.ipynb#sc\" target=\"New\" title=\"Next: Advanced Management of your Instance\"><i class=\"fas fa-chevron-circle-right\" style=\"color:#008000;\"></i></a></h2>"
   ]
  },
  {
   "cell_type": "code",
   "execution_count": null,
   "metadata": {},
   "outputs": [],
   "source": []
  }
 ],
 "metadata": {
  "kernelspec": {
   "display_name": "Bash",
   "language": "bash",
   "name": "bash"
  },
  "language_info": {
   "codemirror_mode": "shell",
   "file_extension": ".sh",
   "mimetype": "text/x-sh",
   "name": "bash"
  }
 },
 "nbformat": 4,
 "nbformat_minor": 4
}
