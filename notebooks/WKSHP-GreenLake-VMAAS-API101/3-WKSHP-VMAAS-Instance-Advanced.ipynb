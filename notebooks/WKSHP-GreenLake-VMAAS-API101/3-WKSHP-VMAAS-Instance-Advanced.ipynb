{
 "cells": [
  {
   "cell_type": "markdown",
   "metadata": {},
   "source": [
    "# Provisioning\n",
    "\n",
    "## Instances\n",
    "Instances are sets of vms of various types that can be provisioned across the GreenLake for private cloud stack and a wide range of services like MySQL, Redis, ElasticSearch, PostgreSQL, Tomcat, nginx, Confluence, Jenkins, and more. There are a few important concept differentiators between what we call an instance and what amazon calls an instance. In GreenLake an instance can represent many vms that are of a set. For example. If you wanted to spin up a Mongo sharded replicaset, that requires 7 virtual machines. In GreenLake for private cloud we represent this as a singular instance with a specified layout and then represent all the associated services running within that virtual machine. The serverId represents the compute resource it was provisioned onto, (i.e. the virtual machine).\n"
   ]
  },
  {
   "cell_type": "markdown",
   "metadata": {},
   "source": [
    "In this second lab, we will take care of some more advanced management features like snapshots or clones."
   ]
  },
  {
   "cell_type": "markdown",
   "metadata": {},
   "source": [
    "# Important Note\n",
    "The HPE GreenLake Central API Acess token has a time to live duration of 15 minutes fro security reasons.\n",
    "\n",
    "if during the course of the lab, you run an API call and get a result indicating your token is not valid : \n",
    "\n",
    "\n",
    "{\n",
    "  \"message\": \"Unable to read user authentication information.\",\n",
    "  \"details\": \"Invalid access token provided: 'Unauthorized access: Token is not valid'\",\n",
    "  \"recommendedActions\": [\n",
    "    \"Obtain a valid token and resubmit the request.\"\n",
    "  ],\n",
    "  \"errorCode\": \"UNAUTHORIZED\"\n",
    "}\n",
    "\n",
    "\n",
    "Please go back to step4 to retrieve the GreenLake Central API Acess token to copy / paste it in the token.txt file.\n",
    "\n",
    "Do not append content but replace existing token with the new one.\n",
    "\n",
    "Please re run the next cell each time you update the token in the token.txt file"
   ]
  },
  {
   "cell_type": "code",
   "execution_count": null,
   "metadata": {},
   "outputs": [],
   "source": [
    "##Generating GreenLake Service Client API Token\n",
    "#the following token is only valid for 15 minutes , please re run the cell to renew the token\n",
    "\n",
    "ACCESS_TOKEN=$(curl -X POST \"https://iam.us1.greenlake-hpe.com/oauth2/buu0lcj6alfdq0ajli4g/ausanc3firBcvcYdT357/v1/token\" --header 'Content-Type: application/x-www-form-urlencoded' \\\n",
    "--data-urlencode 'client_id={{ STUDENT_CLIENTID }}' \\\n",
    "--data-urlencode 'client_secret={{ STUDENT_CLIENTSECRET }}' \\\n",
    "--data-urlencode 'grant_type=client_credentials' \\\n",
    "--data-urlencode 'scope=hpe-tenant' |jq -r  .access_token) \n",
    "\n",
    "echo \"your api token is: $ACCESS_TOKEN\"\n",
    "\n",
    "# VMaaS Variables\n",
    "API_URL=\"https://client.greenlake.hpe.com/api/iac-vmaas/v1\"\n",
    "space=\"HPEDEV%20Workshop-on-Demand%20workshops\"\n",
    "location=\"HPE\"\n",
    "\n",
    "##GreenLake Central Login Details\n",
    "echo \"your operation context is:\" \"student{{ STDID }}\"  \"with Password:\" \"{{ PASSSTU }}{{ PASSSTU }}\""
   ]
  },
  {
   "cell_type": "markdown",
   "metadata": {},
   "source": [
    "Let's start by checking how many instances are running here"
   ]
  },
  {
   "cell_type": "code",
   "execution_count": null,
   "metadata": {},
   "outputs": [],
   "source": [
    "echo \"Listing all available instances now\"\n",
    "curl -s -X GET \\\n",
    "  \"$API_URL/instances?space=$space&location=$location\" \\\n",
    "  -H \"Authorization: $ACCESS_TOKEN\" |jq -r"
   ]
  },
  {
   "cell_type": "markdown",
   "metadata": {},
   "source": [
    "We will need the student group id as well, let 's get it as a variable now.\n"
   ]
  },
  {
   "cell_type": "code",
   "execution_count": null,
   "metadata": {},
   "outputs": [],
   "source": [
    "echo \"Getting your group Id now\"\n",
    "\n",
    "groupid=$(curl -s \"$API_URL/groups?space=$space&location=$location&name=student{{ STDID }}\" -H \"Authorization: $ACCESS_TOKEN\" |jq -r '.groups[].id')\n",
    "echo \"your student groupid is: $groupid\""
   ]
  },
  {
   "cell_type": "markdown",
   "metadata": {},
   "source": [
    "As we covered creation / update / start / stop / restart / suspend in the frst lab.\n",
    "\n",
    "Let's see snapshots and clones in details now."
   ]
  },
  {
   "cell_type": "markdown",
   "metadata": {},
   "source": [
    "Let's start by getting the the VM id to be used later. We'll make it a variable for ease of use."
   ]
  },
  {
   "cell_type": "code",
   "execution_count": null,
   "metadata": {},
   "outputs": [],
   "source": [
    "echo \"Getting your VM Id now\"\n",
    "\n",
    "student{{ STDID }}vmid=$(curl -s --request GET \"$API_URL/instances?space=$space&location=$location&max=25&name=vm-student{{ STDID }}-api\" \\\n",
    "-H \"Authorization: $ACCESS_TOKEN\" |jq -r '.instances[0].id')\n",
    "\n",
    "\n",
    "echo \"your vm id is \"$student{{ STDID }}vmid"
   ]
  },
  {
   "cell_type": "markdown",
   "metadata": {},
   "source": [
    "### Snapshot an instance \n",
    "\n",
    "[Create a Snaphot GreenLake Doc link ](https://developer.greenlake.hpe.com/docs/greenlake/services/private-cloud/public/openapi/private-cloud-cmp-latest/operation/SnapshotsInstance/)\n",
    "\n",
    "- PUT /instances/:id/snapshot\n",
    "-d '{snapshot}\n",
    "--name VALUE Name\n",
    "--description VALUE Description"
   ]
  },
  {
   "cell_type": "markdown",
   "metadata": {},
   "source": [
    "## Caution !!  The snapshot takes a few minutes to complete. Please be patient..."
   ]
  },
  {
   "cell_type": "code",
   "execution_count": null,
   "metadata": {},
   "outputs": [],
   "source": [
    "echo \"Creating a snapshot for your student{{ STDID }} instance with id $student{{ STDID }}vmid\"\n",
    "\n",
    "\n",
    "curl -s --request PUT \"$API_URL/instances/$student{{ STDID }}vmid/snapshot?space=$space&location=$location\" \\\n",
    "-H \"Authorization:  $ACCESS_TOKEN\" \\\n",
    "-H \"Content-Type: application/json\" \\\n",
    "-d '{ \"snapshot\": { \"name\": \"api-vm-student{{ STDID }}-snap\", \"description\": \"A snapshot created via VMAAS API Call for student{{ STDID }} instance\" }}' | jq -r"
   ]
  },
  {
   "cell_type": "markdown",
   "metadata": {},
   "source": [
    "### List now your Instance Snapshot\n",
    "- GET/api/instances/:id/snapshots\n"
   ]
  },
  {
   "cell_type": "code",
   "execution_count": null,
   "metadata": {},
   "outputs": [],
   "source": [
    "echo \"Listing your newly created snapshot\"\n",
    "\n",
    "curl -s --request GET \"$API_URL/instances/$student{{ STDID }}vmid/snapshots?space=$space&location=$location\" \\\n",
    "-H \"Authorization: $ACCESS_TOKEN\" | jq -r"
   ]
  },
  {
   "cell_type": "markdown",
   "metadata": {},
   "source": [
    "### You can also clone or resize  an instance\n",
    "\n",
    "[Clone an Instance GreenLake Doc link ](https://developer.greenlake.hpe.com/docs/greenlake/services/private-cloud/public/openapi/private-cloud-cmp-latest/operation/ClonesInstance/)\n",
    "\n",
    "[Resize an Instance GreenLake Doc link ](https://developer.greenlake.hpe.com/docs/greenlake/services/private-cloud/public/openapi/private-cloud-cmp-latest/operation/ResizesInstance/)\n",
    "\n",
    "\n",
    "- PUT /instances/:id/clone\n",
    "\n",
    "- PUT /instances/:id/resize\n",
    "\n",
    "Payload:\n",
    "\n",
    "{\n",
    "  \"instance\": {\n",
    "    \"id\": 482,\n",
    "    \"plan\": {\n",
    "      \"id\": 419\n",
    "    }\n",
    "  },\n",
    "  \"volumes\": [\n",
    "    {\n",
    "      \"id\": 643,\n",
    "      \"rootVolume\": true,\n",
    "      \"name\": \"Hard disk 1\",\n",
    "      \"size\": 10,\n",
    "      \"sizeId\": null,\n",
    "      \"storageType\": 1,\n",
    "      \"datastoreId\": \"auto\"\n",
    "    }\n",
    "  ],\n",
    "  \"deleteOriginalVolumes\": true\n",
    "}"
   ]
  },
  {
   "cell_type": "markdown",
   "metadata": {},
   "source": [
    "\n",
    "### Let's Clone your existing VM now!\n",
    "\n",
    "We will stop the vm before cloning it to prevent duplicate ips issues once the clone is up."
   ]
  },
  {
   "cell_type": "code",
   "execution_count": null,
   "metadata": {},
   "outputs": [],
   "source": [
    "echo \"Cloning your student{{ STDID }} instance with id $student{{ STDID }}vmid\"\n",
    "\n",
    "curl -s -X PUT \"$API_URL/instances/$student{{ STDID }}vmid/clone?space=$space&location=$location\"\\\n",
    "  -H \"Authorization: $ACCESS_TOKEN\" \\\n",
    "  -H \"Content-Type: application/json\" \\\n",
    "  --data-raw '{\n",
    "    \"name\": \"clone-vm-student{{ STDID }}-api\",\n",
    "    \"group\": {\n",
    "      \"id\": '$groupid'\n",
    "    }\n",
    "  }'"
   ]
  },
  {
   "cell_type": "markdown",
   "metadata": {},
   "source": [
    "### Retrieve the clone vm id now\n",
    "\n",
    "Wait a minute or so for the clone to complete."
   ]
  },
  {
   "cell_type": "code",
   "execution_count": null,
   "metadata": {},
   "outputs": [],
   "source": [
    "echo \"Getting your Clone VM Id now\"\n",
    "\n",
    "clonestudent{{ STDID }}vmid=$(curl -s --request GET \"$API_URL/instances?space=$space&location=$location&max=25&name=clone-vm-student{{ STDID }}-api\" \\\n",
    "-H \"Authorization: $ACCESS_TOKEN\" |jq -r '.instances[0].id')\n",
    "\n",
    "echo \"your clonestudent{{ STDID }} vm id is \"$clonestudent{{ STDID }}vmid\n",
    "\n",
    "\n",
    "echo \"Checking status of your clone-vm-student{{ STDID }}-api instance with id $clonestudent{{ STDID }}vmid\"\n",
    "\n",
    "curl -s --request GET \"$API_URL/instances/$clonestudent{{ STDID }}vmid?space=$space&location=$location\" \\\n",
    "-H \"Authorization: $ACCESS_TOKEN\" | jq -r '.instance.status'"
   ]
  },
  {
   "cell_type": "markdown",
   "metadata": {},
   "source": [
    "### What did we do so far ?  \n",
    "Let's get the historical details for our original centos instance. We can see through this API  call the different steps we went through during the lab, from provisionning, snapshotting and finally cloning."
   ]
  },
  {
   "cell_type": "code",
   "execution_count": null,
   "metadata": {},
   "outputs": [],
   "source": [
    "curl -s -X GET \"$API_URL/instances/$student{{ STDID }}vmid/history?space=$space&location=$location&force=on\" \\\n",
    "-H \"Authorization: $ACCESS_TOKEN\" \\\n",
    "-H \"Content-Type: application/json\" |jq -r"
   ]
  },
  {
   "cell_type": "markdown",
   "metadata": {},
   "source": [
    "### Deleting the original Instance here"
   ]
  },
  {
   "cell_type": "markdown",
   "metadata": {},
   "source": [
    "As we don't need the instance for the rest of the workshop, we will now delete it. Besides, it will prevent Ip duplicate issues when dealing with the clone."
   ]
  },
  {
   "cell_type": "code",
   "execution_count": null,
   "metadata": {},
   "outputs": [],
   "source": [
    "##Getting original Instance id\n",
    "\n",
    "echo \"Getting your original VM Id now\"\n",
    "\n",
    "student{{ STDID }}vmid=$(curl -s --request GET \"$API_URL/instances?space=$space&location=$location&max=25&name=vm-student{{ STDID }}-api\" \\\n",
    "-H \"Authorization: $ACCESS_TOKEN\" |jq -r '.instances[0].id')\n",
    "\n",
    "\n",
    "echo \"your vm id is \"$student{{ STDID }}vmid\n",
    "\n",
    "## Deleting  original instance\n",
    "echo \"Deleting your student{{ STDID }} instance now\"\n",
    "\n",
    "curl -s -X DELETE \"$API_URL/instances/$student{{ STDID }}vmid?space=$space&location=$location&force=on\" \\\n",
    "-H \"Authorization: $ACCESS_TOKEN\" \\\n",
    "-H \"Content-Type: application/json\" |jq -r\n"
   ]
  },
  {
   "cell_type": "markdown",
   "metadata": {},
   "source": [
    "Note that we make use of the force option in the deletion API call. This option will make sure we delete the associated snapshots.\n",
    "\n",
    "Clones will need to be deleted in a separate API call.\n",
    "\n",
    "Let's check about the snapshots."
   ]
  },
  {
   "cell_type": "code",
   "execution_count": null,
   "metadata": {},
   "outputs": [],
   "source": [
    "echo \"Listing your snapshot(s)\"\n",
    "\n",
    "curl -s --request GET \"$API_URL/instances/$student{{ STDID }}vmid/snapshots?space=$space&location=$location\" \\\n",
    "-H \"Authorization: $ACCESS_TOKEN\" | jq -r"
   ]
  },
  {
   "cell_type": "markdown",
   "metadata": {},
   "source": [
    "### What about accessing the clone vm now ? \n",
    "Let's get the details for our clone centos instance. An IP address might help to connect. Some crededntials too."
   ]
  },
  {
   "cell_type": "code",
   "execution_count": null,
   "metadata": {},
   "outputs": [],
   "source": [
    "echo \" Retrieving your student{{ STDID }} Clone VM IP Address now\"\n",
    "\n",
    "student{{ STDID }}clonevmip=$(curl -s --request GET \"$API_URL/instances/$clonestudent{{ STDID }}vmid?space=$space&location=$location\" \\\n",
    "-H \"Authorization: $ACCESS_TOKEN\" |jq -r '.instance.connectionInfo[0].ip')\n",
    "\n",
    "echo \"Your student{{ STDID }} clone instance IP Address is $student{{ STDID }}clonevmip \""
   ]
  },
  {
   "cell_type": "markdown",
   "metadata": {},
   "source": [
    "#### Check if Clone vm is reachable "
   ]
  },
  {
   "cell_type": "code",
   "execution_count": null,
   "metadata": {},
   "outputs": [],
   "source": [
    "ping -c 5 $student{{ STDID }}clonevmip"
   ]
  },
  {
   "cell_type": "markdown",
   "metadata": {},
   "source": [
    "####  Connect now to the clone vm"
   ]
  },
  {
   "cell_type": "markdown",
   "metadata": {},
   "source": [
    "Click on the + button on the right hand side of the notebook UI to reach the  launcher page. Click then on the terminal tile in the other category at the bottom of the page.\n",
    "\n",
    "This will open up a new tab allowing you a proper cli access to run the ssh commands.\n",
    "\n",
    "user is `student` and password is `P@ssWkshp`\n",
    "\n",
    "\n",
    "![SSH](Pictures/wod-greenlakeapi-ssh.PNG)\n",
    "\n",
    "copy paste the content of the next cell in the terminal window to excute it"
   ]
  },
  {
   "cell_type": "code",
   "execution_count": null,
   "metadata": {},
   "outputs": [],
   "source": [
    "ssh student@$student{{ STDID }}clonevmip"
   ]
  },
  {
   "cell_type": "code",
   "execution_count": null,
   "metadata": {},
   "outputs": [],
   "source": [
    "echo \"Listing your clone(s)\"\n",
    "\n",
    "curl -s -X GET \"$API_URL/instances/$student{{ STDID }}vmid/?space=$space&location=$location\"\\\n",
    "-H \"Authorization: $ACCESS_TOKEN\" \\\n",
    "-H \"Content-Type: application/json\" | jq -r"
   ]
  },
  {
   "cell_type": "markdown",
   "metadata": {},
   "source": [
    "#### Delete now to the clone vm"
   ]
  },
  {
   "cell_type": "code",
   "execution_count": null,
   "metadata": {},
   "outputs": [],
   "source": [
    "echo \"Getting your Clone VM Id now\"\n",
    "\n",
    "clonestudent{{ STDID }}vmid=$(curl -s --request GET \"$API_URL/instances?space=$space&location=$location&max=25&name=clone-vm-student{{ STDID }}-api\" \\\n",
    "-H \"Authorization: $ACCESS_TOKEN\" |jq -r '.instances[0].id')\n",
    "\n",
    "\n",
    "echo \"your clonestudent{{ STDID }} vm id is \"$clonestudent{{ STDID }}vmid\n",
    "\n",
    "## Deleting clone instance\n",
    "echo \"Deleting your student{{ STDID }} clone instance now\"\n",
    "\n",
    "curl -s -X DELETE \"$API_URL/instances/$clonestudent{{ STDID }}vmid?space=$space&location=$location&force=on\" \\\n",
    "-H \"Authorization: $ACCESS_TOKEN\" \\\n",
    "-H \"Content-Type: application/json\" |jq -r"
   ]
  },
  {
   "cell_type": "markdown",
   "metadata": {},
   "source": [
    "## Summary:\n",
    "In this lab, you managed to use the HPE GreenLake Private Cloud API to create your first snapshot and clone  before accessing the vm and deleting it."
   ]
  },
  {
   "cell_type": "markdown",
   "metadata": {},
   "source": [
    "<br><br>\n",
    "\n",
    "## <i class=\"fas fa-2x fa-map-marker-alt\" style=\"color:#008000;\"></i>&nbsp;&nbsp;Next Steps\n",
    "\n",
    "Conclusion"
   ]
  },
  {
   "cell_type": "markdown",
   "metadata": {},
   "source": [
    "</br>\n",
    " <a href=\"2-WKSHP-VMAAS-Instance.ipynb\" target=\"New\" title=\"Back: Authentification\"><button type=\"submit\"  class=\"btn btn-lg btn-block\" style=\"background-color:#008000;color:#fff;position:relative;width:10%; height: 30px;float: left;\"><b>Back</b></button></a>\n",
    " <a href=\"4-WKSHP-Conclusion.ipynb\" target=\"New\" title=\"Next:Conclusion\"><button type=\"submit\"  class=\"btn btn-lg btn-block\" style=\"background-color:#008000;color:#fff;position:relative;width:10%; height: 30px;float: right;\"><b>Next</b></button></a>\n"
   ]
  },
  {
   "cell_type": "markdown",
   "metadata": {},
   "source": [
    "<h2>Next&nbsp;&nbsp;&nbsp;&nbsp;<a href=\"3-WKSHP-VMAAS-Blueprint.ipynb#sc\" target=\"New\" title=\"Next: Tasks\"><i class=\"fas fa-chevron-circle-right\" style=\"color:#008000;\"></i></a></h2>"
   ]
  }
 ],
 "metadata": {
  "kernelspec": {
   "display_name": "Bash",
   "language": "bash",
   "name": "bash"
  },
  "language_info": {
   "codemirror_mode": "shell",
   "file_extension": ".sh",
   "mimetype": "text/x-sh",
   "name": "bash"
  }
 },
 "nbformat": 4,
 "nbformat_minor": 4
}
