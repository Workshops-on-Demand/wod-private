{
 "cells": [
  {
   "cell_type": "markdown",
   "metadata": {},
   "source": [
    "\n",
    "# Finding the data you didn't know you needed\n",
    "## Overview\n",
    "In this workshop, you’ll get to see how Project Data Map can help you discover new and meaningful datasets that enhance your model building experience, all whilst keeping track of the datasets you know and love, so next time you don’t have to go digging through old notebooks to find them! You’ll even learn how you can share them with your classmates or trade them for valuable tokens!\n",
    "\n",
    "## Architecture\n",
    "the following lab could run from your laptop or from binder but we adapted it to fit in our overall workshop infrastructure.\n",
    "We are using a vm appliance serving one docker container (containing the labs) per student.\n",
    "\n",
    "![WOD-infra](Pictures/Dockerarchi-nb.png)\n",
    "\n",
    "\n",
    "you will be moving to a second jupyter notebook environment right now using the links provided further below."
   ]
  },
  {
   "cell_type": "markdown",
   "metadata": {},
   "source": [
    "# But before you start:\n",
    "\n",
    "A few words about Project Datamap:\n",
    "\n",
    "![Project-Datmap](Pictures/project-datamap2.PNG)\n",
    "\n"
   ]
  },
  {
   "cell_type": "markdown",
   "metadata": {},
   "source": [
    "## Let us start the lab now!\n",
    "\n",
    "# Workshop Flow:\n",
    "\n",
    "* 1 Enable the CMF Extension (The workshop will leverage a CMF plugin installed as a Notebook extension in the workshop environment)\n",
    "\n",
    "\n",
    "in the notebook, please browse to extension, select CMF Jupyter Extension v2 and check it\n",
    "\n",
    "![NB extension](Pictures/nbextensions1.PNG)\n",
    "\n",
    "* 2 Navigate to the sonar projetc and open up the Getting_Started/ Mines_Project folder\n",
    "\n",
    "![sonar-project](Pictures/sonar-project-browse.PNG)\n",
    "\n",
    "* 3 Open up the sonar projetc notebook and learn about Project Datamap.\n",
    "\n",
    "![sonar-project](Pictures/sonar-project-browse2.PNG)\n",
    "\n",
    "## Click now the following links:\n",
    "\n",
    "to access your notebook: [Project Data Map lab](http://{{ JPHOSTIP }}:{{ DATASPACESHTTPPORT2 }}?token={{ PASSSTU }})\n",
    "\n",
    "to access the [Project Data Map Web UI](http://{{ JPHOSTEXT }}:{{ DATASPACESPORT4 }})"
   ]
  },
  {
   "cell_type": "markdown",
   "metadata": {},
   "source": [
    "## Now what?\n",
    "Congratulations! You have now completed this workshop!\n",
    "\n",
    "## Feedback\n",
    "\n",
    "If after following this workshop you feel that the objectives haven't been achieved, please [email me](mailto:glyn.bowdenw@hpe.com) with your feedback.\n",
    "\n",
    "\n",
    "# Time to wrap up\n",
    "You can now move to the conclusion of this workshop !\n",
    "\n",
    "* [Conclusion](2-WKSHP-Conclusion.ipynb)"
   ]
  }
 ],
 "metadata": {
  "kernelspec": {
   "display_name": "Bash",
   "language": "bash",
   "name": "bash"
  },
  "language_info": {
   "codemirror_mode": "shell",
   "file_extension": ".sh",
   "mimetype": "text/x-sh",
   "name": "bash"
  }
 },
 "nbformat": 4,
 "nbformat_minor": 4
}
