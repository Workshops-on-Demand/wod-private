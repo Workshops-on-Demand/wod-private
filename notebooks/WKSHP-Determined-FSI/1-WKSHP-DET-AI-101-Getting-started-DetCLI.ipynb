{
 "cells": [
  {
   "cell_type": "markdown",
   "id": "5a5e4bcf-e5b6-40a3-9135-b8d583505348",
   "metadata": {},
   "source": [
    "# Getting Started with Determined, the Open-Source Deep Learning Training Platform - Lab 1\n",
    "## Learning the base principles of Determined\n",
    "\n",
    "Inspired by the Bank of England paper 816 entitled \"Machine learning explainability in finance: an application to default risk analysis\" [1]from August 2019 where a U.K. mortgage dataset was used, we use the widely available public U.S. Fannie Mae mortgage dataset to show an XGBoost classifer for predicting loan delinquencies. For Fannie Mae, there are the loan acquisition files (kept in subdir acq) and loan performance files (kept in subdir perf). \n",
    "The NVIDIA developer blog article is entitled \"Explaining and Accelerating Machine Learning for Loan Delinquencies\" by Mark Bennett, John Ashley, and Patrick Hogan [3]. \n",
    "Python code began with Kyle DeGrave's article entitled \"Predicting Loan Defaults in the Fannie Mae Data Set\" [2], and further code contributions were made for acceleration, deep learning, and explainability by Emanuel Scoullos, Jochen Papenbrock, and Mark Bennett of NVIDIA. \n",
    "\n",
    "More detailed analysis of explanability approaches for portfolio construction and mortgage loans is provided in the more recent articles [4], [5], [6] by Emanual Scoullos, Jochen Papenbrock, Prabhu Ramamoorthy, Thomas Schoenemeyer, and Miguel Martinez.\n",
    "\n",
    "## Features\n",
    "Revised code for four Python Jupyter Notebooks:\n",
    "\n",
    "- `1_mortcudf_data_prep.ipynb`\n",
    "- `2_mortcudf_XGB_Pytorch.ipynb`\n",
    "- `3_mortcudf_captum.ipynb`\n",
    "- `4_mortcudf_shapley_viz.ipynb`\n",
    "\n",
    "with RAPIDS ETL code, XGBoost classifier code, SHAP value code, PyTorch classifier code, Captum code, Shapley Clustering and Visualization, and the Dockerfile are contained here. In addition, the original notebook to match the article from November 2020 is here and titled `mortcudf_xgb.ipynb`.\n",
    "\n",
    "Note that docker command below should be run just above the docker directory.\n",
    "\n",
    "## Build\n",
    "The  workshop will leverage a shared dataset. The dataset consumes up to <strong>195GB</strong> of space.  From the determined AI web ui, You will deploy a second jupyterlab environment that will leverage determined AI Agents and from wich all necessary notebooks will be run.\n",
    "\n",
    "Ensure that that PyTorch is installed with CUDA 11.1 or greater. This can be checked in the running container by running: `conda list torch`\n",
    "A satisfactory output will be `1.9.0+cu111` for Pytorch 1.9.0 with CUDA 11.1. Otherwise please pip install a later version of Pytorch: `pip3 install torch==1.9.0+cu111 -f https://download.pytorch.org/whl/torch_stable.html`\n",
    "\n",
    "\n",
    "Determined provides a Web User Interface (UI), a Command Line Interface (CLI) and APIs to interact with the Determined. In this part of the lab, you will learn how you can communicate with Determined, run tasks such as training model tasks, as well as monitor and visualize training progress and results.\n",
    "\n",
    "* You will be introduced to Determined components.\n",
    "* You will learn how to use the Determined CLI to interact with Determined.\n",
    "* You will use the Determined CLI to create a training task in order to train your Neural Network model with a single GPU.\n",
    "* You will also interact with the Determined AI WebUI and integrated TensorBoard to visualize experiments metrics and results.\n",
    "* You will finally use the Determined's Python API to interact with Determined, load the trained model and make some predictions (inferences) using the trained model.\n",
    "\n",
    "> <font color=\"green\"> **Note:** The model has already been ported to run on Determined. Porting a deep learning model code to Determined is beyond the scope of this workshop. The easiest way to learn how to port your existing deep learning model code to Determined, is to start with the [Pytorch Porting tutorial](https://docs.determined.ai/latest/tutorials/pytorch-porting-tutorial.html).</font>"
   ]
  },
  {
   "cell_type": "markdown",
   "id": "3fdc54f5-d700-44f1-8915-9811fce93e71",
   "metadata": {},
   "source": [
    "# 1- Determined components\n",
    "\n",
    "The **Determined Master** is the central component of the Determined deployment on Kubernetes. The Master is responsible for:\n",
    "\n",
    "* **Scheduling** Determined training tasks as a collection of Kubernetes PODs. The Master brings up PODs to run model training tasks (known as Trials), and auxiliary tasks such as TensorBoard instances and JupyterLab instances.\n",
    "* **Tracking and storing** all model training tasks metadata (description, labels, hyperparameters, search algorithm used, training metrics, validation metrics, start/end time, logs) in the PostgreSQL database.\n",
    "* **Serving** the Web User Interface (WebUI) for users to visualize training metrics and validation metrics across their model training tasks.\n",
    "\n",
    ">**Note:** _For this hands-on lab, the Kubernetes cluster worker nodes that run Determined software have been configured to connect to a distributed file system provided by HPE Ezmeral Runtime Enterprise (from the pre-integrated HPE Ezmeral Data Fabric). The distributed file system provides shared storage that works with Determined to enable:_ \n",
    ">* _training tasks launched as container PODs on any Kubernetes worker nodes to access the shared model training and validation datasets,_ \n",
    ">* _training tasks to save and store model training artifacts (model files, code, model definition files) and training task's checkpoints on a shared checkpoint storage. Checkpoints are saved versions of validated models that users can access later to test the model and deploy the model in production. Checkpoints are also used by Determined to ensure training work is not lost in case of system failure during a training, so Determine can retry failed training tasks from latest checkpoint._\n",
    "\n",
    "**Now, let's see the Determined in action!!!**"
   ]
  },
  {
   "cell_type": "markdown",
   "id": "19c80755-b9bd-41a6-9467-642d51095748",
   "metadata": {},
   "source": [
    "## 3- Communicating with Determined using the Determined CLI \n",
    "\n",
    "The Determined CLI is a command line tool that allows you to interact with Determined. For example, the CLI allows you to launch a new experiment to train your deep learning (DL) model. The Determined CLI is distributed as a Python package. You need a machine with Python 3.6 or later installed on your machine with Internet access. The Determined CLI has already been installed on the JupyterHub server.\n",
    "\n",
    "To use Determined and interact with Determined with the CLI, you first need to tell the CLI where the Determined Master service is running. You then need to authenticate as a user of Determined."
   ]
  },
  {
   "cell_type": "markdown",
   "id": "b287bdbd-41e9-4b4d-a16f-3aad842cc606",
   "metadata": {},
   "source": [
    "#### Set the Determined Master service endpoint URL:\n",
    "\n",
    "Any Det CLI command is in the form: ***det [-m \\<det_master_URL_or_IP:port\\>] \\<command_argument\\> \\<action_verb\\> [-h]***\n",
    "\n",
    "The Master service endpoint is referenced using the ***-m*** flag to specify the URL of the Determined Master that the CLI connects to. \n",
    "\n",
    "Instead of specifying the -m flag in every command, you can define an environmental variable: ***DET_MASTER*** that points to the Master service endpoint URL. \n",
    "\n",
    ">Note: You can use the help flag [-h] to learn more about valid options.\n"
   ]
  },
  {
   "cell_type": "markdown",
   "id": "12424d7c-e25e-435d-ba94-726938ac92df",
   "metadata": {},
   "source": [
    "Run the code cell below to get the Determined Master endpoint URL from the Kubernetes service of Determined Master. The _\"kubectl describe service\"_ command is used to get the Master URL.  "
   ]
  },
  {
   "cell_type": "code",
   "execution_count": null,
   "id": "b7ff2a74-4802-4dca-a418-8498c53c016d",
   "metadata": {},
   "outputs": [],
   "source": [
    "#\n",
    "# Getting the DeterminedAI Master service endpoint URL:\n",
    "#\n",
    "determined_master=\"https://determinedai2.hpedev.io\"\n",
    "export DET_MASTER=${determined_master}\n",
    "echo \"The Determined Master Service endpoint URL is exported as environmental variable: \" ${determined_master}"
   ]
  },
  {
   "cell_type": "markdown",
   "id": "f289f82a-8103-461c-8c5d-ad40360b1a37",
   "metadata": {},
   "source": [
    "#### Authenticate to Determined:\n",
    "Run the code cell below and follow steps 1 to 4 below to authenticate to Determined as student\\<yourId\\>: "
   ]
  },
  {
   "cell_type": "code",
   "execution_count": null,
   "id": "adb2d28d-e22a-4acb-864d-77e88be7a90c",
   "metadata": {},
   "outputs": [],
   "source": [
    "studentId=\"student{{ STDID }}\"\n",
    "password=\"{{ PASSSTU }}\"\n",
    "\n",
    "\n",
    "echo \"export DET_MASTER=${determined_master}\" \n",
    "echo \"det user login ${studentId}\"\n",
    "echo \"---------------------------\"\n",
    "echo \"copy/paste the two lines above to a Terminal\"\n",
    "echo \"your password is: ${password}\""
   ]
  },
  {
   "cell_type": "markdown",
   "id": "7d78f526-8727-4ef8-820e-ee90389b0ab7",
   "metadata": {},
   "source": [
    "1. Start a Terminal in the Launcher (navigate to Launcher tab --> Click Terminal tile; or go to Menu --> File --> New Launcher --> Terminal)\n",
    "2. In the Terminal, copy/paste the two commands above to authenticate to Determined as user Student\\<yourID\\>.\n",
    "3. Press the _Return_ key when prompted to enter a password. Please enter the password for your studentID in Determined.\n",
    "4. Then, continue from here. "
   ]
  },
  {
   "cell_type": "markdown",
   "id": "461aa3a3-48f2-4c1f-8364-202a93c022a0",
   "metadata": {},
   "source": [
    "The command below displays the Determined CLI client version and Master version. "
   ]
  },
  {
   "cell_type": "code",
   "execution_count": null,
   "id": "8b93edcd-5556-48d3-afe4-856beab9fae6",
   "metadata": {},
   "outputs": [],
   "source": [
    "det version"
   ]
  },
  {
   "cell_type": "markdown",
   "id": "b8651e8a-9ac2-4f37-8eef-d26fbab3d202",
   "metadata": {},
   "source": [
    "## 4- Launch your first Determined training workloads to train your model\n",
    "\n",
    "Let's first introduce some fundamental Determined concepts that are leveraged in this workshop.\n",
    "\n",
    "Determined permits data science teams to launch deep learning model training tasks (known as **trials**) for their models ported to Determined. These tasks are distributed across one or more GPUs as an **experiment** using a particular set of configuration parameters specified in an **experiment configuration file**.\n",
    "\n",
    "* **Experiment:** In Determined terms, an ***experiment*** is a collection of one or more DL training tasks (trials). A Determined experiment can either train a single model with a single training task using one or multiple GPUs, or it can define a search over a user-defined hyperparameter space with several training tasks.\n",
    "\n",
    "* **Trial:** Each training task in an experiment is called a ***trial***. A trial is a training task that consists of the dataset (training and validation/test dataset), a deep learning model (for example, the Python scripts that load the dataset, build and compile the model) `adjusted to run on Determined`, and _an experiment configuration file_. All the elements of a training task are put together in a `model definition directory`.\n",
    "\n",
    "* **Experiment configuration file:** Determined uses a YAML manifest file that defines how to run the training model process on Determined in terms of the ***hyperparameters***, the number of GPUs to use for each trial, the amount of data on which to train a model, how often the trial task must report the training metrics and the validation metrics to the Master, how often the trial task must save the model file, and many other parameters.\n",
    "\n",
    ">**Note:** The Experiment configuration file has some required field and some optional ones. To learn more about Experiment configuration settings, check out the online documentation [here](https://docs.determined.ai/latest/training-apis/experiment-config.html).\n",
    "\n",
    "* **Hyperparameters:** These are user-defined variables that define how a model is trained. They affect the accuracy of the trained model. By choosing the best combination of hyperparameters, you can obtain better performance for your model. "
   ]
  },
  {
   "cell_type": "markdown",
   "id": "6ea49f9e-d526-497c-97b5-2c235fd03fc0",
   "metadata": {
    "tags": []
   },
   "source": [
    "## 5- Monitor and visualize your experiment in Determined AI Web User Interface\n",
    "\n",
    "To access information on both training and validation performance, you can also simply go to the Determined **WebUI** by entering the service endpoint URL of the Determined Master in your web browser connected to the Internet.\n",
    "\n",
    "* Run the code cell below to get the Determined Master WebUI URL. \n",
    "* Then, click on the displayed link to connect. This will open a new tab in your browser with the Determined UI login banner.\n",
    "* You will be prompted to enter your credentials. Type your StudentID as credentials and press return. The password is `blank` by default.\n",
    "* Upon login you should see the WebUI **dashboard** as shown in the picture below. The Dashboard page shows an overview of tasks on the Determined system as well as an overview of the GPU resources utilization. "
   ]
  },
  {
   "cell_type": "code",
   "execution_count": 1,
   "id": "2f891aa3-f1c6-42eb-bc2a-26de08aab774",
   "metadata": {},
   "outputs": [
    {
     "name": "stdout",
     "output_type": "stream",
     "text": [
      "The Determined Master WebUI URL is: https://determinedai2.hpedev.io/\n",
      "Click the link above to connect. Login using your student Identifier: . You password is . Click on Sign In button\n"
     ]
    }
   ],
   "source": [
    "\n",
    "echo \"The Determined Master WebUI URL is: https://determinedai2.hpedev.io/\"\n",
    "echo \"Click the link above to connect. Login using your student Identifier: ${studentId}. You password is ${password}. Click on Sign In button\""
   ]
  },
  {
   "cell_type": "markdown",
   "id": "d640b616-9235-4a32-b2c9-4d1e6c91de08",
   "metadata": {},
   "source": [
    "<img src=\"Pictures/DetWebUI-Login.png\" height=\"298\" width=\"300\">\n",
    "\n",
    "From the WebUI, make sure **you select your StudentID** from the ***Users*** drop-down list as shown in the picture below. By default, the Experiments are displayed. You can select other icons to display auxiliary tasks such as TensorBoard tasks and JupyterLab tasks. We will explore these auxiliary tasks in the next sections. \n",
    "\n",
    "<img src=\"Pictures/DetWebUI-Users-v1.png\" height=\"171\" width=\"900\">\n"
   ]
  },
  {
   "cell_type": "markdown",
   "id": "2f557b46-6a9b-41e5-b436-6373405fbf20",
   "metadata": {},
   "source": [
    "##### From the dashboard, you should see the experiment as an **ACTIVE** state and its completion percentage, or as **COMPLETED**.\n",
    "\n",
    "> <font color=\"blue\"> **Important Note:** If there are multiple concurrent participants to the workshop, your experiment might not run yet because there are more experiments running than the Kubernetes cluster has GPUs. You might need to wait a few minutes until other experiments complete for your experiment to start running. </font>\n",
    "\n",
    "#### Select the most recent experiment you want to visualize.\n",
    "\n",
    "As the experiment runs, the graph is showing the model **validation** accuracy metric (_val_categorical_accuracy_) over the number of completed batches. You can see the graph changing in real time as the experiment runs.\n",
    "\n",
    "From the **Metrics** menu, under **Training Metrics**, select _categorical_accuracy_ (see picture below for an example). This metric indicates the model accuracy on **training** data while the _val_categorical_accuracy_ indicates the model accuracy on **validation** data. \n",
    "\n",
    "<img src=\"Pictures/WebUI-Exp-const-Metrics-selection.png\" height=\"297\" width=\"700\">\n",
    "\n",
    "As you can see in the graphs, the Master plots training metrics every **100 batches** of training data by default, while the validation metrics (\"validation\" accuracy) are plotted every 1000 batches based on the experiment configuration parameter _min_validation_period_.\n",
    "\n",
    "After the experiment completes, although the validation accuracy may differ from one trial to another, you can see on the experiment detail page that training the model with the hyperparameter settings in `const.yaml` yields a validation accuracy between 93% and 97%. \n",
    "\n",
    "Scroll down to see a list of training validation workloads and their metrics for the metric types you previously selected. \n",
    "You might see one or two validation workloads with checkpoints as shown in the picture below. With the default checkpoint collection policy, Determined will checkpoint the most recent validated model and the best model per training task (trial). If the most recent checkpoint is also the best checkpoint for a given trial, only one checkpoint will be saved for that trial. \n",
    "\n",
    "<img src=\"Pictures/WebUI-Exp-const-graph.png\" height=\"520\" width=\"900\">"
   ]
  },
  {
   "cell_type": "markdown",
   "id": "20a2f673-efc0-4deb-a95d-96b36d256c67",
   "metadata": {
    "tags": []
   },
   "source": [
    "## 6 - Launch a TensorBoard visualization instance as **auxiliary workload** on Determined\n",
    "\n",
    "[TensorBoard](https://www.tensorflow.org/tensorboard) is a widely used tool by ML engineers for visualizing and inspecting the learning curve of the trained deep learning models. Determined is integrated with TensorBoard for deeper analysis of your experiment and to help you examine your neural network model by viewing the training and validation loss curves for your experiment in TensorBoard. "
   ]
  },
  {
   "cell_type": "markdown",
   "id": "c492f05d-ad8d-449c-82da-26362aea2711",
   "metadata": {
    "tags": []
   },
   "source": [
    "Determined lets you launch **auxiliary workload** such as a Tensorboard server, and access TensorBoard in one-click from the WebUI, or you can run the following command in Determined’s command line:\n",
    "\n",
    "* _det tensorboard start \\<experiment_Id\\>_\n",
    "\n",
    "#### Run the code cell below to launch the TensorBoard server instance.\n",
    "\n",
    "This may take a minute or so as Determined has to launch the Tensorboard server as a Kubernetes POD. "
   ]
  },
  {
   "cell_type": "code",
   "execution_count": null,
   "id": "6992aaad-9afd-4573-ba07-a7c99e43a93e",
   "metadata": {},
   "outputs": [],
   "source": [
    "echo \"Start a Tensordboard server instance for your Experiment ${myexpId} with TensorBoard instance ID:\"\n",
    "# start the tensorBoard server instance for the experiment\n",
    "det tensorboard start -d ${myexpId}"
   ]
  },
  {
   "cell_type": "code",
   "execution_count": null,
   "id": "7c186496-a26e-4607-a1e5-402baa52e7e8",
   "metadata": {},
   "outputs": [],
   "source": [
    "mytensorboard=$(det tensorboard list | grep RUNNING | cut -d'|' -f 1 |  tr -d ' ')\n",
    "##mytensorboard=str(mytensorboard)[2:-2]\n",
    "#print (f\"{mytensorboard}\")\n",
    "echo \"Your tensorboard is running at hhttps://determinedai2.hpedev.io/proxy/${mytensorboard}/\"\n",
    "echo \"Click on the link to connect.\""
   ]
  },
  {
   "cell_type": "markdown",
   "id": "9d80fc27-adf2-4773-a179-4e37a610ebce",
   "metadata": {},
   "source": [
    "<img src=\"Pictures/TensorBoard-const-graph.png\" height=\"413\" width=\"900\">"
   ]
  },
  {
   "cell_type": "markdown",
   "id": "1e298668-ca20-46cf-a648-4cecf3176bb8",
   "metadata": {},
   "source": [
    "Determined created TensorBoard plots to show the training loss, validation loss, training accuracy and validation accuracy for the training task (trial).\n",
    "\n",
    "#### When you have finished with Tensorboard, run the code cell below to `kill` the Tensorboard process"
   ]
  },
  {
   "cell_type": "code",
   "execution_count": null,
   "id": "bb3d6f00-eb7a-41bf-a376-f44f86282e67",
   "metadata": {},
   "outputs": [],
   "source": [
    "det tensorboard kill ${mytensorboard}"
   ]
  },
  {
   "cell_type": "markdown",
   "id": "9ddc7fdd-bdaa-48fb-b689-d7063b12c3aa",
   "metadata": {
    "tags": []
   },
   "source": [
    "## 7 - List the best model created by the training process\n",
    "By default, Determined will save the most recent and the best checkpoint per training task (trial) according to the validation metrics specified in the Searcher section of the configuration file for the experiment.\n",
    "\n",
    "* _det experiment list-checkpoints [--best] [N best checkpoints to return] \\<experiment_Id\\>_\n",
    "\n",
    ">**Note**: Upon completion of the training task, if the most recent checkpoint is also the best checkpoint for a given trial, only one checkpoint will be saved for that trial by Determined. Otherwise, two checkpoints will be saved. Other checkpoints will be automatically deleted to reclaim space. You can verify this using the command below.\n",
    "\n",
    "#### Run the code cell below to display the best checkpoint(s) for your experiment"
   ]
  },
  {
   "cell_type": "code",
   "execution_count": null,
   "id": "79c5ce52-2f44-4dd0-b7cc-ca154e6ba175",
   "metadata": {},
   "outputs": [],
   "source": [
    "#list the best Trial checkpoint(s) (training task):\n",
    "det experiment list-checkpoints --best 2 ${myexpId}"
   ]
  },
  {
   "cell_type": "markdown",
   "id": "6edeaa24-b74f-441e-914e-a0f75507751a",
   "metadata": {
    "tags": []
   },
   "source": [
    "## 8 - Launch a JupyterLab instance as **auxiliary workload** on Determined\n",
    "\n",
    "Users can also launch a JupyterLab server instance as **auxiliary workload** on Determined, in which they run Jupyter Notebooks. This is useful to load and test a model that was trained during the experiment because the Determined CLI is installed into the JupyterLab server instance by default, and the JupyterLab server container has access to the shared file system where the checkpoints are stored. \n",
    "\n",
    "In the next section of this part of the lab, you can use the JupyterLab server instance on Determined to test your trained model and make predictions. \n",
    "\n",
    "Determined lets you launch an instance of a JupyterLab server in Determined in Kubernetes and access the JupyterLab server in one-click from the WebUI, or you can run the following command in Determined’s command line:\n",
    "\n",
    "* _det notebook start [--config-file configurationFile]_\n",
    "\n",
    "The configuration file is used to control aspects of the JupyterLab environment such as a description, the checkpoint volume where trial checkpoints are stored in the shared file system, and the resources (CPU or GPU) used to launch the JupyterLab server. Run the next code cell to look at the content of the configuration file.\n",
    "\n",
    "#### Run the code cell below to examine the settings for the JupyterLab instance.\n",
    "The configuration file used here allows you to launch a JupyterLab server instance that does not use any GPUs (***resources.slot=0***) and that gets access to the shared checkpoint storage area where the model artifacts are stored. The shared checkpoint storage is mounted to ***/determined_shared_fs*** mount point inside Jupyterlab container POD. "
   ]
  },
  {
   "cell_type": "code",
   "execution_count": null,
   "id": "d82e92f6-d343-4dc8-a006-b7e765a00297",
   "metadata": {},
   "outputs": [],
   "source": [
    "cat Code/notebook-config.yaml"
   ]
  },
  {
   "cell_type": "markdown",
   "id": "e7ce4700-ffd1-4104-abd7-cdcc8875146a",
   "metadata": {},
   "source": [
    "#### Run the code cell below to launch an instance of the JupyterLab\n",
    "It may take a minute or so for the JupyterLab instance to become active as Determined has to launch the JupyterLab server instance as a Kubernetes POD in the Kubernetes cluster. "
   ]
  },
  {
   "cell_type": "code",
   "execution_count": null,
   "id": "69109e4c-c5d1-4a58-b076-5202c1db670d",
   "metadata": {},
   "outputs": [],
   "source": [
    "echo \"Start a JupyterLab server instance within Determined system with instance ID:\"\n",
    "# start the Jyputer Notebook server instance for the experiment\n",
    "det notebook start -d --config-file Code/notebook-config.yaml"
   ]
  },
  {
   "cell_type": "markdown",
   "id": "325e6721-f03f-4072-9b63-b7178ca0e294",
   "metadata": {},
   "source": [
    ">**Note:** Run the code cell below. You will notice that JupyterLab instance is launched as a container POD in the Kubernetes cluster. The POD name is in the form \"_cmd-0-\\<Jupyterlab-Instance-ID\\>_\". Determined proxies HTTP requests to and from the JupyterLab container through the Determined Master node."
   ]
  },
  {
   "cell_type": "code",
   "execution_count": null,
   "id": "f4fde6bc-fa46-4bf8-996c-6223139c61e5",
   "metadata": {},
   "outputs": [],
   "source": [
    "kubectl get pod -n determinedai"
   ]
  },
  {
   "cell_type": "markdown",
   "id": "95369ccb-04fe-4641-bebe-ae5ef28f8e2b",
   "metadata": {},
   "source": [
    "#### Check the status of the JupyterLab instance using the command below:\n",
    "* _det notebook list_"
   ]
  },
  {
   "cell_type": "code",
   "execution_count": null,
   "id": "580d18fa-e82d-4478-8876-7e1315ff8ad2",
   "metadata": {},
   "outputs": [],
   "source": [
    "det notebook list | grep -e RUNNING -e STARTING"
   ]
  },
  {
   "cell_type": "markdown",
   "id": "a9e0d22a-96cf-4fcb-83c1-e7ccb87fb4e2",
   "metadata": {},
   "source": [
    "## 9- Inferences with Determined\n",
    "When you train a model with Determined, all of the artifacts (model files) associated with that training tasks are tracked and stored in the _checkpoint storage_. Determined lets you access the artifacts programmatically using the Python API from within the JupyterLab server launched on Determined system. This makes it really easy for you to export your best-performing trained model out of Determined and load it for testing the model by making **inferences** (the process of using a trained model and new unlabeled data to make a prediction).\n",
    "\n",
    "* More information about the Determined's Python API can be found [here](https://docs.determined.ai/latest/interact/api-experimental-client.html).\n",
    "* More information for downloading a trained model can be found [here](https://docs.determined.ai/latest/post-training/use-trained-models.html).\n",
    "\n",
    "#### Run the code cell to adjust some environment variables in the notebook **Inferences.ipynb**"
   ]
  },
  {
   "cell_type": "code",
   "execution_count": null,
   "id": "0c2cbfdd-1e88-492a-ac17-c1fa8cd02385",
   "metadata": {},
   "outputs": [],
   "source": [
    "sed -i \"s/USERNAME/${studentId}/\" Inferences.ipynb\n",
    "sed -i \"s/EXPID/${myexpId}/\" Inferences.ipynb\n",
    "sed -i \"s/MASTERURL/${masterUrl}/\" Inferences.ipynb\n",
    "sed -i \"s/PASSW/${password}/\" Inferences.ipynb"
   ]
  },
  {
   "cell_type": "markdown",
   "id": "0d743a57-ce49-4963-95c5-5332f6a051e1",
   "metadata": {},
   "source": [
    "#### Next, download the file **Inferences.ipynb** to your local PC/laptop. \n",
    "\n",
    "You will use this notebook to test your trained model by making some inferences from JupyterLab instance you have just launched on Determined.\n",
    "\n",
    "Right-click on the file **Inferences.ipynb** and choose **Download**."
   ]
  },
  {
   "cell_type": "markdown",
   "id": "904a598a-1920-46cd-bfc2-112737d2242a",
   "metadata": {},
   "source": [
    "#### Now, connect to the JupyterLab server instance you have just deployed: \n",
    "\n",
    "* Run the code cell below to get the JupyterLab URL. Then, click on the link to connect to the JupyterLab instance you have just launched on Determined.\n",
    "\n",
    "* On the JupyterLab instance, click the ***up arrow*** icon to **upload** the file _Inferences.ipynb_ from your local PC/laptop. Once the file is uploaded, double-click the file to open the notebook. "
   ]
  },
  {
   "cell_type": "code",
   "execution_count": null,
   "id": "3a53db3e-a19e-46c5-b10c-4dbb637d4cd9",
   "metadata": {},
   "outputs": [],
   "source": [
    "myNotebook=$(det notebook list | grep RUNNING | cut -d'|' -f 1 |  tr -d ' ')\n",
    "##echo \"${myNotebook}\"\n",
    "echo \"Your JupyterLab instance is running at http://${Internet_access}:${portUI}/proxy/${myNotebook}/\"\n",
    "echo \"Click on the link to connect to the JupyterLab instance you just launched.\"\n",
    "echo \"On JupyterLab instance, click the up arrow to upload the file Inferences.ipynb.\""
   ]
  },
  {
   "cell_type": "markdown",
   "id": "46f491a9-dd42-4792-a2ef-46f190479d95",
   "metadata": {},
   "source": [
    "> <font color=\"red\"> **IMPORTANT: When you have finished with the Inferences in JupyterLab on the Determined, please go back to your local Jupyter Notebook to run the code cells below and perform some cleanup** </font>."
   ]
  },
  {
   "cell_type": "markdown",
   "id": "7a082464-b80e-45a8-8bf3-2fac4c4126cc",
   "metadata": {},
   "source": [
    "## 10- Time to cleanup: Delete the checkpoints for your experiment to reclaim storage space in the shared file system and stop the JupyterLab instance\n",
    "\n",
    "The ***save_experiment_best***, ***save_trial_best*** and ***save_trial_latest*** parameters of the checkpoint collection policy specify which checkpoints to save. The default policy is set as follows:\n",
    "\n",
    "  * save_experiment_best:0 \n",
    "  * save_trial_best:1\n",
    "  * save_trial_latest:1\n",
    " \n",
    "The default **checkpoint garbage collection policy** dictates Determined to checkpoint the most recent (the latest) validated model and the best model per training task (trial). The “best” checkpoint for a trial is the checkpoint with the model judged best based on the validation metric defined in the Searcher settings of the experiment configuration file.\n",
    "  \n",
    "#### Run the code cell below to reclaim some storage disk space by changing the default checkpoint garbage collection policy, as shown below:"
   ]
  },
  {
   "cell_type": "code",
   "execution_count": null,
   "id": "b41024e9-3159-4fb8-8ae6-3c79515a0b0c",
   "metadata": {},
   "outputs": [],
   "source": [
    "# Delete the checkpoints data for the single model training using a single GPU\n",
    "det experiment set gc-policy --yes --save-experiment-best 0 --save-trial-best 0 --save-trial-latest 0 ${myexpId}"
   ]
  },
  {
   "cell_type": "markdown",
   "id": "796249d0-f919-4122-af5d-2a044255cd0a",
   "metadata": {},
   "source": [
    "#### Next, delete the instance of the JupyterLab server."
   ]
  },
  {
   "cell_type": "code",
   "execution_count": null,
   "id": "aad35c95-2ef6-4211-bc0e-d00eca8004ac",
   "metadata": {},
   "outputs": [],
   "source": [
    "det notebook kill ${myNotebook}"
   ]
  },
  {
   "cell_type": "markdown",
   "id": "b50463fa-d916-4422-85d9-79f7b97bdbd2",
   "metadata": {},
   "source": [
    "#### Now that you have the base principles about Determined in mind, let's explore Distributing training with Determined.\n",
    "\n",
    "Click on Lab 2 below to open a notebook to explore Distributed Training with Determined. \n",
    "* [Lab 2](2-WKSHP-DET-AI-101-Getting-started-Dist-Training.ipynb)"
   ]
  }
 ],
 "metadata": {
  "kernelspec": {
   "display_name": "Bash",
   "language": "bash",
   "name": "bash"
  },
  "language_info": {
   "codemirror_mode": "shell",
   "file_extension": ".sh",
   "mimetype": "text/x-sh",
   "name": "bash"
  }
 },
 "nbformat": 4,
 "nbformat_minor": 5
}
