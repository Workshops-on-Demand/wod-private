{
 "cells": [
  {
   "cell_type": "markdown",
   "metadata": {},
   "source": [
    "{{ BRANDINGLOGO }}\n",
    "\n",
    "# Thank you for visiting the Hack Shack\n",
    "\n",
    "Powered by [{{ BRANDING }} Community Team](hpedev.io)\n",
    "\n",
    "{% if MODEWS == 'CHLG' %}\n",
    "# Thank you for participating to our software challenge\n",
    "{% endif %}\n",
    "\n",
    "# Conclusion\n",
    "\n",
    "**Congratulations!**\n",
    "\n",
    "In this workshop, you learned the basics of Determined, an open-source deep learning training platform from HPE that makes building, training and optimizing deep learning models fast and easy with distributed training and automatic hyperparameter tuning, and without requiring any model code changes. You should now be able to demonstrate and explain running a variety of experiment types on Determined.\n",
    "\n",
    "The lab modules introduced you to some of the fundamental concepts and functionalities of Determined. You explored different deep learning (DL) training processes, such as training a deep learning model using a single GPU or multi-GPUs, distributed training and the automatic model tuning with hyperparameter search for hyperparameter optimization (HPO). You experienced how to programmatically interact with the Determined system using the Determined Command Line Interface (CLI) and the Python API for model testing and inferences. You also used the Determined Web User Interface to view and analyze the training and validation metrics collected during the training process. \n",
    "\n",
    "\n",
    "{% if MODEWS == 'CHLG' %}\n",
    "# The challenge is not over yet\n",
    "In order to complete the challenge, you must take the [quiz]({{ SURVEYCHALURL }}). Only then will you get a chance to become a winner! Please note that you must be present at the Hack Shack Celebration party to win. Refer to the Terms and Conditions for details.\n",
    "{% endif %}"
   ]
  },
  {
   "cell_type": "markdown",
   "metadata": {},
   "source": [
    "# Learn more\n",
    "\n",
    "To learn more about the open source Determined AI, check out our HPE DEV community portal [Determined AI](https://developer.hpe.com/platform/determined-ai/home/) and take advantage of the replay of the {{ BRANDING }} Munch-and-Learn session [on Golden Age of AI, Dark Ages of AI Infrastructure](https://www.youtube.com/watch?v=ktZFLD-9qgw&list=PLtS6YX0YOX4f5TyRI7jUdjm7D9H4laNlF).\n",
    "\n",
    "You can also check out the blog post [Deep Learning Model Training – A First-Time User’s Experience with Determined – Part 2](https://developer.hpe.com/blog/deep-learning-model-training-%E2%80%93-a-first-time-user%E2%80%99s-experience-with-determined-%E2%80%93-part-2/). The blog post concretizes what’s being outlined in this hands-on workshop."
   ]
  },
  {
   "cell_type": "markdown",
   "metadata": {},
   "source": [
    "# Final step\n",
    "\n",
    "### Please take a moment to fill out our [survey](https://forms.office.com/Pages/ResponsePage.aspx?id=YSBbEGm2MUuSrCTTBNGV3KHzFdd987lBoQATWJq45DdUN0hWUTIzN1JKWExPUEpGSUhYQzVIRjNQVy4u) so we can ensure future workshops meet your needs.\n",
    "\n",
    "### And make sure you use `File->Log Out` to terminate your workshop session.\n",
    "\n",
    "### You can join the {{ BRANDING }} Community by [signing up](https://developer.hpe.com/newsletter-signup) to the HPE DEV Newsletter \n",
    "\n",
    "### Learn more about the {{ BRANDING }} Community\n",
    "![QRCode](Pictures/QRCode-HPEDEV.png)\n",
    "  "
   ]
  },
  {
   "cell_type": "markdown",
   "metadata": {},
   "source": [
    "# Thank you\n",
    "![ThankYou](Pictures/grommet.jpg)"
   ]
  }
 ],
 "metadata": {
  "kernelspec": {
   "display_name": "Bash",
   "language": "bash",
   "name": "bash"
  },
  "language_info": {
   "codemirror_mode": "shell",
   "file_extension": ".sh",
   "mimetype": "text/x-sh",
   "name": "bash"
  }
 },
 "nbformat": 4,
 "nbformat_minor": 4
}
