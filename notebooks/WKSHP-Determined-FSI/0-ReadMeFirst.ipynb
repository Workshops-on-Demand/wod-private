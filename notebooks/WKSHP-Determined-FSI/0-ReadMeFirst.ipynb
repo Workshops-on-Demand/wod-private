{
 "cells": [
  {
   "cell_type": "markdown",
   "metadata": {},
   "source": [
    "![HPEDEVLogo](Pictures/hpe-dev-logo.png)                                 ![detaiLogo](Pictures/detai-logo.png)    \n",
    "\n",
    "# Welcome to Hack Shack\n",
    "[{{ BRANDING }} Community Team]({{ BRANDINGURL }})\n",
    "\n",
    "# {{ BRANDINGWOD }} {% if MODEWS == 'WKSHP' %}Workshop{% else %}Challenge{% endif %}\n",
    "\n",
    "{% if MODEWS == 'CHLG' %}    The challenge consists of:\n",
    "* A worskhop to complete\n",
    "* A simple quiz to answer\n",
    "\n",
    "To complete the workshop, you need to go through the different labs that make up the workshop. Labs are made of cells that needs to be executed. The quiz is related to the workshop you have selected. There are only a few questions to answer (up to 3 maximum).\n",
    "{% endif %}\n",
    "\n",
    "# Getting started with Determined, the open-source deep learning training platform (FSI)\n",
    "\n",
    "*Version: open source Determined 0.18.4+*\n",
    "\n",
    "Determined AI (or Determined) is an open source platform built to accelerate deep learning (DL) experimentation for data science teams. These teams can use Determined to build, train, and optimize their deep learning models. Determined provides the tools for accelerating experiments, such as distributing training and automatic model tuning, with hyperparameter search, also known as hyperparameter optimization (HPO). \n",
    "\n",
    "In this workshop, you will learn about some fundamental features and terminology of Determined. You will take a specific deep learning model and walk through how to interact with the Determined system to train the DL model and visualize the result of the training process. You will experience how Determined makes it easy for ML engineers and data scientists to train deep learning models on one or more GPUs to accelerate training processes, and how it simplifies hyperparameter optimization (HPO) to improve model accuracy and find the best version of a model. \n",
    "\n",
    ">**Note:** _This workshop is not intended to teach you about AI/ML/DL or how to \"port\" your deep learning model to Determined. It is intended to give a use case for data science and ML engineers to get started with Determined and some of its fundamental concepts and features. The DL model used in this hands-on workshop is abbreviated from [an nvidia FSI sample : the credit_default_risk](https://github.com/NVIDIA/fsi-samples/tree/main/credit_default_risk)._\n",
    "\n",
    "\n",
    "\n",
    "# Authors: [Scott Johnson](mailto:scott.johnson@hpe.com)\n",
    "\n",
    "<p align=\"center\">\n",
    "  <img src=\"Pictures/hackshackdisco.png\">\n",
    "  \n",
    "</p>\n",
    "\n",
    "## Handouts\n",
    "{{ BRANDINGWOD }} Workshops-on-Demand are delivered through a central point that allows a portable, dynamic version of the lab guides. Rather than using standard PDF files which always end in copy / paste errors from the lab guide into the TS sessions, this year we decided to innovate and introduce a brand-new infrastructure. We will leverage a JupyterHub server on which all the different lab guides will be stored in a notebook format (*.ipynb).\n",
    "\n",
    "You can freely copy the Jupyter Notebooks, including their output, in order to practice back at your office at your own pace, leveraging a local installation of Jupyter Notebook on your laptop.\n",
    "- You install the Jupyter Notebook application from [here](https://jupyter.org/install). \n",
    "- A Beginners Guide is also available [here](https://jupyter-notebook-beginner-guide.readthedocs.io/en/latest/what_is_jupyter.html)\n",
    "\n",
    "## A quick look at Jupyter Notebook\n",
    "Jupyter Notebook is an open source solution for interactive documents that are commonly used to hold code for ML/DL models. \n",
    "A Notebook consists of cells. A cell can be a markdown cell (contains comments, text, images) or a code cell. \n",
    "\n",
    "To execute code within the Notebook, you run each cell in turn by clicking on the ***Play button*** in the menu bar of the Notebook.\n",
    "\n",
    "> **Note:**  When you see a [*] next to the action it means your execution step is busy working within the notebook. When you see a digit number, it means the execution of the step is completed.  \n",
    "\n",
    "![QickLookNotebook](Pictures/Quick-look-Notebook.png)\n",
    "\n",
    "Enjoy the labs ! :-)\n"
   ]
  },
  {
   "cell_type": "markdown",
   "metadata": {},
   "source": [
    "## Learn more\n",
    "\n",
    "Visit the technical documentation [here](https://docs.determined.ai/latest/) for how to get started with Determined, and check out the [Determined GitHub repository](https://github.com/determined-ai/determined). \n",
    "\n",
    "You can also check out the blog post [Deep Learning Model Training – A First-Time User’s Experience with Determined – Part 2](https://developer.hpe.com/blog/deep-learning-model-training-%E2%80%93-a-first-time-user%E2%80%99s-experience-with-determined-%E2%80%93-part-2/). The blog post concretizes what’s being outlined in this hands-on workshop.\n",
    "\n",
    "Be sure to also join the [Determined Community Slack group]( https://join.slack.com/t/determined-community/shared_invite/zt-cnj7802v-KcVbaUrIzQOwmkmY7gP0Ew). "
   ]
  },
  {
   "cell_type": "markdown",
   "metadata": {
    "jp-MarkdownHeadingCollapsed": true,
    "tags": []
   },
   "source": [
    "# Lab Environment\n",
    "\n",
    "Determined is open source and it can be deployed on-premises in your data center, on any hardware, on Kubernetes, or in public clouds. \n",
    "\n",
    "For this workshop, the Determined deployment consists of Determined software deployed as an on-premises cluster, with GPUs. It runs on a single server but not a simple one:\n",
    "* Apollo 6500 gen10+\n",
    "* 2x CPU AMD 7763 (64 cores)\n",
    "* 1 TB of RAM\n",
    "* 8x A100 GPUs \n",
    "* SXM4 80GB\n",
    "* 3TB NVME\n",
    "\n",
    "You are all sharing the cluster resources with other participants.\n",
    "\n",
    "The diagram below depicts the components that make the Determined environment on the Kubernetes cluster. \n",
    "\n",
    "<img src=\"Pictures/detai1.PNG\" height=\"382\" width=\"700\" align=\"right\">\n",
    "\n",
    "\n",
    "\n",
    "The Determined consists of:\n",
    "* A **Master**, which is attached to a **PostgreSQL** database. The Master and Database run as containers on the Appollo server.\n",
    "    * The Master hosts the interfaces service endpoint that clients use to communicate with Determined, through a CLI, WebUI, and APIs. \n",
    "    * The Master brings up PODs on the Kubernetes worker nodes to run tasks on demand; for example, the model training tasks and auxiliary tasks such as TensorBoard and JupyterLab Notebook.\n",
    "    * As training tasks execute, the Master remains in communication with the training tasks PODs and saves training model metadata (for example the training & validation metrics received from the training tasks), as well as the state of the tasks in the PostgreSQL database for model experiment tracking and analysis.  "
   ]
  },
  {
   "cell_type": "markdown",
   "metadata": {},
   "source": [
    "# Lab Workflow  TBD"
   ]
  },
  {
   "cell_type": "markdown",
   "metadata": {},
   "source": [
    "## Lab 1: Learning the base principles of Determined\n",
    "In this first lab, you will be introduced to Determined components and some of its important concepts and terminology. You will learn how to interact with **Determined** deployed on Kubernetes using the Determined CLI. You will launch your first training task within an experiment to train a deep learning model with Determined. You will also monitor and visualize the training task progress for your experiment and gather the metrics of the training for analyzing results using Determined WebUI and the integrated TensorBoard. Finally, you'll launch a JupyterLab server task from within Determined, load your trained model, and test it by making predictions.\n",
    "\n",
    "* [Lab 1](1-WKSHP-DET-AI-101-Getting-started-DetCLI.ipynb)\n",
    "\n",
    "## Labs 2: Distributed training with Determined\n",
    "For this part of the lab, you will learn how to create an experiment that trains a single instance of the model with multiple GPUs, a process known as **Distributed Training**, without requiring any model code changes.\n",
    "\n",
    "* [Lab 2](2-WKSHP-DET-AI-101-Getting-started-Dist-Training.ipynb)\n",
    "\n",
    "## Labs 3: Hyperparameter optimization with Determined\n",
    "For this part of the lab, you will explore how Determined's ***automatic model tuning*** with hyperparameter search, also known as hyperparameter optimization (HPO), can help improve the model accuracy and let you find the best combination of hyperparameters that yields the best version of your model, without requiring any model code changes. \n",
    "\n",
    "* [Lab 3](3-WKSHP-DET-AI-101-Getting-started-HPO.ipynb)\n",
    "\n",
    "## Join the {{ BRANDING }} Community\n",
    "![QRCode](Pictures/QRCode-HPEDEV.png)\n",
    "\n",
    "# Thank you!\n",
    "![grommet.JPG](Pictures/grommet.jpg)"
   ]
  }
 ],
 "metadata": {
  "kernelspec": {
   "display_name": "Python 3 (ipykernel)",
   "language": "python",
   "name": "python3"
  },
  "language_info": {
   "codemirror_mode": {
    "name": "ipython",
    "version": 3
   },
   "file_extension": ".py",
   "mimetype": "text/x-python",
   "name": "python",
   "nbconvert_exporter": "python",
   "pygments_lexer": "ipython3",
   "version": "3.8.10"
  }
 },
 "nbformat": 4,
 "nbformat_minor": 4
}
