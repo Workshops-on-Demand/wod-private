{
 "cells": [
  {
   "cell_type": "markdown",
   "metadata": {},
   "source": [
    "# AI 101 CNN - Lab 1\n",
    "## Deploy a local Jupyter Notebook cluster on HPE Ezmeral Runtime Enterprise"
   ]
  },
  {
   "cell_type": "markdown",
   "metadata": {},
   "source": [
    "### **Lab workflow:**\n",
    "\n",
    "In this lab:\n",
    "\n",
    "1. As tenant user, you will deploy a local Jupyter Notebook server on HPE Ezmeral Runtime Enterprise (formerly known as HPE Ezmeral Container Platform) and use it as a code sandbox to get started with Deep Learning Neural Network model.\n",
    "\n",
    "2. You will then access your local Jupyter Notebook web UI and dive into the typical data scientist work to develop a deep learning model."
   ]
  },
  {
   "cell_type": "markdown",
   "metadata": {},
   "source": [
    "#### Initialize the environment:\n",
    "\n",
    "Let's first define the environment variables needed to execute this lab part."
   ]
  },
  {
   "cell_type": "code",
   "execution_count": null,
   "metadata": {},
   "outputs": [],
   "source": [
    "#\n",
    "# environment variables to be verified by the student\n",
    "#\n",
    "studentId=\"student{{ STDID }}\" # your Jupyter Notebook student Identifier (i.e.: student<xx>)\n",
    "username=\"student{{ STDID }}\" # your HPE ERE tenant login credentials - username \n",
    "password=\"{{ PASSSTU }}\" # your HPE ERE tenant login credentials - password - Please replace with password provided in your registration\n",
    "\n",
    "tenantname=\"K8sMLTenant\" #case sensitive\n",
    "#\n",
    "# fixed environment variables setup by the HPE ECP lab administrator - Please DO NOT MODIFY!!\n",
    "#\n",
    "gateway_host=\"{{ HPEECPGWNAME }}\"\n",
    "controller_endpoint=\"${gateway_host}:8080\"\n",
    "Internet_access=\"{{ JPHOSTEXT }}\"\n",
    "\n",
    "clusterName=\"jupyter-notebook-${studentId}\"\n",
    "JupyterNotebookApp=\"cr-cluster-jupyter-notebook.yaml\" # the Jupyter Notebook KD App manifest you will deploy to build your model\n",
    "sc_secret=\"sc-secret-AI101-students.yaml\"\n",
    "kc_secret=\"kc-secret-AI101-students.yaml\" #the kubeconfig secret object for the tenant user.\n",
    "\n",
    "echo \"your operation context is:\" $username \"on tenant\" $tenantname \n",
    "#echo \"your REST API endpoint is:\" $controller_endpoint"
   ]
  },
  {
   "cell_type": "markdown",
   "metadata": {},
   "source": [
    "#### Authenticate as a tenant user in the specified tenant:"
   ]
  },
  {
   "cell_type": "code",
   "execution_count": null,
   "metadata": {},
   "outputs": [],
   "source": [
    "sessionlocation=$(curl -k -i -s --request POST \"https://${controller_endpoint}/api/v2/session\" \\\n",
    "--header 'Accept: application/json' \\\n",
    "--header 'Content-Type: application/json' \\\n",
    "--data-raw '{\n",
    "\"name\": \"'\"$username\"'\",\n",
    "\"password\": \"'\"$password\"'\",\n",
    "\"tenant_name\": \"'\"$tenantname\"'\"\n",
    "}' | grep Location | awk '{print $2}' | tr -d '\\r') #we remove any cr that might exist\n",
    "echo \"This is your session location: \" $sessionlocation\n",
    "SessionId=$(echo $sessionlocation | cut -d'/' -f 5) # extract sessionId for later, for logout\n",
    "echo \"This is your session_Id:\" $SessionId"
   ]
  },
  {
   "cell_type": "markdown",
   "metadata": {},
   "source": [
    "#### Get the Kubeconfig file for your tenant working context:"
   ]
  },
  {
   "cell_type": "code",
   "execution_count": null,
   "metadata": {},
   "outputs": [],
   "source": [
    "mkdir -p ~/.kube\n",
    "ls ~/.kube\n",
    "rm -f ~/.kube/config\n",
    "curl -k -s --request GET \"https://${controller_endpoint}/api/v2/k8skubeconfig\" \\\n",
    "--header \"X-BDS-SESSION: $sessionlocation\" \\\n",
    "--header 'Accept: application/json' \\\n",
    "--header 'Content-Type: application/json' > ~/.kube/config\n",
    "#\n",
    "echo \"Kubeconfig file fetched. Your current Kubernetes working context is: \"\n",
    "kubectl config current-context"
   ]
  },
  {
   "cell_type": "markdown",
   "metadata": {},
   "source": [
    "## Deploying your local Jupyter Notebook cluster"
   ]
  },
  {
   "cell_type": "code",
   "execution_count": null,
   "metadata": {},
   "outputs": [],
   "source": [
    "#Create the encrypted form of the user-specific kubeconfig file \n",
    "config=$(cat ~/.kube/config | base64)\n",
    "kcConfig=$(echo $config | tr -d '\\r' | tr -d ' ') #we remove any potential spaces\n",
    "#\n",
    "cat > $kc_secret << EOF\n",
    "apiVersion: v1\n",
    "kind: Secret\n",
    "metadata:\n",
    "  name: kc-secret-ai101-$studentId\n",
    "  labels:\n",
    "    kubedirector.hpe.com/secretType: kubeconfig\n",
    "    kubedirector.hpe.com/username: $studentId\n",
    "data:\n",
    "   config: $kcConfig\n",
    "EOF\n",
    "\n",
    "#cat $kc_secret"
   ]
  },
  {
   "cell_type": "code",
   "execution_count": null,
   "metadata": {},
   "outputs": [],
   "source": [
    "kubectl apply -f $kc_secret\n",
    "kubectl apply -f $sc_secret\n",
    "kubectl apply -f $JupyterNotebookApp"
   ]
  },
  {
   "cell_type": "markdown",
   "metadata": {},
   "source": [
    "After a few seconds, you should get the response message to your K8s API request: *kubedirectorcluster/Your-instance-name created*.  "
   ]
  },
  {
   "cell_type": "markdown",
   "metadata": {},
   "source": [
    "## Check the deployment status of the local Jupyter Notebook cluster"
   ]
  },
  {
   "cell_type": "markdown",
   "metadata": {},
   "source": [
    "You can use the command below to observe the deployment status of the local Jupyter Notebook server.\n",
    "\n",
    "The virtual cluster status indicates its overall \"state\" (top-level property of the status object). It should have a value of **\"configured\"**. "
   ]
  },
  {
   "cell_type": "markdown",
   "metadata": {},
   "source": [
    "**Repeat the command below until the kdcluster is in state \"configured\"**"
   ]
  },
  {
   "cell_type": "code",
   "execution_count": null,
   "metadata": {},
   "outputs": [],
   "source": [
    "kubectl describe kdcluster $clusterName"
   ]
  },
  {
   "cell_type": "markdown",
   "metadata": {},
   "source": [
    "## Get the local Jupyter Notebook service endpoint"
   ]
  },
  {
   "cell_type": "code",
   "execution_count": null,
   "metadata": {},
   "outputs": [],
   "source": [
    "#\n",
    "# Getting the service endpoint URL:\n",
    "#\n",
    "JupyterAppURL=$(kubectl describe service -l  kubedirector.hpe.com/kdcluster=${clusterName} | grep gateway/8000 | awk '{print $2}')\n",
    "JupyterAppPort=$(echo $JupyterAppURL | cut -d':' -f 2) # extract the gateway re-mapped port value.\n",
    "myJupyterApp_endpoint=\"https://$gateway_host:$JupyterAppPort\"\n",
    "#echo \"Your application service endpoint re-mapped port is: \"$JupyterAppPort\n",
    "#echo \"Your Intranet application service endpoint is: \"$myJupyterApp_endpoint\n",
    "echo \"Your Jupyter Notebook service endpoint URL is: https://\"$Internet_access:$JupyterAppPort\n",
    "echo \"Your local Jupyter Notebook web UI login credentials are: $username / $password\"\n",
    "#"
   ]
  },
  {
   "cell_type": "markdown",
   "metadata": {},
   "source": [
    "## Connect to your local Jupyter Notebook web UI\n",
    "Click the service endpoint URL above to connect to your Jupyter Notebook server.\n",
    "This opens a Jupyter Notebook login screen in a new browser tab. **Use the login credentials from step above to authenticate.** \n",
    "\n",
    ">**Important Note:** Once logged in to your local Jupyter Notebook server, navigate to folder ***/source_control/sc-secret-ai101-\\<YourStudentId\\>/***, then go to ***AI101-CNN*** directory to access the A1 101 CNN notebook: ***MNIST_CNN_Hack_Shack.ipynb***.\n",
    "\n",
    "> <font color=\"red\"> **Note:** On Windows PC, ***Firefox*** is the recommended browser to connect to your local Jupyter Notebook UI. When using **Chrome** you may observe a message _\"Server Not Running\"_, in which case just click Restart button.</font>\n",
    "\n",
    "> <font color=\"red\"> **Note:** If you are seeing a security warning about the certificate while connecting to the local Jupyter Notebook web UI, please accept the risk and proceed to continue.</font>\n",
    "\n",
    "Enjoy your learning experience about AI 101 Convolutional neural network (CNN)!"
   ]
  },
  {
   "cell_type": "markdown",
   "metadata": {},
   "source": [
    "### **Time to go through some cleanup**"
   ]
  },
  {
   "cell_type": "markdown",
   "metadata": {},
   "source": [
    "Delete your secret and your local Jupyter Notebook cluster"
   ]
  },
  {
   "cell_type": "code",
   "execution_count": null,
   "metadata": {},
   "outputs": [],
   "source": [
    "kubectl delete -f $kc_secret\n",
    "rm -f $kc_secret\n",
    "kubectl delete -f $sc_secret\n",
    "kubectl delete -f $JupyterNotebookApp"
   ]
  },
  {
   "cell_type": "code",
   "execution_count": null,
   "metadata": {},
   "outputs": [],
   "source": [
    "curl -k -i -s --request DELETE \"https://${controller_endpoint}/api/v2/session/${SessionId}\" \\\n",
    "--header \"X-BDS-SESSION: $sessionlocation\" \\\n",
    "--header 'Accept: application/json' \\\n",
    "--header 'Content-Type: application/json'"
   ]
  },
  {
   "cell_type": "markdown",
   "metadata": {},
   "source": [
    "Thank you!!!"
   ]
  }
 ],
 "metadata": {
  "kernelspec": {
   "display_name": "Bash",
   "language": "bash",
   "name": "bash"
  },
  "language_info": {
   "codemirror_mode": "shell",
   "file_extension": ".sh",
   "mimetype": "text/x-sh",
   "name": "bash"
  }
 },
 "nbformat": 4,
 "nbformat_minor": 4
}
