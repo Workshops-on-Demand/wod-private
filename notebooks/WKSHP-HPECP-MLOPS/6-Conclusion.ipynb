{
 "cells": [
  {
   "cell_type": "markdown",
   "metadata": {},
   "source": [
    "![HPEDEVLogo](Pictures/hpe-dev-logo.png)\n",
    "\n",
    "# Thank you for visiting the Hack Shack\n",
    "\n",
    "Powered by [{{ BRANDING }} Community Team](hpedev.io)\n",
    "\n",
    "{% if MODEWS == 'CHLG' %}\n",
    "# Thank you for participating to our software challenge\n",
    "{% endif %}\n",
    "\n",
    "# Conclusion\n",
    "\n",
    "**Congratulations!**\n",
    "\n",
    "You have completed the steps to implement a machine learning pipeline that streamlines a basic end-to-end data science machine learning workflow that is seen in the industry today, from data preparation, model development and training to model deployment in production using HPE Ezmeral ML Ops software platform.  \n",
    "\n",
    "You experienced how HPE Ezmeral ML Ops and its integrated collaboration capabilities:\n",
    "\n",
    "* enable data science team, armed with Jupyter Notebook, to focus on rapid experimentation with shared and source controlled notebooks and code scripts without worrying about the underlying infrastructure\n",
    "* reduce the time to deliver models to production so client applications can consume the models easily through a secure RESTful API service\n",
    "* improve models tracking and versioning\n",
    "* enhance collaboration between data science team and operations team.\n",
    "\n",
    "All of this using a single, easy-to-use and secure platform!"
   ]
  },
  {
   "cell_type": "markdown",
   "metadata": {},
   "source": [
    "# Learn more\n",
    "\n",
    "To learn more about data science with HPE Ezmeral ML Ops, check out this community webinar:\n",
    "\n",
    "* [Hands-on Data Science with HPE Ezmeral](https://www.brighttalk.com/webcast/12641/462781) "
   ]
  },
  {
   "cell_type": "markdown",
   "metadata": {},
   "source": [
    "# Final step\n",
    "\n",
    "### Please take a moment to fill out our [survey](https://forms.office.com/Pages/ResponsePage.aspx?id=YSBbEGm2MUuSrCTTBNGV3KHzFdd987lBoQATWJq45DdUN0hWUTIzN1JKWExPUEpGSUhYQzVIRjNQVy4u) so we can ensure future workshops meet your needs.\n",
    "\n",
    "### And make sure you use `File->Log Out` to terminate your workshop session.\n",
    "\n",
    "### You can join the {{ BRANDING }} Community by [signing up](https://developer.hpe.com/newsletter-signup) to the HPE DEV Newsletter \n",
    "\n",
    "### Learn more about the {{ BRANDING }} Community\n",
    "![QRCode](Pictures/QRCode-HPEDEV.png)\n",
    "  "
   ]
  },
  {
   "cell_type": "markdown",
   "metadata": {},
   "source": [
    "# Thank you\n",
    "![ThankYou](Pictures/grommet.jpg)"
   ]
  }
 ],
 "metadata": {
  "kernelspec": {
   "display_name": "Bash",
   "language": "bash",
   "name": "bash"
  },
  "language_info": {
   "codemirror_mode": "shell",
   "file_extension": ".sh",
   "mimetype": "text/x-sh",
   "name": "bash"
  }
 },
 "nbformat": 4,
 "nbformat_minor": 4
}
