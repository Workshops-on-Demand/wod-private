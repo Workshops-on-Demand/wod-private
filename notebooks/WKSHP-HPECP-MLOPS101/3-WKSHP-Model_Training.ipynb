{
 "cells": [
  {
   "cell_type": "markdown",
   "metadata": {},
   "source": [
    "# Lab 3 - Training\n",
    "In this lab we will take our data and train a couple of models using different algorithms and utilize our training cluster"
   ]
  },
  {
   "cell_type": "code",
   "execution_count": 1,
   "metadata": {
    "scrolled": true
   },
   "outputs": [],
   "source": [
    "import numpy\n",
    "import os\n",
    "import pandas as pd\n",
    "import tensorflow as tf\n",
    "\n",
    "## Set the project repo \n",
    "def ProjectRepo(path):\n",
    "   ProjectRepo = \"/bd-fs-mnt/project_repo\"\n",
    "   return str(ProjectRepo + '/' + path)\n",
    "\n",
    "## Load the dataset\n",
    "dataset = pd.read_csv(ProjectRepo('data/Pima_Indians/pima-indians-diabetes.csv'), delimiter=\",\")\n",
    "dataset.columns = [\n",
    "    \"NumTimesPrg\", \"PlGlcConc\", \"BloodP\",\n",
    "    \"SkinThick\", \"TwoHourSerIns\", \"BMI\",\n",
    "    \"DiPedFunc\", \"Age\", \"HasDiabetes\"]"
   ]
  },
  {
   "cell_type": "markdown",
   "metadata": {},
   "source": [
    "- Pregnancies\n",
    "- Glucose — The blood plasma glucose concentration after a 2 hour oral glucose tolerance test.\n",
    "- BloodPressure — Diastolic blood pressure (mm/HG).\n",
    "- SkinThickness — Skinfold thickness of the triceps (mm).\n",
    "- Insulin — 2 hour serum insulin (mu U/ml).\n",
    "- BMI — Body mass index (kg/m squared)\n",
    "- DiabetesPedigreeFunction — A function that determines the risk of type 2 diabetes based on family history, the larger the function, the higher the risk of type 2 diabetes.\n",
    "- Age.\n",
    "- Outcome — Whether the person is diagnosed with type 2 diabetes (1 = yes, 0 = no)."
   ]
  },
  {
   "cell_type": "markdown",
   "metadata": {},
   "source": [
    "# Model Development (Part 1)\n",
    "- Attempting first model with XGB"
   ]
  },
  {
   "cell_type": "code",
   "execution_count": 2,
   "metadata": {},
   "outputs": [
    {
     "name": "stderr",
     "output_type": "stream",
     "text": [
      "/opt/miniconda/lib/python3.8/site-packages/xgboost/sklearn.py:888: UserWarning: The use of label encoder in XGBClassifier is deprecated and will be removed in a future release. To remove this warning, do the following: 1) Pass option use_label_encoder=False when constructing XGBClassifier object; and 2) Encode your labels (y) as integers starting with 0, i.e. 0, 1, 2, ..., [num_class - 1].\n",
      "  warnings.warn(label_encoder_deprecation_msg, UserWarning)\n"
     ]
    },
    {
     "name": "stdout",
     "output_type": "stream",
     "text": [
      "[21:57:35] WARNING: ../src/learner.cc:1061: Starting in XGBoost 1.3.0, the default evaluation metric used with the objective 'binary:logistic' was changed from 'error' to 'logloss'. Explicitly set eval_metric if you'd like to restore the old behavior.\n",
      "{'objective': 'binary:logistic', 'base_score': 0.5, 'booster': 'gbtree', 'colsample_bylevel': 1, 'colsample_bynode': 1, 'colsample_bytree': 1, 'gamma': 0, 'gpu_id': -1, 'interaction_constraints': '', 'learning_rate': 0.300000012, 'max_delta_step': 0, 'max_depth': 6, 'min_child_weight': 1, 'monotone_constraints': '()', 'n_jobs': 12, 'num_parallel_tree': 1, 'random_state': 0, 'reg_alpha': 0, 'reg_lambda': 1, 'scale_pos_weight': 1, 'subsample': 1, 'tree_method': 'exact', 'validate_parameters': 1, 'verbosity': None}\n"
     ]
    }
   ],
   "source": [
    "# First XGBoost model for Pima Indians dataset\n",
    "from numpy import loadtxt\n",
    "from xgboost import XGBClassifier\n",
    "from sklearn.model_selection import train_test_split\n",
    "from sklearn.metrics import accuracy_score\n",
    "import pickle\n",
    "\n",
    "# load data\n",
    "dataset = loadtxt(ProjectRepo('data/Pima_Indians/pima-indians-diabetes.csv'), delimiter=\",\") \n",
    "\n",
    "# split data into X and y\n",
    "X_train = dataset[:,0:8]\n",
    "y_train = dataset[:,8]\n",
    "\n",
    "# fit model no training data\n",
    "model = XGBClassifier()\n",
    "model.fit(X_train, y_train)\n",
    "\n",
    "#\n",
    "print(model.get_xgb_params())"
   ]
  },
  {
   "cell_type": "markdown",
   "metadata": {},
   "source": [
    "# Model Development (Part 2)\n",
    "- Second model using keras with remote training cluster\n",
    "- Save model and prepare for TensorFlow Serving"
   ]
  },
  {
   "cell_type": "code",
   "execution_count": 3,
   "metadata": {},
   "outputs": [
    {
     "name": "stdout",
     "output_type": "stream",
     "text": [
      "History URL: http://training-loadbalancer-tvzdh-0.traininglm4wk.aiml.svc.cluster.local:10001/history/13\n"
     ]
    }
   ],
   "source": [
    "%%training\n",
    "\n",
    "import numpy\n",
    "import os\n",
    "import pandas as pd\n",
    "import tensorflow as tf\n",
    "from numpy import loadtxt\n",
    "from keras.models import Sequential\n",
    "from keras.layers import Dense\n",
    "\n",
    "## Set the project repo \n",
    "def ProjectRepo(path):\n",
    "   ProjectRepo = \"/bd-fs-mnt/project_repo\"\n",
    "   return str(ProjectRepo + '/' + path)  \n",
    "\n",
    "## Load the dataset\n",
    "print(\"Loading data\")\n",
    "dataset = loadtxt(ProjectRepo('data/Diabetes/pima-indians-diabetes.csv'), delimiter=\",\") \n",
    "dataset.shape\n",
    "\n",
    "# Split into input (X) and output (y) variables\n",
    "X = dataset[:,0:8]\n",
    "y = dataset[:,8]\n",
    "\n",
    "# Define the keras model\n",
    "print(\"Building model\")\n",
    "model = Sequential()\n",
    "model.add(Dense(12, input_dim=8, activation='relu'))\n",
    "model.add(Dense(8, activation='relu'))\n",
    "model.add(Dense(1, activation='sigmoid'))\n",
    "\n",
    "# Compile the keras model\n",
    "model.compile(loss='binary_crossentropy', optimizer='adam', metrics=['accuracy'])\n",
    "\n",
    "# Fit the keras model on the dataset\n",
    "print(\"Training model\")\n",
    "model.fit(X, y, epochs=150, batch_size=10, verbose= 0)\n",
    "\n",
    "# Evaluate the keras model\n",
    "_, accuracy = model.evaluate(X, y, verbose=0)\n",
    "print('Accuracy: %.2f' % (accuracy*100))\n",
    "\n",
    "# Make class predictions with the model\n",
    "predictions = model.predict_classes(X)\n",
    "\n",
    "# Summarize the first 3 cases\n",
    "for i in range(3):\n",
    "\tprint('%s => %d (expected %d)' % (X[i].tolist(), predictions[i], y[i]))\n",
    "\n",
    "# Save model weights and architecture together\n",
    "print(\"Saving model\")\n",
    "model.save(ProjectRepo('models/Diabetes/db_remote.h5'))\n",
    "\n",
    "# Evaluate the keras model\n",
    "_, accuracy = model.evaluate(X, y, verbose=0)\n",
    "print('Accuracy: %.2f' % (accuracy*100))\n",
    "\n",
    "# Make class predictions with the model\n",
    "predictions = model.predict_classes(X)\n",
    "\n",
    "# Summarize the first 5 cases\n",
    "for i in range(5):\n",
    "\tprint('%s => %d (expected %d)' % (X[i].tolist(), predictions[i], y[i]))\n",
    "    \n",
    "# Prepare TF Serving\n",
    "print(\"Preparing for TF Serving\")\n",
    "MODEL_VERSION = 1\n",
    "tf.keras.backend.set_learning_phase(0) \n",
    "model = tf.keras.models.load_model(ProjectRepo('models/Diabetes/db_remote.h5'))\n",
    "export_path = ProjectRepo('models/Diabetes/' + str(MODEL_VERSION))\n",
    "tf.keras.models.save_model(model, export_path)\n",
    "    \n",
    "# Summarize model.\n",
    "model.summary()\n",
    "print(\"Done\")"
   ]
  },
  {
   "cell_type": "markdown",
   "metadata": {},
   "source": [
    "## After executing the cell above, a historyl url will be returned. Copy and paste the url into the cell below. You can execute the cell below as many times as you'd like to see the job status in real time. "
   ]
  },
  {
   "cell_type": "code",
   "execution_count": 6,
   "metadata": {},
   "outputs": [
    {
     "name": "stdout",
     "output_type": "stream",
     "text": [
      "Job Status: Finished\n",
      "Loading data\n",
      "Building model\n",
      "Training model\n",
      "Accuracy: 72.92\n",
      "[6.0, 148.0, 72.0, 35.0, 0.0, 33.6, 0.627, 50.0] => 1 (expected 1)\n",
      "[1.0, 85.0, 66.0, 29.0, 0.0, 26.6, 0.351, 31.0] => 0 (expected 0)\n",
      "[8.0, 183.0, 64.0, 0.0, 0.0, 23.3, 0.672, 32.0] => 1 (expected 1)\n",
      "Saving model\n",
      "Accuracy: 72.92\n",
      "[6.0, 148.0, 72.0, 35.0, 0.0, 33.6, 0.627, 50.0] => 1 (expected 1)\n",
      "[1.0, 85.0, 66.0, 29.0, 0.0, 26.6, 0.351, 31.0] => 0 (expected 0)\n",
      "[8.0, 183.0, 64.0, 0.0, 0.0, 23.3, 0.672, 32.0] => 1 (expected 1)\n",
      "[1.0, 89.0, 66.0, 23.0, 94.0, 28.1, 0.167, 21.0] => 0 (expected 0)\n",
      "[0.0, 137.0, 40.0, 35.0, 168.0, 43.1, 2.288, 33.0] => 0 (expected 1)\n",
      "Preparing for TF Serving\n",
      "Model: \"sequential_1\"\n",
      "_________________________________________________________________\n",
      "Layer (type)                 Output Shape              Param #\n",
      "=================================================================\n",
      "dense_1 (Dense)              (None, 12)                108\n",
      "_________________________________________________________________\n",
      "dense_2 (Dense)              (None, 8)                 104\n",
      "_________________________________________________________________\n",
      "dense_3 (Dense)              (None, 1)                 9\n",
      "=================================================================\n",
      "Total params: 221\n",
      "Trainable params: 221\n",
      "Non-trainable params: 0\n",
      "_________________________________________________________________\n",
      "Done\n",
      "Using TensorFlow backend.\n",
      "2021-06-17 21:57:38.247936: W tensorflow/stream_executor/platform/default/dso_loader.cc:55] Could not load dynamic library 'libcuda.so.1'; dlerror: libcuda.so.1: cannot open shared object file: No such file or directory\n",
      "2021-06-17 21:57:38.247972: E tensorflow/stream_executor/cuda/cuda_driver.cc:351] failed call to cuInit: UNKNOWN ERROR (303)\n",
      "2021-06-17 21:57:38.248009: I tensorflow/stream_executor/cuda/cuda_diagnostics.cc:156] kernel driver does not appear to be running on this host (training-loadbalancer-tvzdh-0): /proc/driver/nvidia/version does not exist\n",
      "2021-06-17 21:57:38.248255: I tensorflow/core/platform/cpu_feature_guard.cc:142] Your CPU supports instructions that this TensorFlow binary was not compiled to use: SSE4.1 SSE4.2 AVX\n",
      "2021-06-17 21:57:38.258190: I tensorflow/core/platform/profile_utils/cpu_utils.cc:94] CPU Frequency: 2095074999 Hz\n",
      "2021-06-17 21:57:38.258890: I tensorflow/compiler/xla/service/service.cc:168] XLA service 0x55e71615a0b0 initialized for platform Host (this does not guarantee that XLA will be used). Devices:\n",
      "2021-06-17 21:57:38.258919: I tensorflow/compiler/xla/service/service.cc:176]   StreamExecutor device (0): Host, Default Version\n",
      "2021-06-17 21:57:50.918496: W tensorflow/python/util/util.cc:319] Sets are not currently considered sequences, but this may change in the future, so consider avoiding using them.\n",
      "WARNING:tensorflow:From /opt/anaconda3/lib/python3.7/site-packages/tensorflow_core/python/ops/resource_variable_ops.py:1786: calling BaseResourceVariable.__init__ (from tensorflow.python.ops.resource_variable_ops) with constraint is deprecated and will be removed in a future version.\n",
      "Instructions for updating:\n",
      "If using Keras pass *_constraint arguments to layers.\n",
      "\n",
      "\n"
     ]
    }
   ],
   "source": [
    "%logs --url http://training-loadbalancer-tvzdh-0.traininglm4wk.aiml.svc.cluster.local:10001/history/13"
   ]
  },
  {
   "cell_type": "markdown",
   "metadata": {},
   "source": [
    "Clearing session notes:\n",
    "https://stackoverflow.com/questions/50895110/what-do-i-need-k-clear-session-and-del-model-for-keras-with-tensorflow-gpu"
   ]
  }
 ],
 "metadata": {
  "kernelspec": {
   "display_name": "Python 3",
   "language": "python",
   "name": "python3"
  },
  "language_info": {
   "codemirror_mode": {
    "name": "ipython",
    "version": 3
   },
   "file_extension": ".py",
   "mimetype": "text/x-python",
   "name": "python",
   "nbconvert_exporter": "python",
   "pygments_lexer": "ipython3",
   "version": "3.8.10"
  }
 },
 "nbformat": 4,
 "nbformat_minor": 4
}
