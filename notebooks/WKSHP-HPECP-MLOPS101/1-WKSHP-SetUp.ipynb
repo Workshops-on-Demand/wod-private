{
 "cells": [
  {
   "cell_type": "markdown",
   "metadata": {},
   "source": [
    "# Lab 1 Setup and Test \n",
    "In this lab we will:\n",
    "1. introduce and test the line magic functions that are apart of Ezmeral MLOps\n",
    "2. populate our project repository with the necessary files \n",
    "\n",
    "<b>Line magics</b>, which are denoted by a single % prefix, operate on a single line of input.\n",
    "\n",
    "<b>Cell magics</b>, which are denoted by a double %% prefix, operate on multiple lines of input."
   ]
  },
  {
   "cell_type": "markdown",
   "metadata": {},
   "source": [
    "# Magics"
   ]
  },
  {
   "cell_type": "markdown",
   "metadata": {},
   "source": [
    "#### **Get the list of connected training environments**\n",
    "\n",
    "<b>%attachments</b> is a line magic command that output a table with the name(s) of the training cluster(s) available for us to use. Sometimes, Operations team may have created multiple training clusters for different projects depending on the needs of the model or size of data, e.g. some with GPU nodes, while others with CPUs only."
   ]
  },
  {
   "cell_type": "code",
   "execution_count": 1,
   "metadata": {},
   "outputs": [
    {
     "name": "stdout",
     "output_type": "stream",
     "text": [
      "Training Cluster    ML Engine\n",
      "------------------  -----------\n",
      "training            python\n"
     ]
    }
   ],
   "source": [
    "%attachments"
   ]
  },
  {
   "cell_type": "markdown",
   "metadata": {},
   "source": [
    "#### **Submit a notebook code cell to a remote training cluster**\n",
    "\n",
    "To utilize the training cluster, you will need grab the name of the training cluster you want to use and feed it into another custom cell magic command. \n",
    "\n",
    "With the **%%training** magic command specified at the beginning of the code cell, the Jupyter Notebook will \n",
    "submit the entire content of the cell to the training cluster named _training_. If you comment this magic command, the code will run on your local Jupyter Notebook.\n",
    "\n",
    "The example cell below will execute a print statement on the training cluster."
   ]
  },
  {
   "cell_type": "code",
   "execution_count": 2,
   "metadata": {},
   "outputs": [
    {
     "name": "stdout",
     "output_type": "stream",
     "text": [
      "History URL: http://training-loadbalancer-tvzdh-0.traininglm4wk.aiml.svc.cluster.local:10001/history/1\n"
     ]
    }
   ],
   "source": [
    "%%training\n",
    "print(\"Hello world\")"
   ]
  },
  {
   "cell_type": "markdown",
   "metadata": {},
   "source": [
    "#### **Retrieve the result of the job**\n",
    "\n",
    "The training cluster will send back a unique log url for the job submitted.   \n",
    "You can use the _History URL_ with the _\"%log --url\"_ custom **line magic** command to track the status of the job in real time. \n",
    "\n",
    "Copy the History URL from the output of the previous cell and paste it into the cell below where it says _\"your_http_url_here\"_, and run the cell code.\n",
    "\n",
    "A status of \"**Finished**\" means the execution of the job submitted to the training cluster has completed."
   ]
  },
  {
   "cell_type": "code",
   "execution_count": 3,
   "metadata": {},
   "outputs": [
    {
     "name": "stdout",
     "output_type": "stream",
     "text": [
      "Job Status: Finished\n",
      "test\n",
      "\n",
      "test\n",
      "Hello world\n",
      "\n",
      "\n"
     ]
    }
   ],
   "source": [
    "%logs --url http://training-loadbalancer-tvzdh-0.traininglm4wk.aiml.svc.cluster.local:10001/history/1"
   ]
  },
  {
   "cell_type": "markdown",
   "metadata": {},
   "source": [
    "# Setup your working directory\n",
    "\n",
    "The Python code here is used to create the working directory in the central project repository for your user. The working directory is used to store the key data components needed in the ML pipeline, such as the input dataset, trained ML model(s) and scoring script(s). "
   ]
  },
  {
   "cell_type": "code",
   "execution_count": 12,
   "metadata": {},
   "outputs": [
    {
     "name": "stdout",
     "output_type": "stream",
     "text": [
      "Creating your directories..\n",
      "Creating the Data directory data/Diabetes\n",
      "Successfully created the code directory data/Diabetes\n",
      "Loading files into project repo\n"
     ]
    },
    {
     "data": {
      "text/plain": [
       "'/bd-fs-mnt/project_repo/code/Diabetes/Diabetes_Scoring.py'"
      ]
     },
     "execution_count": 12,
     "metadata": {},
     "output_type": "execute_result"
    }
   ],
   "source": [
    "import os\n",
    "import shutil\n",
    "\n",
    "usecaseDirectory = \"Diabetes\"\n",
    "RepoModel = \"models\" + '/' + usecaseDirectory\n",
    "RepoCode = \"code\" + '/' + usecaseDirectory\n",
    "RepoData = \"data\" + '/' + usecaseDirectory\n",
    "\n",
    "# Project repo path function - file system mount available to all app containers\n",
    "def ProjectRepo(path):\n",
    "    ProjectRepo = \"/bd-fs-mnt/project_repo\"\n",
    "    return str(ProjectRepo + '/' + path)\n",
    "\n",
    "print(\"Creating your directories..\")\n",
    "if (not os.path.exists(ProjectRepo(RepoModel))):\n",
    "    print (\"Creating the Model directory \" + RepoModel)\n",
    "    try:\n",
    "        os.makedirs(ProjectRepo(RepoModel))\n",
    "    except OSError:\n",
    "        print (\"Creation of the model directory %s failed\" % RepoModel)\n",
    "    else:\n",
    "        print (\"Successfully created the model directory %s\" % RepoModel)\n",
    "\n",
    "if (not os.path.exists(ProjectRepo(RepoCode))):\n",
    "    print (\"Creating the Code directory \" + RepoCode)\n",
    "    try:\n",
    "        os.makedirs(ProjectRepo(RepoCode))\n",
    "    except OSError:\n",
    "        print (\"Creation of the code directory %s failed\" % RepoCode)\n",
    "    else:\n",
    "        print (\"Successfully created the code directory %s\" % RepoCode)\n",
    "        \n",
    "if (not os.path.exists(ProjectRepo(RepoData))):\n",
    "    print (\"Creating the Data directory \" + RepoData)\n",
    "    try:\n",
    "        os.makedirs(ProjectRepo(RepoData))\n",
    "    except OSError:\n",
    "        print (\"Creation of the code directory %s failed\" % RepoData)\n",
    "    else:\n",
    "        print (\"Successfully created the code directory %s\" % RepoData)\n",
    "        \n",
    "print(\"Loading files into project repo\")\n",
    "shutil.copy(\"/home/terry/Training_Diabetes/Data/pima-indians-diabetes.csv\", ProjectRepo(RepoData))\n",
    "shutil.copy(\"/home/terry/Training_Diabetes/Diabetes_Scoring.py\", ProjectRepo(RepoCode))"
   ]
  },
  {
   "cell_type": "markdown",
   "metadata": {},
   "source": [
    "## View ProjectRepo \n",
    "- Notice the files and that the permissions here match that of the AD/LDAP user  "
   ]
  },
  {
   "cell_type": "code",
   "execution_count": 11,
   "metadata": {},
   "outputs": [
    {
     "name": "stdout",
     "output_type": "stream",
     "text": [
      "total 25\n",
      "drwxr-xr-x. 2 terry domain users    11 May  5 20:00 UCI_Income\n",
      "drwxr-xr-x. 2 terry domain users     1 May  6 17:25 Pima_Indians\n",
      "drwxr-xr-x. 2 terry domain users     1 May  6 17:26 CreditCard\n",
      "drwxr-xr-x. 2 terry domain users     1 May  6 17:26 IMDB\n",
      "drwxr-xr-x. 2 terry domain users     1 May  6 17:26 MNIST\n",
      "-rwx------. 1 terry domain users 23009 Jun 17 21:52 Diabetes\n"
     ]
    }
   ],
   "source": [
    "!ls -ltr /bd-fs-mnt/project_repo/data"
   ]
  },
  {
   "cell_type": "markdown",
   "metadata": {},
   "source": [
    "# Continue onto Lab 2 for some data engineering work!"
   ]
  }
 ],
 "metadata": {
  "kernelspec": {
   "display_name": "Python 3",
   "language": "python",
   "name": "python3"
  },
  "language_info": {
   "codemirror_mode": {
    "name": "ipython",
    "version": 3
   },
   "file_extension": ".py",
   "mimetype": "text/x-python",
   "name": "python",
   "nbconvert_exporter": "python",
   "pygments_lexer": "ipython3",
   "version": "3.8.10"
  }
 },
 "nbformat": 4,
 "nbformat_minor": 5
}
