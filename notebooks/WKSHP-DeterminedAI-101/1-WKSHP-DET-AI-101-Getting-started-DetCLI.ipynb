{
 "cells": [
  {
   "cell_type": "markdown",
   "id": "5a5e4bcf-e5b6-40a3-9135-b8d583505348",
   "metadata": {},
   "source": [
    "# Getting Started with Determined, the Open-Source Deep Learning Training Platform - Lab 1\n",
    "## Learning the base principles of Determined\n",
    "\n",
    "For this part of the lab, you will consider the well-known Iris classification problem of predicting an Iris species based on the length and width measurements of their sepals and petals. You'll leverage Determined to train and tune this TensorFlow Keras based Neural Network model on TensorFlow's publicly available Iris [training](http://download.tensorflow.org/data/iris_training.csv) and [validation](http://download.tensorflow.org/data/iris_test.csv) datasets. \n",
    "\n",
    "The objective of the model is to predict the **likelihood** that a flower is the given Iris species.\n",
    "\n",
    "The small dataset consists of:\n",
    "* 150 samples (120 samples for the training dataset, 30 samples for the validation dataset)\n",
    "* 4 features (the characteristics of the Iris): sepal length, sepal width, petal length, petal width (in cm)\n",
    "* 1 label (the species of Iris to predict): for this dataset it is an integer value of 0, 1, 2 that corresponds to the species of Iris: 0-Iris setosa, 1-Iris versicolor, 2-Iris virginica.\n",
    "\n",
    "Determined provides a Web User Interface (UI), a Command Line Interface (CLI) and APIs to interact with the Determined. In this part of the lab, you will learn how you can communicate with Determined, run tasks such as training model tasks, as well as monitor and visualize training progress and results.\n",
    "\n",
    "* You will be introduced to Determined components.\n",
    "* You will learn how to use the Determined CLI to interact with Determined.\n",
    "* You will use the Determined CLI to create a training task in order to train your Neural Network model with a single GPU.\n",
    "* You will also interact with the Determined AI WebUI and integrated TensorBoard to visualize experiments metrics and results.\n",
    "* You will finally use the Determined's Python API to interact with Determined, load the trained model and make some predictions (inferences) using the trained model.\n",
    "\n",
    "> <font color=\"green\"> **Note:** The model has already been ported to run on Determined. Porting a deep learning model code to Determined is beyond the scope of this workshop. The easiest way to learn how to port your existing deep learning model code to Determined, is to start with the [Pytorch Porting tutorial](https://docs.determined.ai/latest/tutorials/pytorch-porting-tutorial.html).</font>"
   ]
  },
  {
   "cell_type": "markdown",
   "id": "8bd75958-418d-4609-8119-6ceb4396569a",
   "metadata": {},
   "source": [
    "## 1- Authenticate to HPE Ezmeral Runtime Environment as a tenant user\n",
    "\n",
    "For the purpose of this workshop, you will interact with the Kubernetes cluster, managed by HPE Ezmeral Runtime Enterprise, to fetch some information about the components that make up the Determined environment.\n",
    "\n",
    ">**Note:** In normal operations, you do NOT need to interact with the Kubernetes cluster. The IT operations team would provide you with the information you need about the Determined environment to interact with it.\n",
    "\n",
    "In order to interact with the Kubernetes cluster resources made available for your tenant, you first need to authenticate as an HPE Ezmeral tenant user of the Kubernetes Tenant (which serves as Kubernetes namespace). You will then fetch the ***kubeconfig file*** used to configure access to the resources of the Kubernetes cluster for your tenant. Here, you will accomplish these 2 steps by using the REST API of HPE Ezmeral Runtime Enterprise. "
   ]
  },
  {
   "cell_type": "code",
   "execution_count": null,
   "id": "48ef64aa-c5a4-42ae-902b-45deda53a42d",
   "metadata": {},
   "outputs": [],
   "source": [
    "# environment variables to be verified by the student\n",
    "#\n",
    "studentId=\"student{{ STDID }}\" # your Jupyter Notebook student Identifier (i.e.: student<xx>)\n",
    "username=\"student{{ STDID }}\" # your HPE ECP tenant login credentials - username \n",
    "password=\"{{ PASSSTU }}\" # your HPE ECP tenant login credentials - password - Please replace with password provided in your registration\n",
    "\n",
    "tenantname=\"DeterminedAI\" #case sensitive\n",
    "#\n",
    "# fixed environment variables setup by the HPE ECP lab administrator - Please DO NOT MODIFY!!\n",
    "#\n",
    "gateway_host=\"{{ HPEECPGWNAME }}\"\n",
    "controller_endpoint=\"${gateway_host}:8080\"\n",
    "Internet_access=\"{{ JPHOSTEXT }}\"\n",
    "\n",
    "echo \"your operation context is:\" $username \"on tenant\" $tenantname "
   ]
  },
  {
   "cell_type": "markdown",
   "id": "f4b00083-7800-4dd5-9ddc-90b12126b48c",
   "metadata": {},
   "source": [
    "#### Authenticate as a tenant user in the specified tenant"
   ]
  },
  {
   "cell_type": "code",
   "execution_count": null,
   "id": "be3f3147-bf8d-413e-9b87-c2d7884bbf6e",
   "metadata": {},
   "outputs": [],
   "source": [
    "sessionlocation=$(curl -k -i -s --request POST \"https://${controller_endpoint}/api/v2/session\" \\\n",
    "--header 'Accept: application/json' \\\n",
    "--header 'Content-Type: application/json' \\\n",
    "--data-raw '{\n",
    "\"name\": \"'\"$username\"'\",\n",
    "\"password\": \"'\"$password\"'\",\n",
    "\"tenant_name\": \"'\"$tenantname\"'\"\n",
    "}' | grep Location | awk '{print $2}' | tr -d '\\r') #we remove any cr that might exist\n",
    "echo \"This is your session location: \" $sessionlocation\n",
    "SessionId=$(echo $sessionlocation | cut -d'/' -f 5) # extract sessionId for later, for logout\n",
    "echo \"This is your session_Id:\" $SessionId"
   ]
  },
  {
   "cell_type": "markdown",
   "id": "e3b8cba9-83f9-4f7d-a2d7-666065879e89",
   "metadata": {
    "tags": []
   },
   "source": [
    "#### Get the Kubeconfig file for your tenant working context"
   ]
  },
  {
   "cell_type": "code",
   "execution_count": null,
   "id": "ce678daa-6c6e-4ee3-ad6d-b553bfef2d6c",
   "metadata": {},
   "outputs": [],
   "source": [
    "mkdir -p ~/.kube\n",
    "ls ~/.kube\n",
    "rm -f ~/.kube/config\n",
    "curl -k -s --request GET \"https://${controller_endpoint}/api/v2/k8skubeconfig\" \\\n",
    "--header \"X-BDS-SESSION: $sessionlocation\" \\\n",
    "--header 'Accept: application/json' \\\n",
    "--header 'Content-Type: application/json' > ~/.kube/config\n",
    "#\n",
    "echo \"Kubeconfig file fetched. Your current Kubernetes working context is: \"\n",
    "kubectl config current-context"
   ]
  },
  {
   "cell_type": "markdown",
   "id": "735cdd57-c59e-4423-9d74-83e76e45e194",
   "metadata": {},
   "source": [
    "## 2- Determined components\n",
    "\n",
    "For this hands-on workshop, Determined has been installed on the Kubernetes cluster managed by HPE Ezmeral Runtime Enterprise on a Kubernetes namespace ***determinedai***.  \n",
    "\n",
    "When installing Determined on Kubernetes, an instance of the **Determined Master** and a **PostgreSQL database** are deployed in the Kubernetes cluster. These components run as a container within a Kubernetes POD. \n",
    "\n",
    "#### Run the code cell below and check out the output. \n",
    "\n",
    "You should see one container POD for the Determined Master service and another POD for the Database service as well as service endpoints for the Master and the database. The Master service endpoint is a NodePort service that exposes the Master service endpoint outside the Kubernetes cluster and allows you to communicate with Determined."
   ]
  },
  {
   "cell_type": "code",
   "execution_count": null,
   "id": "3f1e07e2-22b7-4194-bffc-6f706b9fdda4",
   "metadata": {},
   "outputs": [],
   "source": [
    "kubectl get pod,services -n determinedai | grep determined"
   ]
  },
  {
   "cell_type": "markdown",
   "id": "3fdc54f5-d700-44f1-8915-9811fce93e71",
   "metadata": {},
   "source": [
    "The **Determined Master** is the central component of the Determined deployment on Kubernetes. The Master is responsible for:\n",
    "\n",
    "* **Scheduling** Determined training tasks as a collection of Kubernetes PODs. The Master brings up PODs to run model training tasks (known as Trials), and auxiliary tasks such as TensorBoard instances and JupyterLab instances.\n",
    "* **Tracking and storing** all model training tasks metadata (description, labels, hyperparameters, search algorithm used, training metrics, validation metrics, start/end time, logs) in the PostgreSQL database.\n",
    "* **Serving** the Web User Interface (WebUI) for users to visualize training metrics and validation metrics across their model training tasks.\n",
    "\n",
    ">**Note:** _For this hands-on lab, the Kubernetes cluster worker nodes that run Determined software have been configured to connect to a distributed file system provided by HPE Ezmeral Runtime Enterprise (from the pre-integrated HPE Ezmeral Data Fabric). The distributed file system provides shared storage that works with Determined to enable:_ \n",
    ">* _training tasks launched as container PODs on any Kubernetes worker nodes to access the shared model training and validation datasets,_ \n",
    ">* _training tasks to save and store model training artifacts (model files, code, model definition files) and training task's checkpoints on a shared checkpoint storage. Checkpoints are saved versions of validated models that users can access later to test the model and deploy the model in production. Checkpoints are also used by Determined to ensure training work is not lost in case of system failure during a training, so Determine can retry failed training tasks from latest checkpoint._\n",
    "\n",
    "**Now, let's see the Determined in action!!!**"
   ]
  },
  {
   "cell_type": "markdown",
   "id": "19c80755-b9bd-41a6-9467-642d51095748",
   "metadata": {},
   "source": [
    "## 3- Communicating with Determined using the Determined CLI \n",
    "\n",
    "The Determined CLI is a command line tool that allows you to interact with Determined. For example, the CLI allows you to launch a new experiment to train your deep learning (DL) model. The Determined CLI is distributed as a Python package. You need a machine with Python 3.6 or later installed on your machine with Internet access. The Determined CLI has already been installed on the JupyterHub server.\n",
    "\n",
    "To use Determined and interact with Determined with the CLI, you first need to tell the CLI where the Determined Master service is running. You then need to authenticate as a user of Determined."
   ]
  },
  {
   "cell_type": "markdown",
   "id": "b287bdbd-41e9-4b4d-a16f-3aad842cc606",
   "metadata": {},
   "source": [
    "#### Set the Determined Master service endpoint URL:\n",
    "\n",
    "Any Det CLI command is in the form: ***det [-m \\<det_master_URL_or_IP:port\\>] \\<command_argument\\> \\<action_verb\\> [-h]***\n",
    "\n",
    "The Master service endpoint is referenced using the ***-m*** flag to specify the URL of the Determined Master that the CLI connects to. \n",
    "\n",
    "Instead of specifying the -m flag in every command, you can define an environmental variable: ***DET_MASTER*** that points to the Master service endpoint URL. \n",
    "\n",
    ">Note: You can use the help flag [-h] to learn more about valid options.\n"
   ]
  },
  {
   "cell_type": "markdown",
   "id": "12424d7c-e25e-435d-ba94-726938ac92df",
   "metadata": {},
   "source": [
    "Run the code cell below to get the Determined Master endpoint URL from the Kubernetes service of Determined Master. The _\"kubectl describe service\"_ command is used to get the Master URL.  "
   ]
  },
  {
   "cell_type": "code",
   "execution_count": null,
   "id": "b7ff2a74-4802-4dca-a418-8498c53c016d",
   "metadata": {},
   "outputs": [],
   "source": [
    "#\n",
    "# Getting the DeterminedAI Master service endpoint URL:\n",
    "#\n",
    "masterUrl=$(kubectl describe service determined-master-service-stagingdetai -n determinedai | grep gateway/8080 | awk '{print $3}')\n",
    "determined_master=\"http://${masterUrl}\"\n",
    "export DET_MASTER=${determined_master}\n",
    "echo \"The Determined Master Service endpoint URL is exported as environmental variable: \" ${determined_master}"
   ]
  },
  {
   "cell_type": "markdown",
   "id": "f289f82a-8103-461c-8c5d-ad40360b1a37",
   "metadata": {},
   "source": [
    "#### Authenticate to Determined:\n",
    "Run the code cell below and follow steps 1 to 4 below to authenticate to Determined as student\\<yourId\\>: "
   ]
  },
  {
   "cell_type": "code",
   "execution_count": null,
   "id": "adb2d28d-e22a-4acb-864d-77e88be7a90c",
   "metadata": {},
   "outputs": [],
   "source": [
    "echo \"export DET_MASTER=${determined_master}\" \n",
    "echo \"det user login ${studentId}\"\n",
    "echo \"---------------------------\"\n",
    "echo \"copy/paste the two lines above to a Terminal\"\n",
    "echo \"your password is: ${password}\""
   ]
  },
  {
   "cell_type": "markdown",
   "id": "7d78f526-8727-4ef8-820e-ee90389b0ab7",
   "metadata": {},
   "source": [
    "1. Start a Terminal in the Launcher (navigate to Launcher tab --> Click Terminal tile; or go to Menu --> File --> New Launcher --> Terminal)\n",
    "2. In the Terminal, copy/paste the two commands above to authenticate to Determined as user Student\\<yourID\\>.\n",
    "3. Press the _Return_ key when prompted to enter a password. Please enter the password for your studentID in Determined.\n",
    "4. Then, continue from here. "
   ]
  },
  {
   "cell_type": "markdown",
   "id": "461aa3a3-48f2-4c1f-8364-202a93c022a0",
   "metadata": {},
   "source": [
    "The command below displays the Determined CLI client version and Master version. "
   ]
  },
  {
   "cell_type": "code",
   "execution_count": null,
   "id": "8b93edcd-5556-48d3-afe4-856beab9fae6",
   "metadata": {},
   "outputs": [],
   "source": [
    "det version"
   ]
  },
  {
   "cell_type": "markdown",
   "id": "b8651e8a-9ac2-4f37-8eef-d26fbab3d202",
   "metadata": {},
   "source": [
    "## 4- Launch your first Determined training workloads to train your model\n",
    "\n",
    "Let's first introduce some fundamental Determined concepts that are leveraged in this workshop.\n",
    "\n",
    "Determined permits data science teams to launch deep learning model training tasks (known as **trials**) for their models ported to Determined. These tasks are distributed across one or more GPUs as an **experiment** using a particular set of configuration parameters specified in an **experiment configuration file**.\n",
    "\n",
    "* **Experiment:** In Determined terms, an ***experiment*** is a collection of one or more DL training tasks (trials). A Determined experiment can either train a single model with a single training task using one or multiple GPUs, or it can define a search over a user-defined hyperparameter space with several training tasks.\n",
    "\n",
    "* **Trial:** Each training task in an experiment is called a ***trial***. A trial is a training task that consists of the dataset (training and validation/test dataset), a deep learning model (for example, the Python scripts that load the dataset, build and compile the model) `adjusted to run on Determined`, and _an experiment configuration file_. All the elements of a training task are put together in a `model definition directory`.\n",
    "\n",
    "* **Experiment configuration file:** Determined uses a YAML manifest file that defines how to run the training model process on Determined in terms of the ***hyperparameters***, the number of GPUs to use for each trial, the amount of data on which to train a model, how often the trial task must report the training metrics and the validation metrics to the Master, how often the trial task must save the model file, and many other parameters.\n",
    "\n",
    ">**Note:** The Experiment configuration file has some required field and some optional ones. To learn more about Experiment configuration settings, check out the online documentation [here](https://docs.determined.ai/latest/training-apis/experiment-config.html).\n",
    "\n",
    "* **Hyperparameters:** These are user-defined variables that define how a model is trained. They affect the accuracy of the trained model. By choosing the best combination of hyperparameters, you can obtain better performance for your model. "
   ]
  },
  {
   "cell_type": "markdown",
   "id": "5abdef11-1f20-493b-8a0e-b54b069a2ad0",
   "metadata": {},
   "source": [
    "#### Run the code cell below to display the content of the `model definition directory`:"
   ]
  },
  {
   "cell_type": "code",
   "execution_count": null,
   "id": "f5274aa1-3932-45a0-bf2a-56f33e78537a",
   "metadata": {},
   "outputs": [],
   "source": [
    "ls Code -l"
   ]
  },
  {
   "cell_type": "markdown",
   "id": "678b0a17-e2e9-45e5-937e-8f3c5b1fdd77",
   "metadata": {},
   "source": [
    "The Determined model definition directory contains:\n",
    "- `model_def.py`: The model definition exposed to Determined. This is the core code for the model. This includes data loading code, building the model and compiling the model.\n",
    "- `*.yaml`: A set of experiment configuration YAML files that each define settings for how an experiment runs to train the model\n",
    "     - _const.yaml_: Trains the model with single GPU and with constant hyperparameter values, and data located in a shared file system storage.\n",
    "     - _distributed.yaml_: Same as const.yaml, but trains the model with multiple GPUs (distributed training).\n",
    "     - _adaptive.yaml_: Performs a hyperparameter search using Determined's state-of-the-art adaptive hyperparameter tuning algorithm (aka a `Searcher` method).\n",
    "- `startup-hook.sh`: (optional) Additional dependencies that Determined will automatically install into each POD container for this experiment. In the Iris classification example used here, Pandas Python library will be installed."
   ]
  },
  {
   "cell_type": "markdown",
   "id": "f69b59e8-4f1e-4b93-9196-38022f279a08",
   "metadata": {
    "tags": []
   },
   "source": [
    "#### Let’s start simple by training the Iris deep Learning model on a single GPU by defining the hyperparameters as fixed values in the experiment configuration file. \n",
    "\n",
    "#### First, run the code cell below to take a closer look at the `experiment configuration file` const.yaml."
   ]
  },
  {
   "cell_type": "code",
   "execution_count": null,
   "id": "6c3411b8-4620-4901-ba4b-d5f46acc9f13",
   "metadata": {},
   "outputs": [],
   "source": [
    "cat Code/const.yaml"
   ]
  },
  {
   "cell_type": "markdown",
   "id": "48f67296-0b22-4e09-8a17-11ce9caac255",
   "metadata": {},
   "source": [
    "The ***experiment configuration file*** defines the hyperparameters, the Searcher method to use and the settings for that Searcher, the number of GPUs for each trial, the amount of data (batches or epochs) on which to train the model, how often to report training metrics and when the validation occurs, and how often to save (checkpoint) the validated model file.\n",
    "\n",
    "As you can see above, the hyperparameters (for example the _learning_rate_ and the _batch_size_) are defined as fixed values.\n",
    "\n",
    "As for the ***Searcher*** section, Determined used the concept of Searcher to define how Determined should explore the hyperparameter space, the amount of data on which to train the model, and the validation metric. Here, the Searcher method is defined as _Single_ because fixed values are used for the hyperparameters. In this case, Determined does not perform any hyperparameter search and optimization at all. Here, the amount of data on which to train the model is set to 5000 batches.\n",
    "   * ***batch***: group of records passed to the neural network model during training. The hyperparameter ***batch_size*** defines the number of records within a batch.\n",
    "\n",
    "The validation metric ***val_categorical_accuracy*** is used to evaluate the performance of the model and check how well the model performs on new data. For our Iris model use case, the higher the metric, the better the model as per the parameter: _smaller_is_better: false_. \n",
    "\n",
    "The resource setting ***slot_per_trial*** specifies the number of GPUs on which to run the experiment. The default value is 1. Here, we will use the default where a single GPU is used to train the model. \n",
    "\n",
    "The ***entrypoint*** tells the training task where to start running the model code.\n",
    "\n",
    "The parameter ***min_validation_period*** instructs Determined how often to calculate the validation metrics (loss and accuracy) and influences how often to checkpoint the validated model. The validation metrics are plotted by the Master in a graph on the WebUI whenever they are calculated. _By default the validation is calculated at the trial end and the validated model is always checkpointed at the trial end._ In this example, with the periodic validation parameter _min_validation_period_ specified, the validation metric is calculated every 1000 batches and the valided model is checkpointed and saved as a file every 1000 batches **if** it is the best model. \n",
    "\n",
    "Notice the ***bind_mounts*** attributes: To run an experiment that uses data stored in a shared file system, _bind_mounts_ attributes are specified in the experiment configuration file to mount the directory that stores the data to the training task container POD. Here, the bind_mounts point to the shared file system path mounted on the Kubernetes cluster worker nodes by HPE Ezmeral Runtime Enterprise. "
   ]
  },
  {
   "cell_type": "markdown",
   "id": "1f8b2525-3454-488c-86dc-f9c4d07bd96f",
   "metadata": {
    "tags": []
   },
   "source": [
    "#### Next, run the command below to create your first experiment! \n",
    "\n",
    "The Det command specifies the model configuration file to use and the model definition directory. Determined then schedules the training task as a Kubernetes POD. The POD container has all the libraries and dependencies required for training a typical deep learning model with common deep learning frameworks like PyTorch, TensorFlow, and Keras.\n",
    "\n",
    "* _det experiment create \\<experiment_config_file\\> \\<model_definition_directory\\>_\n",
    "\n",
    "The command will return the Experiment Id."
   ]
  },
  {
   "cell_type": "code",
   "execution_count": null,
   "id": "6a80ba35-1d9e-415f-a3fd-340f78663b57",
   "metadata": {},
   "outputs": [],
   "source": [
    "# launch experiment to train a single model on a single GPU\n",
    "det experiment create Code/const.yaml Code"
   ]
  },
  {
   "cell_type": "markdown",
   "id": "8fb3e2d4-074a-4c85-b544-89d3287ba8c6",
   "metadata": {},
   "source": [
    "Using the command below, you will see that the Determined Master has launched **one** training task (trial) for your experiment as a container POD with name in the form:\n",
    "\n",
    " _exp-\\<experimentID\\>-trial-\\<TriaID\\>-\\<unique-name\\>_\n",
    " \n",
    " >**Note:** Since this experiment trains a single model with a fixed set of hyperparameters, there is only one training task (trial) launched.\n",
    " \n",
    "> <font color=\"blue\"> **Note:** As you are sharing the same Kubernetes resources with other participants, and depending on the number of concurrent experiments running, your training task POD might be in **Pending** state waiting for GPU resources to become available. You might need to wait a few minutes until other experiments complete for your training task POD to become **Running**.</font>"
   ]
  },
  {
   "cell_type": "code",
   "execution_count": null,
   "id": "48e8119b-d51c-4663-89d8-b38ebe5ad1ba",
   "metadata": {},
   "outputs": [],
   "source": [
    "kubectl get pods -n determinedai"
   ]
  },
  {
   "cell_type": "markdown",
   "id": "94246ed4-a6d7-4691-bd25-13cf0252ce4b",
   "metadata": {},
   "source": [
    "The Det commands below are used to list your most recent experiment and its status in Determined:\n",
    "\n",
    "* _det experiment list | tail -1_\n",
    "* _det experiment describe \\<experiment_Id\\> --json | jq .[0].state_\n",
    "\n",
    "#### Run the code cell below to track the execution progress of your experiment."
   ]
  },
  {
   "cell_type": "code",
   "execution_count": null,
   "id": "640644ea-eb51-4945-8b59-60e88cd0c9ad",
   "metadata": {},
   "outputs": [],
   "source": [
    "det experiment list | tail -1\n",
    "# Get the experiment Id, remove spaces\n",
    "myexpId=$(det experiment list | tail -1 | cut -d'|' -f 1 |  tr -d ' ')\n",
    "#det experiment describe ${myexpId} --json | jq .[0].state"
   ]
  },
  {
   "cell_type": "markdown",
   "id": "6ea49f9e-d526-497c-97b5-2c235fd03fc0",
   "metadata": {
    "tags": []
   },
   "source": [
    "## 5- Monitor and visualize your experiment in Determined AI Web User Interface\n",
    "\n",
    "To access information on both training and validation performance, you can also simply go to the Determined **WebUI** by entering the service endpoint URL of the Determined Master in your web browser connected to the Internet.\n",
    "\n",
    "* Run the code cell below to get the Determined Master WebUI URL. \n",
    "* Then, click on the displayed link to connect. This will open a new tab in your browser with the Determined UI login banner.\n",
    "* You will be prompted to enter your credentials. Type your StudentID as credentials and press return. The password is `blank` by default.\n",
    "* Upon login you should see the WebUI **dashboard** as shown in the picture below. The Dashboard page shows an overview of tasks on the Determined system as well as an overview of the GPU resources utilization. "
   ]
  },
  {
   "cell_type": "code",
   "execution_count": null,
   "id": "2f891aa3-f1c6-42eb-bc2a-26de08aab774",
   "metadata": {},
   "outputs": [],
   "source": [
    "portUI=$(kubectl describe service determined-master-service-stagingdetai -n determinedai | grep gateway/8080 | awk '{print $3}' | cut -d':' -f 2 |  tr -d ' ')\n",
    "##portUI = str(port)[2:-2]\n",
    "echo \"The Determined Master WebUI URL is: http://${Internet_access}:${portUI}\"\n",
    "echo \"Click the link above to connect. Login using your student Identifier: ${studentId}. You password is ${password}. Click on Sign In button\""
   ]
  },
  {
   "cell_type": "markdown",
   "id": "d640b616-9235-4a32-b2c9-4d1e6c91de08",
   "metadata": {},
   "source": [
    "<img src=\"Pictures/DetWebUI-Login.png\" height=\"298\" width=\"300\">\n",
    "\n",
    "From the WebUI, make sure **you select your StudentID** from the ***Users*** drop-down list as shown in the picture below. By default, the Experiments are displayed. You can select other icons to display auxiliary tasks such as TensorBoard tasks and JupyterLab tasks. We will explore these auxiliary tasks in the next sections. \n",
    "\n",
    "<img src=\"Pictures/DetWebUI-Users-v1.png\" height=\"171\" width=\"900\">\n"
   ]
  },
  {
   "cell_type": "markdown",
   "id": "2f557b46-6a9b-41e5-b436-6373405fbf20",
   "metadata": {},
   "source": [
    "##### From the dashboard, you should see the experiment as an **ACTIVE** state and its completion percentage, or as **COMPLETED**.\n",
    "\n",
    "> <font color=\"blue\"> **Important Note:** If there are multiple concurrent participants to the workshop, your experiment might not run yet because there are more experiments running than the Kubernetes cluster has GPUs. You might need to wait a few minutes until other experiments complete for your experiment to start running. </font>\n",
    "\n",
    "#### Select the most recent experiment you want to visualize.\n",
    "\n",
    "As the experiment runs, the graph is showing the model **validation** accuracy metric (_val_categorical_accuracy_) over the number of completed batches. You can see the graph changing in real time as the experiment runs.\n",
    "\n",
    "From the **Metrics** menu, under **Training Metrics**, select _categorical_accuracy_ (see picture below for an example). This metric indicates the model accuracy on **training** data while the _val_categorical_accuracy_ indicates the model accuracy on **validation** data. \n",
    "\n",
    "<img src=\"Pictures/WebUI-Exp-const-Metrics-selection.png\" height=\"297\" width=\"700\">\n",
    "\n",
    "As you can see in the graphs, the Master plots training metrics every **100 batches** of training data by default, while the validation metrics (\"validation\" accuracy) are plotted every 1000 batches based on the experiment configuration parameter _min_validation_period_.\n",
    "\n",
    "After the experiment completes, although the validation accuracy may differ from one trial to another, you can see on the experiment detail page that training the model with the hyperparameter settings in `const.yaml` yields a validation accuracy between 93% and 97%. \n",
    "\n",
    "Scroll down to see a list of training validation workloads and their metrics for the metric types you previously selected. \n",
    "You might see one or two validation workloads with checkpoints as shown in the picture below. With the default checkpoint collection policy, Determined will checkpoint the most recent validated model and the best model per training task (trial). If the most recent checkpoint is also the best checkpoint for a given trial, only one checkpoint will be saved for that trial. \n",
    "\n",
    "<img src=\"Pictures/WebUI-Exp-const-graph.png\" height=\"520\" width=\"900\">"
   ]
  },
  {
   "cell_type": "markdown",
   "id": "20a2f673-efc0-4deb-a95d-96b36d256c67",
   "metadata": {
    "tags": []
   },
   "source": [
    "## 6 - Launch a TensorBoard visualization instance as **auxiliary workload** on Determined\n",
    "\n",
    "[TensorBoard](https://www.tensorflow.org/tensorboard) is a widely used tool by ML engineers for visualizing and inspecting the learning curve of the trained deep learning models. Determined is integrated with TensorBoard for deeper analysis of your experiment and to help you examine your neural network model by viewing the training and validation loss curves for your experiment in TensorBoard. "
   ]
  },
  {
   "cell_type": "markdown",
   "id": "c492f05d-ad8d-449c-82da-26362aea2711",
   "metadata": {
    "tags": []
   },
   "source": [
    "Determined lets you launch **auxiliary workload** such as a Tensorboard server, and access TensorBoard in one-click from the WebUI, or you can run the following command in Determined’s command line:\n",
    "\n",
    "* _det tensorboard start \\<experiment_Id\\>_\n",
    "\n",
    "#### Run the code cell below to launch the TensorBoard server instance.\n",
    "\n",
    "This may take a minute or so as Determined has to launch the Tensorboard server as a Kubernetes POD. "
   ]
  },
  {
   "cell_type": "code",
   "execution_count": null,
   "id": "6992aaad-9afd-4573-ba07-a7c99e43a93e",
   "metadata": {},
   "outputs": [],
   "source": [
    "echo \"Start a Tensordboard server instance for your Experiment ${myexpId} with TensorBoard instance ID:\"\n",
    "# start the tensorBoard server instance for the experiment\n",
    "det tensorboard start -d ${myexpId}"
   ]
  },
  {
   "cell_type": "markdown",
   "id": "547ad7ba-e4ad-4985-849c-6b847a99129d",
   "metadata": {},
   "source": [
    ">**Note:** Run the code cell below. You will notice that the TensorBoard server instance is launched as a container POD in the Kubernetes cluster. The POD name is in the form \"_cmd-0-\\<TensorBoard-Instance-ID\\>_\". Determined proxies HTTP requests to and from the TensorBoard container through the Determined Master node."
   ]
  },
  {
   "cell_type": "code",
   "execution_count": null,
   "id": "10529b04-9a3b-437f-9cae-7e32a958470d",
   "metadata": {},
   "outputs": [],
   "source": [
    "kubectl get pod -n determinedai"
   ]
  },
  {
   "cell_type": "markdown",
   "id": "9a431609-6c60-4009-b30d-f9899f9baf06",
   "metadata": {},
   "source": [
    "#### Once the POD is in running state, run the code cell below to get the Tensorboard URL for your experiment. Then, click on the link to connect.\n",
    ">Note: It may take a minute for the POD to be in running state. Please wait one minute to continue."
   ]
  },
  {
   "cell_type": "code",
   "execution_count": null,
   "id": "7c186496-a26e-4607-a1e5-402baa52e7e8",
   "metadata": {},
   "outputs": [],
   "source": [
    "mytensorboard=$(det tensorboard list | grep RUNNING | cut -d'|' -f 1 |  tr -d ' ')\n",
    "##mytensorboard=str(mytensorboard)[2:-2]\n",
    "#print (f\"{mytensorboard}\")\n",
    "echo \"Your tensorboard is running at http://${Internet_access}:${portUI}/proxy/${mytensorboard}/\"\n",
    "echo \"Click on the link to connect.\""
   ]
  },
  {
   "cell_type": "markdown",
   "id": "9d80fc27-adf2-4773-a179-4e37a610ebce",
   "metadata": {},
   "source": [
    "<img src=\"Pictures/TensorBoard-const-graph.png\" height=\"413\" width=\"900\">"
   ]
  },
  {
   "cell_type": "markdown",
   "id": "1e298668-ca20-46cf-a648-4cecf3176bb8",
   "metadata": {},
   "source": [
    "Determined created TensorBoard plots to show the training loss, validation loss, training accuracy and validation accuracy for the training task (trial).\n",
    "\n",
    "#### When you have finished with Tensorboard, run the code cell below to `kill` the Tensorboard process"
   ]
  },
  {
   "cell_type": "code",
   "execution_count": null,
   "id": "bb3d6f00-eb7a-41bf-a376-f44f86282e67",
   "metadata": {},
   "outputs": [],
   "source": [
    "det tensorboard kill ${mytensorboard}"
   ]
  },
  {
   "cell_type": "markdown",
   "id": "9ddc7fdd-bdaa-48fb-b689-d7063b12c3aa",
   "metadata": {
    "tags": []
   },
   "source": [
    "## 7 - List the best model created by the training process\n",
    "By default, Determined will save the most recent and the best checkpoint per training task (trial) according to the validation metrics specified in the Searcher section of the configuration file for the experiment.\n",
    "\n",
    "* _det experiment list-checkpoints [--best] [N best checkpoints to return] \\<experiment_Id\\>_\n",
    "\n",
    ">**Note**: Upon completion of the training task, if the most recent checkpoint is also the best checkpoint for a given trial, only one checkpoint will be saved for that trial by Determined. Otherwise, two checkpoints will be saved. Other checkpoints will be automatically deleted to reclaim space. You can verify this using the command below.\n",
    "\n",
    "#### Run the code cell below to display the best checkpoint(s) for your experiment"
   ]
  },
  {
   "cell_type": "code",
   "execution_count": null,
   "id": "79c5ce52-2f44-4dd0-b7cc-ca154e6ba175",
   "metadata": {},
   "outputs": [],
   "source": [
    "#list the best Trial checkpoint(s) (training task):\n",
    "det experiment list-checkpoints --best 2 ${myexpId}"
   ]
  },
  {
   "cell_type": "markdown",
   "id": "6edeaa24-b74f-441e-914e-a0f75507751a",
   "metadata": {
    "tags": []
   },
   "source": [
    "## 8 - Launch a JupyterLab instance as **auxiliary workload** on Determined\n",
    "\n",
    "Users can also launch a JupyterLab server instance as **auxiliary workload** on Determined, in which they run Jupyter Notebooks. This is useful to load and test a model that was trained during the experiment because the Determined CLI is installed into the JupyterLab server instance by default, and the JupyterLab server container has access to the shared file system where the checkpoints are stored. \n",
    "\n",
    "In the next section of this part of the lab, you can use the JupyterLab server instance on Determined to test your trained model and make predictions. \n",
    "\n",
    "Determined lets you launch an instance of a JupyterLab server in Determined in Kubernetes and access the JupyterLab server in one-click from the WebUI, or you can run the following command in Determined’s command line:\n",
    "\n",
    "* _det notebook start [--config-file configurationFile]_\n",
    "\n",
    "The configuration file is used to control aspects of the JupyterLab environment such as a description, the checkpoint volume where trial checkpoints are stored in the shared file system, and the resources (CPU or GPU) used to launch the JupyterLab server. Run the next code cell to look at the content of the configuration file.\n",
    "\n",
    "#### Run the code cell below to examine the settings for the JupyterLab instance.\n",
    "The configuration file used here allows you to launch a JupyterLab server instance that does not use any GPUs (***resources.slot=0***) and that gets access to the shared checkpoint storage area where the model artifacts are stored. The shared checkpoint storage is mounted to ***/determined_shared_fs*** mount point inside Jupyterlab container POD. "
   ]
  },
  {
   "cell_type": "code",
   "execution_count": null,
   "id": "d82e92f6-d343-4dc8-a006-b7e765a00297",
   "metadata": {},
   "outputs": [],
   "source": [
    "cat Code/notebook-config.yaml"
   ]
  },
  {
   "cell_type": "markdown",
   "id": "e7ce4700-ffd1-4104-abd7-cdcc8875146a",
   "metadata": {},
   "source": [
    "#### Run the code cell below to launch an instance of the JupyterLab\n",
    "It may take a minute or so for the JupyterLab instance to become active as Determined has to launch the JupyterLab server instance as a Kubernetes POD in the Kubernetes cluster. "
   ]
  },
  {
   "cell_type": "code",
   "execution_count": null,
   "id": "69109e4c-c5d1-4a58-b076-5202c1db670d",
   "metadata": {},
   "outputs": [],
   "source": [
    "echo \"Start a JupyterLab server instance within Determined system with instance ID:\"\n",
    "# start the Jyputer Notebook server instance for the experiment\n",
    "det notebook start -d --config-file Code/notebook-config.yaml"
   ]
  },
  {
   "cell_type": "markdown",
   "id": "325e6721-f03f-4072-9b63-b7178ca0e294",
   "metadata": {},
   "source": [
    ">**Note:** Run the code cell below. You will notice that JupyterLab instance is launched as a container POD in the Kubernetes cluster. The POD name is in the form \"_cmd-0-\\<Jupyterlab-Instance-ID\\>_\". Determined proxies HTTP requests to and from the JupyterLab container through the Determined Master node."
   ]
  },
  {
   "cell_type": "code",
   "execution_count": null,
   "id": "f4fde6bc-fa46-4bf8-996c-6223139c61e5",
   "metadata": {},
   "outputs": [],
   "source": [
    "kubectl get pod -n determinedai"
   ]
  },
  {
   "cell_type": "markdown",
   "id": "95369ccb-04fe-4641-bebe-ae5ef28f8e2b",
   "metadata": {},
   "source": [
    "#### Check the status of the JupyterLab instance using the command below:\n",
    "* _det notebook list_"
   ]
  },
  {
   "cell_type": "code",
   "execution_count": null,
   "id": "580d18fa-e82d-4478-8876-7e1315ff8ad2",
   "metadata": {},
   "outputs": [],
   "source": [
    "det notebook list | grep -e RUNNING -e STARTING"
   ]
  },
  {
   "cell_type": "markdown",
   "id": "a9e0d22a-96cf-4fcb-83c1-e7ccb87fb4e2",
   "metadata": {},
   "source": [
    "## 9- Inferences with Determined\n",
    "When you train a model with Determined, all of the artifacts (model files) associated with that training tasks are tracked and stored in the _checkpoint storage_. Determined lets you access the artifacts programmatically using the Python API from within the JupyterLab server launched on Determined system. This makes it really easy for you to export your best-performing trained model out of Determined and load it for testing the model by making **inferences** (the process of using a trained model and new unlabeled data to make a prediction).\n",
    "\n",
    "* More information about the Determined's Python API can be found [here](https://docs.determined.ai/latest/interact/api-experimental-client.html).\n",
    "* More information for downloading a trained model can be found [here](https://docs.determined.ai/latest/post-training/use-trained-models.html).\n",
    "\n",
    "#### Run the code cell to adjust some environment variables in the notebook **Inferences.ipynb**"
   ]
  },
  {
   "cell_type": "code",
   "execution_count": null,
   "id": "0c2cbfdd-1e88-492a-ac17-c1fa8cd02385",
   "metadata": {},
   "outputs": [],
   "source": [
    "sed -i \"s/USERNAME/${studentId}/\" Inferences.ipynb\n",
    "sed -i \"s/EXPID/${myexpId}/\" Inferences.ipynb\n",
    "sed -i \"s/MASTERURL/${masterUrl}/\" Inferences.ipynb\n",
    "sed -i \"s/PASSW/${password}/\" Inferences.ipynb"
   ]
  },
  {
   "cell_type": "markdown",
   "id": "0d743a57-ce49-4963-95c5-5332f6a051e1",
   "metadata": {},
   "source": [
    "#### Next, download the file **Inferences.ipynb** to your local PC/laptop. \n",
    "\n",
    "You will use this notebook to test your trained model by making some inferences from JupyterLab instance you have just launched on Determined.\n",
    "\n",
    "Right-click on the file **Inferences.ipynb** and choose **Download**."
   ]
  },
  {
   "cell_type": "markdown",
   "id": "904a598a-1920-46cd-bfc2-112737d2242a",
   "metadata": {},
   "source": [
    "#### Now, connect to the JupyterLab server instance you have just deployed: \n",
    "\n",
    "* Run the code cell below to get the JupyterLab URL. Then, click on the link to connect to the JupyterLab instance you have just launched on Determined.\n",
    "\n",
    "* On the JupyterLab instance, click the ***up arrow*** icon to **upload** the file _Inferences.ipynb_ from your local PC/laptop. Once the file is uploaded, double-click the file to open the notebook. "
   ]
  },
  {
   "cell_type": "code",
   "execution_count": null,
   "id": "3a53db3e-a19e-46c5-b10c-4dbb637d4cd9",
   "metadata": {},
   "outputs": [],
   "source": [
    "myNotebook=$(det notebook list | grep RUNNING | cut -d'|' -f 1 |  tr -d ' ')\n",
    "##echo \"${myNotebook}\"\n",
    "echo \"Your JupyterLab instance is running at http://${Internet_access}:${portUI}/proxy/${myNotebook}/\"\n",
    "echo \"Click on the link to connect to the JupyterLab instance you just launched.\"\n",
    "echo \"On JupyterLab instance, click the up arrow to upload the file Inferences.ipynb.\""
   ]
  },
  {
   "cell_type": "markdown",
   "id": "46f491a9-dd42-4792-a2ef-46f190479d95",
   "metadata": {},
   "source": [
    "> <font color=\"red\"> **IMPORTANT: When you have finished with the Inferences in JupyterLab on the Determined, please go back to your local Jupyter Notebook to run the code cells below and perform some cleanup** </font>."
   ]
  },
  {
   "cell_type": "markdown",
   "id": "7a082464-b80e-45a8-8bf3-2fac4c4126cc",
   "metadata": {},
   "source": [
    "## 10- Time to cleanup: Delete the checkpoints for your experiment to reclaim storage space in the shared file system and stop the JupyterLab instance\n",
    "\n",
    "The ***save_experiment_best***, ***save_trial_best*** and ***save_trial_latest*** parameters of the checkpoint collection policy specify which checkpoints to save. The default policy is set as follows:\n",
    "\n",
    "  * save_experiment_best:0 \n",
    "  * save_trial_best:1\n",
    "  * save_trial_latest:1\n",
    " \n",
    "The default **checkpoint garbage collection policy** dictates Determined to checkpoint the most recent (the latest) validated model and the best model per training task (trial). The “best” checkpoint for a trial is the checkpoint with the model judged best based on the validation metric defined in the Searcher settings of the experiment configuration file.\n",
    "  \n",
    "#### Run the code cell below to reclaim some storage disk space by changing the default checkpoint garbage collection policy, as shown below:"
   ]
  },
  {
   "cell_type": "code",
   "execution_count": null,
   "id": "b41024e9-3159-4fb8-8ae6-3c79515a0b0c",
   "metadata": {},
   "outputs": [],
   "source": [
    "# Delete the checkpoints data for the single model training using a single GPU\n",
    "det experiment set gc-policy --yes --save-experiment-best 0 --save-trial-best 0 --save-trial-latest 0 ${myexpId}"
   ]
  },
  {
   "cell_type": "markdown",
   "id": "796249d0-f919-4122-af5d-2a044255cd0a",
   "metadata": {},
   "source": [
    "#### Next, delete the instance of the JupyterLab server."
   ]
  },
  {
   "cell_type": "code",
   "execution_count": null,
   "id": "aad35c95-2ef6-4211-bc0e-d00eca8004ac",
   "metadata": {},
   "outputs": [],
   "source": [
    "det notebook kill ${myNotebook}"
   ]
  },
  {
   "cell_type": "markdown",
   "id": "b50463fa-d916-4422-85d9-79f7b97bdbd2",
   "metadata": {},
   "source": [
    "#### Now that you have the base principles about Determined in mind, let's explore Distributing training with Determined.\n",
    "\n",
    "Click on Lab 2 below to open a notebook to explore Distributed Training with Determined. \n",
    "* [Lab 2](2-WKSHP-DET-AI-101-Getting-started-Dist-Training.ipynb)"
   ]
  }
 ],
 "metadata": {
  "kernelspec": {
   "display_name": "Bash",
   "language": "bash",
   "name": "bash"
  },
  "language_info": {
   "codemirror_mode": "shell",
   "file_extension": ".sh",
   "mimetype": "text/x-sh",
   "name": "bash"
  }
 },
 "nbformat": 4,
 "nbformat_minor": 5
}
