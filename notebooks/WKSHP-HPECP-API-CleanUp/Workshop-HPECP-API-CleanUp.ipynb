{
 "cells": [
  {
   "cell_type": "markdown",
   "metadata": {},
   "source": [
    "# HPE Container Platform (HPE CP) API series  - Clean Up of leftover resources in K8s cluster\n"
   ]
  },
  {
   "cell_type": "markdown",
   "metadata": {},
   "source": [
    "#### Initialize the environment:"
   ]
  },
  {
   "cell_type": "code",
   "execution_count": null,
   "metadata": {},
   "outputs": [],
   "source": [
    "#\n",
    "# environment variables to be adjusted/verified by the student\n",
    "#\n",
    "student=\"hpedevadmin\" # your Jupyter Notebook student Identifier (i.e.: student<xx>)\n",
    "username=\"demoadmin\" # your HPE CP tenant login credentials - username \n",
    "password=\"CleanUpDISCO2020\" # your HPE CP tenant login credentials - password\n",
    "#\n",
    "# fixed environment variables setup by the HPE CP lab administrator\n",
    "#\n",
    "controller_endpoint=\"gateway1.hpedevlab.net:8080\"\n",
    "gateway_host=\"gateway1.hpedevlab.net\"\n",
    "tenantname=\"K8sHackTenant\"\n",
    "k8sClusterId=\"1\"  #this is the K8s Cluster Id provided by the HPE CP admisnistrator and assigned to your K8s tenant.\n",
    "helloWorldApp=\"hello-world-app.yaml\" # the application manifest you will deploy in this lab\n",
    "tensorFlowApp=\"tensorflow-notebook-config-cluster.yaml\" # the kubedirector application cluster configuration TensorFlow\n",
    "\n",
    "echo \"your operation context is:\" $username \"on tenant\" $tenantname "
   ]
  },
  {
   "cell_type": "markdown",
   "metadata": {},
   "source": [
    "#### Authenticate as a Tenant admin in the specified tenant:"
   ]
  },
  {
   "cell_type": "code",
   "execution_count": null,
   "metadata": {},
   "outputs": [],
   "source": [
    "sessionlocation=$(curl -k -i -s --request POST \"https://${controller_endpoint}/api/v2/session\" \\\n",
    "--header 'Accept: application/json' \\\n",
    "--header 'Content-Type: application/json' \\\n",
    "--data-raw '{\n",
    "\"name\": \"'\"$username\"'\",\n",
    "\"password\": \"'\"$password\"'\",\n",
    "\"tenant_name\": \"'\"$tenantname\"'\"\n",
    "}' | grep Location | awk '{print $2}' | tr -d '\\r') #we remove any cr that might exist\n",
    "echo \"This is your session location: \" $sessionlocation\n",
    "SessionId=$(echo $sessionlocation | cut -d'/' -f 5) # extract sessionId for later, for logout\n",
    "echo \"This is your session_Id:\" $SessionId"
   ]
  },
  {
   "cell_type": "markdown",
   "metadata": {},
   "source": [
    "#### Get the Kubeconfig file for your tenant working context:"
   ]
  },
  {
   "cell_type": "code",
   "execution_count": null,
   "metadata": {},
   "outputs": [],
   "source": [
    "curl -k -s --request GET \"https://${controller_endpoint}/api/v2/k8skubeconfig\" \\\n",
    "--header \"X-BDS-SESSION: $sessionlocation\" \\\n",
    "--header 'Accept: application/json' \\\n",
    "--header 'Content-Type: application/json' > ${student}_kubeconfig"
   ]
  },
  {
   "cell_type": "code",
   "execution_count": null,
   "metadata": {},
   "outputs": [],
   "source": [
    "cat ${student}_kubeconfig"
   ]
  },
  {
   "cell_type": "markdown",
   "metadata": {},
   "source": [
    "> Notice the kubeconfig file includes the valid token (session location) for the current session you previously established."
   ]
  },
  {
   "cell_type": "markdown",
   "metadata": {},
   "source": [
    "#### Define the Kubeconfig file as a shell environment variable:"
   ]
  },
  {
   "cell_type": "code",
   "execution_count": null,
   "metadata": {},
   "outputs": [],
   "source": [
    "#define the Kubeconfig file as a shell environment variable to tell kubectl where to look for the kubeconfig file\n",
    "export KUBECONFIG=\"${student}_kubeconfig\"\n",
    "echo $KUBECONFIG"
   ]
  },
  {
   "cell_type": "markdown",
   "metadata": {},
   "source": [
    "#### Check your working tenant context:"
   ]
  },
  {
   "cell_type": "code",
   "execution_count": null,
   "metadata": {},
   "outputs": [],
   "source": [
    "kubectl config current-context"
   ]
  },
  {
   "cell_type": "markdown",
   "metadata": {},
   "source": [
    "You can now send Kubernetes API requests using a K8s API client such as **kubectl** to cleanup leftover K8s resources deployed by attendees."
   ]
  },
  {
   "cell_type": "markdown",
   "metadata": {},
   "source": [
    "## Deleting Hello-world and tensorFlow applications"
   ]
  },
  {
   "cell_type": "markdown",
   "metadata": {},
   "source": [
    "#### -1- Delete Hello World containerized applications:"
   ]
  },
  {
   "cell_type": "markdown",
   "metadata": {},
   "source": [
    "Verifying if there is any hello-world app resources. A result of `: 1` means no PODs left for hello-world apps."
   ]
  },
  {
   "cell_type": "code",
   "execution_count": null,
   "metadata": {},
   "outputs": [],
   "source": [
    "kubectl get pod | grep hello-world"
   ]
  },
  {
   "cell_type": "markdown",
   "metadata": {},
   "source": [
    "Depending on the output of the command, you may want to delete leftover K8s resources for hello-world applications."
   ]
  },
  {
   "cell_type": "code",
   "execution_count": null,
   "metadata": {},
   "outputs": [],
   "source": [
    "for i in {1..75}\n",
    "do\n",
    "   echo \"Cleanup student$i - Hello-world app\"\n",
    "   sed -i \"s/example/student$i/g\" $helloWorldApp\n",
    "   #cat $helloWorldApp\n",
    "   kubectl delete -f $helloWorldApp\n",
    "   echo \"reset YAML file after cleanup of student$i\"\n",
    "   sed -i \"s/student$i/example/g\" $helloWorldApp\n",
    "   #cat $helloWorldApp\n",
    "done"
   ]
  },
  {
   "cell_type": "code",
   "execution_count": null,
   "metadata": {},
   "outputs": [],
   "source": [
    "kubectl get pod | grep hello-world"
   ]
  },
  {
   "cell_type": "markdown",
   "metadata": {},
   "source": [
    "#### -2- Delete kubedirectorapp Tensorflow instances:"
   ]
  },
  {
   "cell_type": "markdown",
   "metadata": {},
   "source": [
    "Verifying if there is any kubedirectorapp instances."
   ]
  },
  {
   "cell_type": "code",
   "execution_count": null,
   "metadata": {},
   "outputs": [],
   "source": [
    "kubectl get kubedirectorcluster | grep tensorflow"
   ]
  },
  {
   "cell_type": "markdown",
   "metadata": {},
   "source": [
    "Depending on the output of the command, you may want to delete leftover K8s resources for TensorFlow applications."
   ]
  },
  {
   "cell_type": "code",
   "execution_count": null,
   "metadata": {},
   "outputs": [],
   "source": [
    "for i in {1..75}\n",
    "do\n",
    "   echo \"Cleanup student$i - TensorFlow app\"\n",
    "   sed -i \"s/example/student$i/g\" $tensorFlowApp\n",
    "   #cat $tensorFlowApp\n",
    "   kubectl delete -f $tensorFlowApp\n",
    "   echo \"reset YAML file after cleanup of student$i\"\n",
    "   sed -i \"s/student$i/example/g\" $tensorFlowApp\n",
    "   #cat $tensorFlowApp\n",
    "done"
   ]
  },
  {
   "cell_type": "code",
   "execution_count": null,
   "metadata": {},
   "outputs": [],
   "source": [
    "kubectl get kubedirectorcluster | grep tensorflow"
   ]
  },
  {
   "cell_type": "markdown",
   "metadata": {},
   "source": [
    "Close the login session"
   ]
  },
  {
   "cell_type": "code",
   "execution_count": null,
   "metadata": {},
   "outputs": [],
   "source": [
    "curl -k -i -s --request DELETE \"https://${controller_endpoint}/api/v2/session/${SessionId}\" \\\n",
    "--header \"X-BDS-SESSION: $sessionlocation\" \\\n",
    "--header 'Accept: application/json' \\\n",
    "--header 'Content-Type: application/json'"
   ]
  },
  {
   "cell_type": "markdown",
   "metadata": {},
   "source": [
    "The status *204 No Content* means the session object has been deleted."
   ]
  },
  {
   "cell_type": "markdown",
   "metadata": {},
   "source": [
    "Delete the kubeconfig file"
   ]
  },
  {
   "cell_type": "code",
   "execution_count": null,
   "metadata": {},
   "outputs": [],
   "source": [
    "rm ${student}_kubeconfig"
   ]
  },
  {
   "cell_type": "code",
   "execution_count": null,
   "metadata": {},
   "outputs": [],
   "source": []
  }
 ],
 "metadata": {
  "kernelspec": {
   "display_name": "Bash",
   "language": "bash",
   "name": "bash"
  },
  "language_info": {
   "codemirror_mode": "shell",
   "file_extension": ".sh",
   "mimetype": "text/x-sh",
   "name": "bash"
  }
 },
 "nbformat": 4,
 "nbformat_minor": 4
}
