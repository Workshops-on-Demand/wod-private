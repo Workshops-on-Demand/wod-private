{
 "cells": [
  {
   "cell_type": "markdown",
   "metadata": {},
   "source": [
    "# Managing an HPE SDF 280 RMC with Redfish"
   ]
  },
  {
   "cell_type": "code",
   "execution_count": null,
   "metadata": {},
   "outputs": [],
   "source": [
    "########## Environment preparation (Version: 0.30) ############\n",
    "\n",
    "\n",
    "# Set Student ID number\n",
    "export stdid={{ STDID }}\n",
    "Id=$(id --user --name)\n",
    "\n",
    "# location and ports variables\n",
    "ObmcBasePort={{ OBMCBASEPORT }}\n",
    "iLO5DlBasePort=45000\n",
    "iLO5SyBasePort=46000\n",
    "RMCSdfBasePort=47000\n",
    "\n",
    "let OpenBmcPort=${ObmcBasePort}+${stdid}\n",
    "let iLO5DlSimulatorPort=$iLO5DlBasePort+${stdid}\n",
    "let iLO5SySimulatorPort=${iLO5SyBasePort}+${stdid}\n",
    "let RMCSdfSimulatorPort=${RMCSdfBasePort}+${stdid}\n",
    "let ilo5Port=443\n",
    "\n",
    "CacheDlDir=\"${PWD}/iLOrestCacheDl\"\n",
    "CacheSyDir=\"${PWD}/iLOrestCacheSy\"\n",
    "CacheSdfDir=\"${PWD}/iLOrestCacheSdf\"\n",
    "LogDir=\"${PWD}\"\n",
    "LogFile=\"${LogDir}/iLOrest.log\"\n",
    "\n",
    "iLO5DlSimulatorIP=ilo5simulators\n",
    "iLO5SySimulatorIP=ilo5simulators\n",
    "RMCSdfSimulatorIP=ilo5simulators\n",
    "OpenBmcIP=openbmcsimulators\n",
    "\n",
    "iLO5DlSimulator=${iLO5SimulatorIP}:${iLO5DlSimulatorPort}\n",
    "iLO5DlSimulatorURI=https://${iLO5DlSimulator}\n",
    "\n",
    "iLO5SySimulator=${iLO5SimulatorIP}:${iLO5SySimulatorPort}\n",
    "iLO5SySimulatorURI=https://${iLO5SySimulator}\n",
    "\n",
    "RMCSdfSimulator=${RMCSdfSimulatorIP}:${RMCSdfSimulatorPort}\n",
    "RMCSdfSimulatorURI=https://${RMCSdfSimulator}\n",
    "\n",
    "OpenBmc=\"${OpenBmcIP}:${OpenBmcPort}\"\n",
    "OpenBmcURI=\"https://${OpenBmc}\"\n",
    "\n",
    "ilo5IP=\"ilo5\"\n",
    "ilo5=\"${ilo5IP}:${ilo5Port}\"\n",
    "ilo5URI=\"https://${ilo5}\"\n",
    "\n",
    "# Credentials\n",
    "iLOUser=\"student\"\n",
    "iLOPassword={{ REDFISHPWD }}\n",
    "RmcUser=\"administrator\"\n",
    "RmcPassword={{ REDFISHPWD }}\n",
    "\n",
    "# Miscellaneous\n",
    "WorkshopDir=$PWD\n",
    "HpePythonRedfishVenv=\"HpePythonRedfishVenv\"\n",
    "#export PYTHONPATH=\"${WorkshopDir}/${NbId}/library/\"\n",
    "w=$(basename $PWD)\n",
    "\n",
    "alias ResetSimulators=\"../create-globalbmc.shc.x &>/dev/null ; sleep 1\"\n",
    "\n",
    "# Verify we can reach the remote Bmcs on the right HTTPS ports. \n",
    "for bmc in OpenBmc ilo5 iLO5DlSimulator iLO5SySimulator RMCSdfSimulator ; do\n",
    "    ip=\"${bmc}IP\" ; port=\"${bmc}Port\"\n",
    "    nc -vz  $(eval echo \"\\$${ip}\") $(eval echo \"\\$${port}\") &> /dev/null &&\n",
    "        echo \"$bmc is reachable\" \\\n",
    "        || echo \"WARNING: Problem reaching $bmc\"\n",
    "done\n",
    "\n",
    "echo\n",
    "# Retrieve iLO firmware versions from ServiceRoot (no credentials needed)\n",
    "for bmc in ilo5 iLO5DlSimulator iLO5SySimulator ; do\n",
    "    ip=\"${bmc}IP\" ; port=\"${bmc}Port\"\n",
    "    echo -n \"$bmc firmware version: \"\n",
    "    curl --silent --insecure -X GET https://$(eval echo \\$${ip}):$(eval echo \\$${port})/redfish/v1 | \\\n",
    "         jq  '[.Oem.Hpe.Manager[]] | .[] | .ManagerFirmwareVersion' 2>/dev/null\n",
    "done\n",
    "\n",
    "echo \n",
    "# Print ilorest version\n",
    "ilorest --version"
   ]
  },
  {
   "cell_type": "markdown",
   "metadata": {},
   "source": [
    "## Restart simulators"
   ]
  },
  {
   "cell_type": "code",
   "execution_count": null,
   "metadata": {},
   "outputs": [],
   "source": [
    "# Simulators restart\n",
    "ResetSimulators\n",
    "\n",
    "# Verify we can reach the remote Bmcs on the right HTTPS ports. \n",
    "for bmc in ilo5 OpenBmc iLO5DlSimulator iLO5SySimulator RMCSdfSimulator ; do\n",
    "    ip=\"${bmc}IP\" ; port=\"${bmc}Port\"\n",
    "    nc -vz  $(eval echo \"\\$${ip}\") $(eval echo \"\\$${port}\") &>/dev/null && \n",
    "        echo \"$bmc is reachable\" \\\n",
    "        || echo \"WARNING: Problem reaching $bmc\"\n",
    "done"
   ]
  },
  {
   "cell_type": "markdown",
   "metadata": {},
   "source": [
    "The following command dumps the RMC top-level model. "
   ]
  },
  {
   "cell_type": "code",
   "execution_count": null,
   "metadata": {},
   "outputs": [],
   "source": [
    "# Get RMC information\n",
    "curl --insecure --silent --user ${RmcUser}:${RmcPassword} \\\n",
    "     --request GET \\\n",
    "     ${RMCSdfSimulatorURI}/redfish/v1/Managers/RMC | python3 -m json.tool\n"
   ]
  },
  {
   "cell_type": "markdown",
   "metadata": {},
   "source": [
    "You can continue to run individual curl commands, each providing the username/\n",
    "password or or you can create a session\n",
    "\n",
    "## Sessions\n",
    "\n",
    "Redfish supports a facility to retrieve an authentication token to use for a session, in the same way a browser session does for https. To get a\n",
    "token for a session, POST to /redfish/v1/SessionService/Sessions/ to create a session. The authentication token is part of the\n",
    "response from that POST. Use the authentication token in subsequent commands, then (as a best practice), remove your session from\n",
    "SessionService when you are done. Complete details are included in how-to videos on redfish.dmtf.org/.\n",
    "\n",
    "The following combines the POST with a variable set, to grab the authentication token for later use.\n"
   ]
  },
  {
   "cell_type": "code",
   "execution_count": null,
   "metadata": {},
   "outputs": [],
   "source": [
    "curl --silent --include --insecure \\\n",
    "     --request POST \\\n",
    "     --header 'Content-Type: application/json' \\\n",
    "     --data '{\"UserName\":\"'${RmsUser}'\",\"Password\":\"'${RmcPassword}'\"}' \\\n",
    "     ${RMCSdfSimulatorURI}/redfish/v1/SessionService/Sessions/ # | awk '/X-Auth-Token/ {print $2} ' | tr -d '\\r\\n'\n",
    "\n",
    "export AUTH_TOKEN=\"FakeToken\""
   ]
  },
  {
   "cell_type": "markdown",
   "metadata": {},
   "source": [
    "## Power on"
   ]
  },
  {
   "cell_type": "code",
   "execution_count": null,
   "metadata": {},
   "outputs": [],
   "source": [
    "curl --silent --insecure --include \\\n",
    "     --header \"X-Auth-Token: ${AUTH_TOKEN}\" \\\n",
    "     --header 'Content-Type: application/json' \\\n",
    "     -X POST  -d '{\"ResetType\": \"On\"}' \\\n",
    "     ${RMCSdfSimulatorURI}/redfish/v1/Systems/Partition0/Actions/ComputerSystem.Reset"
   ]
  },
  {
   "cell_type": "code",
   "execution_count": null,
   "metadata": {},
   "outputs": [],
   "source": [
    "## Delete session"
   ]
  },
  {
   "cell_type": "code",
   "execution_count": null,
   "metadata": {},
   "outputs": [],
   "source": [
    "curl --include --insecure \\\n",
    "     -H \"X-Auth-Token: ${AUTH_TOKEN}\" \\\n",
    "     -H 'Content-Type: application/json'\n",
    "     -X DELETE  \\\n",
    "      ${RMCSdfSimulatorURI}/redfish/v1/SessionService/Sessions/administrator0c6f70f1959f47718e70dfda02d4ef4a"
   ]
  },
  {
   "cell_type": "markdown",
   "metadata": {},
   "source": [
    "## DMTF Redfishtool"
   ]
  },
  {
   "cell_type": "code",
   "execution_count": null,
   "metadata": {},
   "outputs": [],
   "source": [
    "# Create Virtual Python environment (Venv)\n",
    "[ -d ${HpePythonRedfishVenv} ] && rm -rf ${HpePythonRedfishVenv} &>/dev/null \n",
    "python3 -m venv ${HpePythonRedfishVenv}                         &>/dev/null\n",
    "source ${HpePythonRedfishVenv}/bin/activate                     &>/dev/null\n",
    "PS1=\"[PEXP\\[\\]ECT_PROMPT>\"                                      # Avoid Venv long prompt messing up outputs\n",
    "\n",
    "# Install latest Ansible in the Venv\n",
    "pip install redfishtool                                         &>/dev/null\n",
    "\n",
    "echo -e \"\\n\\n\\tFinished creating Venv\\n\\n\""
   ]
  },
  {
   "cell_type": "code",
   "execution_count": null,
   "metadata": {},
   "outputs": [],
   "source": [
    "\n",
    "redfishtool.py --Secure=Always --rhost=$RMCSdfSimulator -u $RmcUser -p $RmcPassword serviceRoot\n"
   ]
  },
  {
   "cell_type": "markdown",
   "metadata": {},
   "source": [
    "## List partitions"
   ]
  },
  {
   "cell_type": "code",
   "execution_count": null,
   "metadata": {},
   "outputs": [],
   "source": [
    "redfishtool.py --rhost=$RMCSdfSimulator --Secure=Always  -u $RmcUser -p $RmcPassword Systems"
   ]
  },
  {
   "cell_type": "markdown",
   "metadata": {},
   "source": [
    "## Top level resources for Partition 0"
   ]
  },
  {
   "cell_type": "code",
   "execution_count": null,
   "metadata": {},
   "outputs": [],
   "source": [
    "redfishtool.py --rhost=$RMCSdfSimulator --Secure=Always  -u $RmcUser -p $RmcPassword Systems -I Partition0"
   ]
  },
  {
   "cell_type": "code",
   "execution_count": null,
   "metadata": {},
   "outputs": [],
   "source": [
    "redfishtool.py --rhost=$RMCSdfSimulator --Secure=Always  -u $RmcUser -p $RmcPassword Systems -I Partition0 -P Status"
   ]
  },
  {
   "cell_type": "markdown",
   "metadata": {},
   "source": [
    "## DMTF Tackle box"
   ]
  },
  {
   "cell_type": "code",
   "execution_count": null,
   "metadata": {},
   "outputs": [],
   "source": [
    "pip install redfish_utilities"
   ]
  },
  {
   "cell_type": "code",
   "execution_count": null,
   "metadata": {},
   "outputs": [],
   "source": [
    "echo $RMCSdfSimulator\n",
    "rf_sensor_list.py -u $RmcUser -p $RmcPassword -r https://$RMCSdfSimulator"
   ]
  },
  {
   "cell_type": "code",
   "execution_count": null,
   "metadata": {},
   "outputs": [],
   "source": []
  }
 ],
 "metadata": {
  "kernelspec": {
   "display_name": "Bash",
   "language": "bash",
   "name": "bash"
  },
  "language_info": {
   "codemirror_mode": "shell",
   "file_extension": ".sh",
   "mimetype": "text/x-sh",
   "name": "bash"
  }
 },
 "nbformat": 4,
 "nbformat_minor": 4
}
