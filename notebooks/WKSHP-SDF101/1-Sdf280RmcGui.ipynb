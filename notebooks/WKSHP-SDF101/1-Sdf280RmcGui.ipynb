{
 "cells": [
  {
   "cell_type": "markdown",
   "metadata": {},
   "source": [
    "# RMC GUI "
   ]
  },
  {
   "cell_type": "markdown",
   "metadata": {},
   "source": [
    "Version 0.1"
   ]
  },
  {
   "cell_type": "markdown",
   "metadata": {},
   "source": [
    "## Introduction\n",
    "\n",
    "This Jupyter Notebook contains TBD"
   ]
  },
  {
   "cell_type": "markdown",
   "metadata": {},
   "source": [
    "## <a id = \"EnvironmentPreparation\">Environment preparation</a>\n",
    "\n",
    "The following cell sets environment variables and checks the connectivity toward the various simulators used in this notebook."
   ]
  },
  {
   "cell_type": "code",
   "execution_count": null,
   "metadata": {},
   "outputs": [],
   "source": [
    "########## Environment preparation (Version: 0.1) ############\n",
    "\n",
    "\n",
    "# Set Student ID number\n",
    "export stdid={{ STDID }}\n",
    "Id=$(id --user --name)\n",
    "\n",
    "# location and ports variables\n",
    "RMCSdfBasePort=47000\n",
    "RMCGuiSdfBasePort=48000\n",
    "\n",
    "let RMCSdfSimulatorPort=${RMCSdfBasePort}+${stdid}\n",
    "let RMCGuiSdfSimulatorPort=${RMCGuiSdfBasePort}+${stdid}\n",
    "\n",
    "iLO5DlSimulatorIP=ilo5simulators\n",
    "iLO5SySimulatorIP=ilo5simulators\n",
    "RMCSdfSimulatorIP=ilo5simulators\n",
    "RMCGuiSdfSimulatorIP=ilo5simulators\n",
    "\n",
    "RMCSdfSimulator=${RMCSdfSimulatorIP}:${RMCSdfSimulatorPort}\n",
    "RMCSdfSimulatorURI=https://${RMCSdfSimulator}\n",
    "RMCGuiSdfSimulator=${RMCGuiSdfSimulatorIP}:${RMCGuiSdfSimulatorPort}\n",
    "RMCGuiSdfSimulatorURI=https://${RMCGuiSdfSimulator}\n",
    "\n",
    "# Credentials\n",
    "User=\"student\"\n",
    "Password={{ REDFISHPWD }}\n",
    "\n",
    "# Miscellaneous\n",
    "w=$(basename $PWD)\n",
    "alias ResetSimulators=\"../create-globalbmc.shc.x &>/dev/null ; sleep 1\"\n",
    "\n",
    "# Verify we can reach the remote Bmcs on the right HTTPS ports. \n",
    "for bmc in RMCSdfSimulator RMCGuiSdfSimulator; do\n",
    "    ip=\"${bmc}IP\" ; port=\"${bmc}Port\"\n",
    "    nc -vz  $(eval echo \"\\$${ip}\") $(eval echo \"\\$${port}\") &> /dev/null &&\n",
    "        echo \"$bmc is reachable\" \\\n",
    "        || echo \"WARNING: Problem reaching $bmc\"\n",
    "done\n",
    "\n",
    "echo"
   ]
  },
  {
   "cell_type": "markdown",
   "metadata": {},
   "source": [
    "### <a id = \"iLO5SimulatorRestart\">Restart iLO 5 simulator</a>\n",
    "\n",
    "If you need or desire to restart your iLO 5 simulator in order to restart this workshop from scratch or for other reasons, run the following cell at any time."
   ]
  },
  {
   "cell_type": "code",
   "execution_count": null,
   "metadata": {},
   "outputs": [],
   "source": [
    "# Simulators restart\n",
    "ResetSimulators\n",
    "\n",
    "# Verify we can reach the remote Bmcs on the right HTTPS ports. \n",
    "for bmc in RMCSdfSimulator RMCGuiSdfSimulator ; do\n",
    "    ip=\"${bmc}IP\" ; port=\"${bmc}Port\"\n",
    "    nc -vz  $(eval echo \"\\$${ip}\") $(eval echo \"\\$${port}\") &>/dev/null && \n",
    "        echo \"$bmc is reachable\" \\\n",
    "        || echo \"WARNING: Problem reaching $bmc\"\n",
    "done"
   ]
  },
  {
   "cell_type": "code",
   "execution_count": null,
   "metadata": {},
   "outputs": [],
   "source": []
  }
 ],
 "metadata": {
  "kernelspec": {
   "display_name": "Bash",
   "language": "bash",
   "name": "bash"
  },
  "language_info": {
   "codemirror_mode": "shell",
   "file_extension": ".sh",
   "mimetype": "text/x-sh",
   "name": "bash"
  }
 },
 "nbformat": 4,
 "nbformat_minor": 4
}
