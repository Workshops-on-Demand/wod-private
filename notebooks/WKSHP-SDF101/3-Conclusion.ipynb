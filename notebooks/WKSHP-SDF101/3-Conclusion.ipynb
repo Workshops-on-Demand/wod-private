{
 "cells": [
  {
   "cell_type": "markdown",
   "metadata": {},
   "source": [
    "![Workshops-on-Demand Logo](Pictures/hpe-dev-logo.png)\n",
    "\n",
    "Version 0.1\n",
    "\n",
    "# Thank you for visiting the Hack Shack\n",
    "\n",
    "[{{ BRANDING }} Community Team]({{ BRANDINGURL }})\n",
    "\n",
    "# Conclusion\n",
    "\n",
    "In this workshop, you obtained a practical experience with the TBD. In the second part, you TBD. You should now have a solid base of knowledge to use to practice by yourself and become extremely efficient in the management tasks of your HPE Superdome Flex 280 servers.\n",
    "\n",
    "**Congratulations!**\n"
   ]
  },
  {
   "cell_type": "markdown",
   "metadata": {},
   "source": [
    "# Final step\n",
    "\n",
    "### Please take a moment to fill out our [survey]( {{ SURVEYURL }} ) so we can ensure future workshops meet your needs.\n",
    "\n",
    "### And make sure you use `File->Log Out` to terminate your workshop session.\n",
    "\n",
    "# Thank you\n",
    "![ThankYou](Pictures/grommet.JPG)"
   ]
  }
 ],
 "metadata": {
  "kernelspec": {
   "display_name": "Python 3",
   "language": "python",
   "name": "python3"
  },
  "language_info": {
   "codemirror_mode": {
    "name": "ipython",
    "version": 3
   },
   "file_extension": ".py",
   "mimetype": "text/x-python",
   "name": "python",
   "nbconvert_exporter": "python",
   "pygments_lexer": "ipython3",
   "version": "3.8.10"
  }
 },
 "nbformat": 4,
 "nbformat_minor": 4
}
