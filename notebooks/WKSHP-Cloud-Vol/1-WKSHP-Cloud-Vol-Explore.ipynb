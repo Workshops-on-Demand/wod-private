{
 "cells": [
  {
   "cell_type": "markdown",
   "metadata": {},
   "source": [
    "<style type=\"text/css\" media=\"screen\">\n",
    "a:link { color:#FFFFFF; text-decoration: none; }\n",
    "a:visited { color:#FFFFFF; text-decoration: none; }\n",
    "a:hover { color:#FFFFFF; text-decoration: none; }\n",
    "a:active { color:#FFFFFF; text-decoration: underline; }\n",
    "</style>\n",
    "# <a id=\"sc\" style=\"text-decoration:none;\">Managing HPE Cloud Volumes with API</a>\n",
    "![](Pictures/hpedevlogo-NB.JPG)\n",
    "\n",
    "## Part 1 - Explore HPE Cloud Volumes\n",
    "\n",
    "<br>\n",
    "<br>\n",
    "<br>\n",
    "<br>\n",
    "\n"
   ]
  },
  {
   "cell_type": "markdown",
   "metadata": {},
   "source": [
    "## If you haven't red the **introduction yet**, click the \"Back\" button below."
   ]
  },
  {
   "cell_type": "markdown",
   "metadata": {},
   "source": [
    " <a href=\"0-ReadMeFirst.ipynb\" target=\"New\" title=\"Back: Initialization section\"><button type=\"submit\"  class=\"btn btn-lg btn-block\" style=\"background-color:#FFAD33;color:#fff;position:relative;width:10%; height: 30px;float: left;\"><b>Back</b></button></a>\n",
    " </br>"
   ]
  },
  {
   "cell_type": "markdown",
   "metadata": {},
   "source": [
    "## <i class=\"fas fa-2x fa-cogs\" style=\"color:#FFAD33;\"></i>&nbsp;&nbsp;Start the lab"
   ]
  },
  {
   "cell_type": "markdown",
   "metadata": {},
   "source": [
    "</br>\n",
    "<p><i class=\"fas fa-2x fa-walking\" style=\"color:#FFAD33;\"></i>&nbsp;&nbsp;<b>STEP 1: </b>Get your connection token</p>"
   ]
  },
  {
   "cell_type": "markdown",
   "metadata": {},
   "source": [
    "<div class=\"alert\" style=\"background-color:#FFAD33;color:#fff;\" role=\"alert\">\n",
    "  \n",
    "  <p><i class=\"fas fa-eye\"></i>&nbsp;&nbsp;Run the command below, it will generate a connection token for you. it may take up to 30 seconds to complete in case of high concurrent requests. Once you got the token print it. </p>\n",
    "    <hr>\n",
    "    <p class=\"mb-0\"><p class=\"mb-0\"><i class=\"fas fa-sync-alt\"></i>&nbsp;&nbsp;Run the command in the next Cells by clicking - click once per cell - <i class=\"fas fa-play\"></i></p>\n",
    " \n",
    "</div>"
   ]
  },
  {
   "cell_type": "code",
   "execution_count": null,
   "metadata": {},
   "outputs": [],
   "source": [
    "TOKEN=`$HOME/get-cloudvol-token.shc.x`"
   ]
  },
  {
   "cell_type": "code",
   "execution_count": null,
   "metadata": {},
   "outputs": [],
   "source": [
    "echo ${TOKEN}"
   ]
  },
  {
   "cell_type": "code",
   "execution_count": null,
   "metadata": {},
   "outputs": [],
   "source": [
    "curl -s --location --request GET 'https://demo.cloudvolumes.hpe.com/api/v2/session' \\\n",
    "--header \"X-Auth-Token: ${TOKEN}\" \\\n",
    "--header 'Content-Type: application/json'"
   ]
  },
  {
   "cell_type": "markdown",
   "metadata": {},
   "source": [
    "</br>\n",
    "\n",
    "**jq my friend**</br>\n",
    "We've got a result in JSON format. However, this result is shipped back in a single line which make it very hard to read.</br>\n",
    "it is then the right time to introduce `jq` which is a command-line JSON processor. From this time, we will pipe the cURL result into a jq (sometime customized) command.</br>\n",
    "To know more about this tool, I recommend the post below:</br>\n",
    "- https://shapeshed.com/jq-json/\n"
   ]
  },
  {
   "cell_type": "markdown",
   "metadata": {},
   "source": [
    "<div class=\"alert\" style=\"background-color:#FFAD33;color:#fff;\" role=\"alert\">\n",
    "  \n",
    "  <p><i class=\"fas fa-eye\"></i>&nbsp;&nbsp;Rerun the same cURL command which is piped to jq this time. </p>\n",
    "    <hr>\n",
    "    <p class=\"mb-0\"><p class=\"mb-0\"><i class=\"fas fa-sync-alt\"></i>&nbsp;&nbsp;Run the command in the next Cells  by clicking <i class=\"fas fa-play\"></i></p>\n",
    " \n",
    "</div>"
   ]
  },
  {
   "cell_type": "code",
   "execution_count": null,
   "metadata": {},
   "outputs": [],
   "source": [
    "curl -s --location --request GET 'https://demo.cloudvolumes.hpe.com/api/v2/session' \\\n",
    "--header \"X-Auth-Token: ${TOKEN}\" \\\n",
    "--header 'Content-Type: application/json' | jq"
   ]
  },
  {
   "cell_type": "markdown",
   "metadata": {},
   "source": [
    "</br>\n",
    "<p><i class=\"fas fa-2x fa-walking\" style=\"color:#FFAD33;\"></i>&nbsp;&nbsp;<b>STEP 2: </b>Get the replication store</p>"
   ]
  },
  {
   "cell_type": "markdown",
   "metadata": {},
   "source": [
    "The replication store is the logical unit hosting the the replicas of HPE Nimble volumes.</br>\n",
    "In a replication store are defined information like the cloud region, the capacity of the store and the performance profile"
   ]
  },
  {
   "cell_type": "code",
   "execution_count": null,
   "metadata": {},
   "outputs": [],
   "source": [
    "curl -s --location --request GET 'https://demo.cloudvolumes.hpe.com/api/v2/replication_stores' \\\n",
    "--header 'Content-Type: application/json' \\\n",
    "--header \"X-Auth-Token: ${TOKEN}\" \\\n",
    "--data-raw '' | jq"
   ]
  },
  {
   "cell_type": "markdown",
   "metadata": {},
   "source": [
    "</br>\n",
    "\n",
    "Among the data sent, one can isolate the replication store ids. </br>"
   ]
  },
  {
   "cell_type": "code",
   "execution_count": null,
   "metadata": {},
   "outputs": [],
   "source": [
    "RepStore=$(curl -s --location --request GET 'https://demo.cloudvolumes.hpe.com/api/v2/replication_stores' \\\n",
    "--header 'Content-Type: application/json' \\\n",
    "--header \"X-Auth-Token: ${TOKEN}\" \\\n",
    "--data-raw '' | jq '. | .[] | .[0] | .id')\n",
    "echo \"Replication Store id is $RepStore\""
   ]
  },
  {
   "cell_type": "markdown",
   "metadata": {},
   "source": [
    "</br>\n",
    "\n",
    "As we may have several replication stores for the same HPE Cloud Volumes account, one can restrict the feedback to a unique store.</br>\n",
    "For that, let's define a variable containing the replication store id and target the API call to this specific object.</br>"
   ]
  },
  {
   "cell_type": "code",
   "execution_count": null,
   "metadata": {},
   "outputs": [],
   "source": [
    "curl -s --location --request GET \"https://demo.cloudvolumes.hpe.com/api/v2/replication_stores/${RepStore}\" \\\n",
    "--header 'Content-Type: application/json' \\\n",
    "--header \"X-Auth-Token: ${TOKEN}\" \\\n",
    "--data-raw '' | jq"
   ]
  },
  {
   "cell_type": "markdown",
   "metadata": {},
   "source": [
    "</br>\n",
    "<p><i class=\"fas fa-2x fa-walking\" style=\"color:#FFAD33;\"></i>&nbsp;&nbsp;<b>STEP 3: </b>Look at the replication volumes</p>"
   ]
  },
  {
   "cell_type": "markdown",
   "metadata": {},
   "source": [
    "</br>\n",
    "\n",
    "A replication store contains one or several replication volumes. </br>\n",
    "The query below will list these volumes. </br>"
   ]
  },
  {
   "cell_type": "code",
   "execution_count": null,
   "metadata": {},
   "outputs": [],
   "source": [
    "curl -s --location --request GET \"https://demo.cloudvolumes.hpe.com/api/v2/replication_stores/${RepStore}/replica_volumes\" \\\n",
    "--header 'Content-Type: application/json' \\\n",
    "--header \"X-Auth-Token: ${TOKEN}\" \\\n",
    "--data-raw '' | jq"
   ]
  },
  {
   "cell_type": "markdown",
   "metadata": {},
   "source": [
    "As we did for the replication stores, we can identify the replication volumes with their id.</br>"
   ]
  },
  {
   "cell_type": "code",
   "execution_count": null,
   "metadata": {},
   "outputs": [],
   "source": [
    "RepVolume=$(curl -s --location --request GET \"https://demo.cloudvolumes.hpe.com/api/v2/replication_stores/${RepStore}/replica_volumes\" \\\n",
    "--header 'Content-Type: application/json' \\\n",
    "--header \"X-Auth-Token: ${TOKEN}\" \\\n",
    "--data-raw '' | jq -r '. | .[] | .[] | .id'| tail -1)\n",
    "echo \n",
    "echo \"Replication Volume id is $RepVolume\""
   ]
  },
  {
   "cell_type": "markdown",
   "metadata": {},
   "source": [
    "</br>\n",
    "\n",
    "With this new variable, we will be able to get detailed information about the replication volume.</br>"
   ]
  },
  {
   "cell_type": "code",
   "execution_count": null,
   "metadata": {},
   "outputs": [],
   "source": [
    "curl -s --location --request GET \"https://demo.cloudvolumes.hpe.com/api/v2/replication_stores/${RepStore}/replica_volumes/${RepVolume}\" \\\n",
    "--header 'Content-Type: application/json' \\\n",
    "--header \"X-Auth-Token: ${TOKEN}\" \\\n",
    "--data-raw '' | jq"
   ]
  },
  {
   "cell_type": "markdown",
   "metadata": {},
   "source": [
    "</br>\n",
    "\n",
    "## Note: The following  cell is OPTIONAL!\n",
    "The replication volume contains snapshots taken at a regular basis.</br>\n",
    "In the query below, we will sort the snapshots per date of creation. To identify the sorting, look after the `creation_date` value which is expressed in timestamp second.</br>\n",
    "`The list may be fairly long.` </br>"
   ]
  },
  {
   "cell_type": "code",
   "execution_count": null,
   "metadata": {},
   "outputs": [],
   "source": [
    "curl -s --location --request GET \"https://demo.cloudvolumes.hpe.com/api/v2/replication_stores/${RepStore}/replica_volumes/${RepVolume}/snapshots?sort=creation_time\" \\\n",
    "--header 'Content-Type: application/json' \\\n",
    "--header \"X-Auth-Token: ${TOKEN}\" \\\n",
    "--data-raw '' | jq"
   ]
  },
  {
   "cell_type": "markdown",
   "metadata": {},
   "source": [
    "</br>\n",
    "\n",
    "In the next code sequence, we will identify the most recent volume. It will be our source for the cloning activity to be done during the section 2.</br>"
   ]
  },
  {
   "cell_type": "code",
   "execution_count": null,
   "metadata": {},
   "outputs": [],
   "source": [
    "SnapRefArray=`curl -s --location --request GET \"https://demo.cloudvolumes.hpe.com/api/v2/replication_stores/${RepStore}/replica_volumes/${RepVolume}/snapshots?sort=creation_time\" \\\n",
    "--header 'Content-Type: application/json' \\\n",
    "--header \"X-Auth-Token: ${TOKEN}\" \\\n",
    "--data-raw '' | jq -r '. | .[] | .[] | .id' `\n",
    "for i in ${SnapRefArray}\n",
    "do\n",
    "  SnapRef=${i}\n",
    "done\n",
    "echo ${SnapRef}"
   ]
  },
  {
   "cell_type": "markdown",
   "metadata": {},
   "source": [
    "</br>\n",
    "<p><i class=\"fas fa-2x fa-walking\" style=\"color:#FFAD33;\"></i>&nbsp;&nbsp;<b>STEP 3: </b>List the existing Block Volumes</p>"
   ]
  },
  {
   "cell_type": "markdown",
   "metadata": {},
   "source": [
    "\n",
    "The Block Volume is the entity which is presented to the target VM via an iSCSI protocol already established.</br>\n",
    "The query below will list the existing Block Volumes.</br>"
   ]
  },
  {
   "cell_type": "code",
   "execution_count": null,
   "metadata": {},
   "outputs": [],
   "source": [
    "curl -s --location --request GET 'https://demo.cloudvolumes.hpe.com/api/v2/cloud_volumes' \\\n",
    "--header 'Content-Type: application/json' \\\n",
    "--header \"X-Auth-Token: ${TOKEN}\" \\\n",
    "--data-raw ''"
   ]
  },
  {
   "cell_type": "markdown",
   "metadata": {},
   "source": [
    "</br>\n",
    "\n",
    "The returned list can be long. This is way it was remained intentionnoly in a single line.</br>\n",
    "The reason for this size is because all block volumes are kept recoreded even those which were - logically - deleted.</br>\n",
    "In the next query, we will restrict the view to the active volumes (note the `?filters=marked_for_deletion=0` parameter at the end of query).</br>"
   ]
  },
  {
   "cell_type": "code",
   "execution_count": null,
   "metadata": {},
   "outputs": [],
   "source": [
    "curl -s --location --request GET 'https://demo.cloudvolumes.hpe.com/api/v2/cloud_volumes?filters=marked_for_deletion=0' \\\n",
    "--header 'Content-Type: application/json' \\\n",
    "--header \"X-Auth-Token: ${TOKEN}\" \\\n",
    "--data-raw '' | jq"
   ]
  },
  {
   "cell_type": "markdown",
   "metadata": {},
   "source": [
    "</br>\n",
    "<p><i class=\"fas fa-2x fa-walking\" style=\"color:#FFAD33;\"></i>&nbsp;&nbsp;<b>STEP 4: </b>Backup your environment data</p>"
   ]
  },
  {
   "cell_type": "markdown",
   "metadata": {},
   "source": [
    "</br>\n",
    "\n",
    "Before you continue with the next section, run the code below to backup your environment.</br>"
   ]
  },
  {
   "cell_type": "code",
   "execution_count": null,
   "metadata": {},
   "outputs": [],
   "source": [
    "filename=\"cv-lab.tmp\"\n",
    "rm -f $HOME/${filename}\n",
    "echo \"TOKEN \" ${TOKEN} >> $HOME/${filename}\n",
    "echo \"RepVolume \" ${RepVolume} >> $HOME/${filename}\n",
    "echo \"RepStore \" ${RepStore} >> $HOME/${filename}\n",
    "echo \"SnapRef \"  ${SnapRef} >> $HOME/${filename}\n",
    "cat $HOME/${filename}"
   ]
  },
  {
   "cell_type": "markdown",
   "metadata": {},
   "source": [
    "<br><br>\n",
    "\n",
    "## <i class=\"fas fa-2x fa-map-marker-alt\" style=\"color:#FFAD33;\"></i>&nbsp;&nbsp;Next Steps"
   ]
  },
  {
   "cell_type": "markdown",
   "metadata": {},
   "source": [
    "Manipulate the block volumes."
   ]
  },
  {
   "cell_type": "markdown",
   "metadata": {},
   "source": [
    "</br>\n",
    " <a href=\"0-ReadMeFirst.ipynb\" target=\"New\" title=\"Back: Introduction\"><button type=\"submit\"  class=\"btn btn-lg btn-block\" style=\"background-color:#FFAD33;color:#fff;position:relative;width:10%; height: 30px;float: left;\"><b>Back</b></button></a>\n",
    " <a href=\"2-WKSHP-Cloud-Vol-Manipulate.ipynb#sc\" target=\"New\" title=\"Next:Persistent Volumes\"><button type=\"submit\"  class=\"btn btn-lg btn-block\" style=\"background-color:#FFAD33;color:#fff;position:relative;width:10%; height: 30px;float: right;\"><b>Next</b></button></a>\n"
   ]
  },
  {
   "cell_type": "markdown",
   "metadata": {},
   "source": [
    "<h2>Next&nbsp;&nbsp;&nbsp;&nbsp;<a href=\"2-WKSHP-Cloud-Vol-Manipulate.ipynb#sc\" target=\"New\" title=\"Next: Introduction\"><i class=\"fas fa-chevron-circle-right\" style=\"color:#FFAD33;\"></i></a></h2>"
   ]
  }
 ],
 "metadata": {
  "kernelspec": {
   "display_name": "Bash",
   "language": "bash",
   "name": "bash"
  },
  "language_info": {
   "codemirror_mode": "shell",
   "file_extension": ".sh",
   "mimetype": "text/x-sh",
   "name": "bash"
  }
 },
 "nbformat": 4,
 "nbformat_minor": 4
}
