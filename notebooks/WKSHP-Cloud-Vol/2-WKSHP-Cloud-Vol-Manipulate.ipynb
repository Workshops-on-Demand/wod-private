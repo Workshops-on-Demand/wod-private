{
 "cells": [
  {
   "cell_type": "markdown",
   "metadata": {},
   "source": [
    "<style type=\"text/css\" media=\"screen\">\n",
    "a:link { color:#FFFFFF; text-decoration: none; }\n",
    "a:visited { color:#FFFFFF; text-decoration: none; }\n",
    "a:hover { color:#FFFFFF; text-decoration: none; }\n",
    "a:active { color:#FFFFFF; text-decoration: underline; }\n",
    "</style>\n",
    "# <a id=\"sc\" style=\"text-decoration:none;\">Managing HPE Cloud Volumes with API</a>\n",
    "![](Pictures/hpedevlogo-NB.JPG)\n",
    "\n",
    "## Part 2 - Manipulate objects in HPE Cloud Volumes\n",
    "\n",
    "<br>\n",
    "<br>\n",
    "<br>\n",
    "<br>\n",
    "\n"
   ]
  },
  {
   "cell_type": "markdown",
   "metadata": {},
   "source": [
    "## If you haven't completed the **part 1 yet**, click the \"Back\" button below."
   ]
  },
  {
   "cell_type": "markdown",
   "metadata": {},
   "source": [
    " <a href=\"1-WKSHP-Cloud-Vol-Explore.ipynb\" target=\"New\" title=\"Back: Initialization section\"><button type=\"submit\"  class=\"btn btn-lg btn-block\" style=\"background-color:#FFAD33;color:#fff;position:relative;width:10%; height: 30px;float: left;\"><b>Back</b></button></a>\n",
    " </br>"
   ]
  },
  {
   "cell_type": "markdown",
   "metadata": {},
   "source": [
    "## <i class=\"fas fa-2x fa-cogs\" style=\"color:#FFAD33;\"></i>&nbsp;&nbsp;Start the lab"
   ]
  },
  {
   "cell_type": "markdown",
   "metadata": {},
   "source": [
    "</br>\n",
    "<p><i class=\"fas fa-2x fa-walking\" style=\"color:#FFAD33;\"></i>&nbsp;&nbsp;<b>STEP 1: </b>Reload your environment data</p>"
   ]
  },
  {
   "cell_type": "markdown",
   "metadata": {},
   "source": [
    "<div class=\"alert\" style=\"background-color:#FFAD33;color:#fff;\" role=\"alert\">\n",
    "  \n",
    "  <p><i class=\"fas fa-eye\"></i>&nbsp;&nbsp;The command set below will reload the environment data saved at the end of the previous notebook. This is needed as the environment variables are not persistent across notebooks.</p>\n",
    "    <hr>\n",
    "    <p class=\"mb-0\"><p class=\"mb-0\"><i class=\"fas fa-sync-alt\"></i>&nbsp;&nbsp;Run the command in the next Cells by clicking - click once per cell - <i class=\"fas fa-play\"></i></p>\n",
    " \n",
    "</div>"
   ]
  },
  {
   "cell_type": "code",
   "execution_count": null,
   "metadata": {},
   "outputs": [],
   "source": [
    "filename=\"cv-lab.tmp\"\n",
    "TOKEN=`grep TOKEN $HOME/${filename} | awk '{print $2}'`\n",
    "RepStore=`grep RepStore $HOME/${filename} | awk '{print $2}'`\n",
    "RepVolume=`grep RepVolume $HOME/${filename} | awk '{print $2}'`\n",
    "SnapRef=`grep SnapRef $HOME/${filename} | awk '{print $2}'`"
   ]
  },
  {
   "cell_type": "markdown",
   "metadata": {},
   "source": [
    "</br>\n",
    "\n",
    "Just to confirm you are ready to continue, test your connection.</br>"
   ]
  },
  {
   "cell_type": "code",
   "execution_count": null,
   "metadata": {},
   "outputs": [],
   "source": [
    "curl -s --location --request GET 'https://demo.cloudvolumes.hpe.com/api/v2/session' \\\n",
    "--header \"X-Auth-Token: ${TOKEN}\" \\\n",
    "--header 'Content-Type: application/json' | jq"
   ]
  },
  {
   "cell_type": "markdown",
   "metadata": {},
   "source": [
    "</br>\n",
    "<p><i class=\"fas fa-2x fa-walking\" style=\"color:#FFAD33;\"></i>&nbsp;&nbsp;<b>STEP 2: </b>Create a new block volume</p>"
   ]
  },
  {
   "cell_type": "markdown",
   "metadata": {},
   "source": [
    "The most recent volume was identified previously. It is now time to clone it. </br>\n",
    "Once the clone created it will become an independant object that can be presented to a cloud VM for instance.</br>\n",
    "To achieve this we will use a new verb: \"POST\" which is required to create an object.</br>\n",
    "First, we will generate a name for our new volume. Then, we'll clone the volume. The value returned for the second query is the new cloud volume ID."
   ]
  },
  {
   "cell_type": "code",
   "execution_count": null,
   "metadata": {},
   "outputs": [],
   "source": [
    "uid={{ STDID }}\n",
    "new_cloudvol_name=cloud_vol-${uid}\n",
    "echo $RepStore\n",
    "echo $RepVolume\n",
    "echo $new_cloudvol_name\n",
    "echo $SnapRef"
   ]
  },
  {
   "cell_type": "code",
   "execution_count": null,
   "metadata": {},
   "outputs": [],
   "source": [
    "CloudVolumeID=`curl -s --location --request POST \"https://demo.cloudvolumes.hpe.com/api/v2/replication_stores/${RepStore}/replica_volumes/${RepVolume}/clone\" \\\n",
    "--header 'Content-Type: application/json' \\\n",
    "--header \"X-Auth-Token: ${TOKEN}\" \\\n",
    "--data-raw '{ \n",
    "    \"data\": \n",
    "    { \n",
    "        \"name\": \"'${new_cloudvol_name}'\",\n",
    "        \"snapshot_ref\": \"'${SnapRef}'\",\n",
    "        \"region_id\": 1,\n",
    "        \"iops\": 300,\n",
    "        \"private_cloud\": \"vpc-0c722a52c30850c83\",\n",
    "        \"existing_cloud_subnet\": \"10.0.0.0/16\"\n",
    "    }\n",
    " }' | jq -r '.data.id'`\n",
    " echo \"your cloudvolume id is ${CloudVolumeID}\""
   ]
  },
  {
   "cell_type": "markdown",
   "metadata": {},
   "source": [
    "</br>\n",
    "\n",
    "Let's verify that the volume exists. </br>\n",
    "The cURL cpmmand below requests the information for a specific block volume based on its id."
   ]
  },
  {
   "cell_type": "code",
   "execution_count": null,
   "metadata": {},
   "outputs": [],
   "source": [
    "curl -s --location --request GET \"https://demo.cloudvolumes.hpe.com/api/v2/cloud_volumes/${CloudVolumeID}\" \\\n",
    "--header 'Content-Type: application/json' \\\n",
    "--header \"X-Auth-Token: ${TOKEN}\" \\\n",
    "--data-raw '' | jq '.'"
   ]
  },
  {
   "cell_type": "code",
   "execution_count": null,
   "metadata": {},
   "outputs": [],
   "source": [
    "echo ${new_cloudvol_name}"
   ]
  },
  {
   "cell_type": "markdown",
   "metadata": {},
   "source": [
    "</br>\n",
    "<p><i class=\"fas fa-2x fa-walking\" style=\"color:#FFAD33;\"></i>&nbsp;&nbsp;<b>STEP 3: </b>Attach the new volume</p>"
   ]
  },
  {
   "cell_type": "markdown",
   "metadata": {},
   "source": [
    "</br>\n",
    "\n",
    "The block volume just created is a lonely element at this time. We need to attach it to a compute element, either a cloud VM or an on-premise compute unit. </br>\n",
    "For this lab, we have a VM running somewhere in the HPE office of Sophia Antipolis (French riviera for those who need vacation). </br>\n",
    "\n",
    "First thing, we need to get the initiator target.</br>"
   ]
  },
  {
   "cell_type": "code",
   "execution_count": null,
   "metadata": {},
   "outputs": [],
   "source": [
    "initiator_ip=`curl -s --location --request GET 'https://demo.cloudvolumes.hpe.com/api/v2/initiators' \\\n",
    "--header \"X-Auth-Token: ${TOKEN}\" \\\n",
    "--data-raw '' |  jq -r '. | .[] | .[] | .attributes.ip' `\n",
    "echo \" your initiator IP is ${initiator_ip}\""
   ]
  },
  {
   "cell_type": "markdown",
   "metadata": {},
   "source": [
    "</br>\n",
    "\n",
    "It is time now to attach the volume to the target VM using the initiator collected previously.</br>"
   ]
  },
  {
   "cell_type": "code",
   "execution_count": null,
   "metadata": {},
   "outputs": [],
   "source": [
    "curl -s --location --request POST \"https://demo.cloudvolumes.hpe.com/api/v2/cloud_volumes/${CloudVolumeID}/attach\" \\\n",
    "--header 'Content-Type: application/json' \\\n",
    "--header \"X-Auth-Token: ${TOKEN}\" \\\n",
    "--data-raw '{\n",
    "    \"data\":  {\n",
    "        \"initiator_ip\": \"'${initiator_ip}'\"\n",
    "    }\n",
    "}'"
   ]
  },
  {
   "cell_type": "markdown",
   "metadata": {},
   "source": [
    "</br>\n",
    "\n",
    "Run the command below and look for the section `assigned_initiators` .</br>\n",
    "This section should start at row 5 more or less."
   ]
  },
  {
   "cell_type": "code",
   "execution_count": null,
   "metadata": {},
   "outputs": [],
   "source": [
    "curl -s --location --request GET \"https://demo.cloudvolumes.hpe.com/api/v2/cloud_volumes/${CloudVolumeID}\" \\\n",
    "--header 'Content-Type: application/json' \\\n",
    "--header \"X-Auth-Token: ${TOKEN}\" \\\n",
    "--data-raw '' | jq '.'"
   ]
  },
  {
   "cell_type": "markdown",
   "metadata": {},
   "source": [
    "</br>\n",
    "<p><i class=\"fas fa-2x fa-walking\" style=\"color:#FFAD33;\"></i>&nbsp;&nbsp;<b>STEP 4: </b>Use the volume with the VM.</p>"
   ]
  },
  {
   "cell_type": "code",
   "execution_count": null,
   "metadata": {},
   "outputs": [],
   "source": [
    "target_name=`curl -s --location --request GET \"https://demo.cloudvolumes.hpe.com/api/v2/cloud_volumes/${CloudVolumeID}\" \\\n",
    "--header 'Content-Type: application/json' \\\n",
    "--header \"X-Auth-Token: ${TOKEN}\" \\\n",
    "| jq -r '.data.attributes.target_name' `\n",
    "echo ${target_name}"
   ]
  },
  {
   "cell_type": "code",
   "execution_count": null,
   "metadata": {},
   "outputs": [],
   "source": [
    "echo ${new_cloudvol_name}"
   ]
  },
  {
   "cell_type": "markdown",
   "metadata": {},
   "source": [
    "</br>\n",
    "<p><i class=\"fas fa-2x fa-walking\" style=\"color:#FFAD33;\"></i>&nbsp;&nbsp;<b>STEP 5: </b>Detach and delete the volume</p>"
   ]
  },
  {
   "cell_type": "markdown",
   "metadata": {},
   "source": [
    "\n",
    "Once the volume is not needed anymore, it can be detached with the query below</br>"
   ]
  },
  {
   "cell_type": "code",
   "execution_count": null,
   "metadata": {},
   "outputs": [],
   "source": [
    "curl -s --location --request POST \"https://demo.cloudvolumes.hpe.com/api/v2/cloud_volumes/${CloudVolumeID}/detach\" \\\n",
    "--header 'Content-Type: application/json' \\\n",
    "--header \"X-Auth-Token: ${TOKEN}\" \\\n",
    "--data-raw '{\n",
    "    \"data\":  {\n",
    "        \"initiator_ip\": \"'${initiator_ip}'\"\n",
    "    }\n",
    "}'"
   ]
  },
  {
   "cell_type": "markdown",
   "metadata": {},
   "source": [
    "</br>\n",
    "\n",
    "We can now delete the volume as it is not needed anymore.</br>\n",
    "For that, we will use a new API verb called `DELETE`. The action of this verb is quite explicit.</br>"
   ]
  },
  {
   "cell_type": "code",
   "execution_count": null,
   "metadata": {},
   "outputs": [],
   "source": [
    "curl -s --location --request DELETE \"https://demo.cloudvolumes.hpe.com/api/v2/cloud_volumes/${CloudVolumeID}\" \\\n",
    "--header \"X-auth-Token: ${TOKEN}\" \\\n",
    "--header 'Content-Type: application/json'"
   ]
  },
  {
   "cell_type": "markdown",
   "metadata": {},
   "source": [
    "</br>\n",
    "\n",
    "Finally, we will look at the status of our volume.</br>\n",
    "Run the query below and look for the field `mark_for_deletion`."
   ]
  },
  {
   "cell_type": "code",
   "execution_count": null,
   "metadata": {},
   "outputs": [],
   "source": [
    "curl -s --location --request GET \"https://demo.cloudvolumes.hpe.com/api/v2/cloud_volumes/${CloudVolumeID}\" \\\n",
    "--header 'Content-Type: application/json' \\\n",
    "--header \"X-Auth-Token: ${TOKEN}\" \\\n",
    "--data-raw '' | jq '.'"
   ]
  },
  {
   "cell_type": "markdown",
   "metadata": {},
   "source": [
    "<br><br>\n",
    "\n",
    "## <i class=\"fas fa-2x fa-map-marker-alt\" style=\"color:#FFAD33;\"></i>&nbsp;&nbsp;Next Steps"
   ]
  },
  {
   "cell_type": "markdown",
   "metadata": {},
   "source": [
    "Conclusion."
   ]
  },
  {
   "cell_type": "markdown",
   "metadata": {},
   "source": [
    "</br>\n",
    " <a href=\"1-WKSHP-Cloud-Vol-Explore.ipynb\" target=\"New\" title=\"Back: Introduction\"><button type=\"submit\"  class=\"btn btn-lg btn-block\" style=\"background-color:#FFAD33;color:#fff;position:relative;width:10%; height: 30px;float: left;\"><b>Back</b></button></a>\n",
    " <a href=\"3-WKSHP-Cloud-Vol-Conclusion.ipynb#sc\" target=\"New\" title=\"Next:Persistent Volumes\"><button type=\"submit\"  class=\"btn btn-lg btn-block\" style=\"background-color:#FFAD33;color:#fff;position:relative;width:10%; height: 30px;float: right;\"><b>Next</b></button></a>\n"
   ]
  },
  {
   "cell_type": "markdown",
   "metadata": {},
   "source": [
    "<h2>Next&nbsp;&nbsp;&nbsp;&nbsp;<a href=\"02-Nimble_K8S_RedisDB.ipynb#sc\" target=\"New\" title=\"Next: Introduction\"><i class=\"fas fa-chevron-circle-right\" style=\"color:#FFAD33;\"></i></a></h2>"
   ]
  },
  {
   "cell_type": "code",
   "execution_count": null,
   "metadata": {},
   "outputs": [],
   "source": []
  }
 ],
 "metadata": {
  "kernelspec": {
   "display_name": "Bash",
   "language": "bash",
   "name": "bash"
  },
  "language_info": {
   "codemirror_mode": "shell",
   "file_extension": ".sh",
   "mimetype": "text/x-sh",
   "name": "bash"
  }
 },
 "nbformat": 4,
 "nbformat_minor": 4
}
