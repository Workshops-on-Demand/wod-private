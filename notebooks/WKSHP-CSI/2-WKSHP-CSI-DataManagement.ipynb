{
 "cells": [
  {
   "cell_type": "markdown",
   "metadata": {},
   "source": [
    "# Lab 2: Snapshots and Clones\n",
    "\n",
    "In this lab, we'll leverage a `VolumeSnapshotClass` to create `VolumeSnapshots` that we later can use as a `.spec.dataSource` in a `PersistentVolumeClaim`. We'll also create a clone from an already existing `PersistentVolumeClaim`.\n",
    "\n",
    "Let's begin by inspecting the cluster for `VolumeSnapshotClasses`."
   ]
  },
  {
   "cell_type": "code",
   "execution_count": null,
   "metadata": {},
   "outputs": [],
   "source": [
    "kubectl get volumesnapshotclasses"
   ]
  },
  {
   "cell_type": "markdown",
   "metadata": {},
   "source": [
    "We'll use the \"hpe-snapshot\" `VolumeSnapshotClass` for these exercises. Let's examine it a bit further."
   ]
  },
  {
   "cell_type": "code",
   "execution_count": null,
   "metadata": {},
   "outputs": [],
   "source": [
    "kubectl get volumesnapshotclasses/hpe-snapshot -o yaml"
   ]
  },
  {
   "cell_type": "markdown",
   "metadata": {},
   "source": [
    "Again, the most common scenario would be a `VolumeSnapshotClass` marked \"default\" on the cluster. Since this is a shared environment, we'll call the \"hpe-snapshot\" `VolumeSnapshotClass` explicitly in the following exercises.\n",
    "\n",
    "# Deploy a workload\n",
    "\n",
    "In this example, we'll use a single replica Redis database with persistence for our example application. We want to store and retrieve data from the database in the simplest way possible to illustrate how to use snapshots.\n",
    "\n",
    "Assume the following `Deployment`.\n",
    "\n",
    "---\n",
    "```yaml\n",
    "---\n",
    "apiVersion: v1\n",
    "kind: PersistentVolumeClaim\n",
    "metadata:\n",
    "  name: my-redis-pvc\n",
    "spec:\n",
    "  accessModes:\n",
    "  - ReadWriteOnce\n",
    "  resources:\n",
    "    requests:\n",
    "      storage: 320Mi\n",
    "  storageClassName: hpe-standard\n",
    "---\n",
    "apiVersion: apps/v1\n",
    "kind: Deployment\n",
    "metadata:\n",
    "  name: my-redis-deploy\n",
    "  labels:\n",
    "    app: my-redis-deploy\n",
    "spec:\n",
    "  replicas: 1\n",
    "  strategy:\n",
    "    type: Recreate\n",
    "  selector:\n",
    "    matchLabels:\n",
    "      app: my-redis\n",
    "  template:\n",
    "    metadata:\n",
    "      labels:\n",
    "        app: my-redis\n",
    "    spec:\n",
    "      containers:\n",
    "      - image: redis\n",
    "        name: redis\n",
    "        args: [\"--appendonly\", \"yes\"]\n",
    "        volumeMounts:\n",
    "          - name: my-data\n",
    "            mountPath: /data\n",
    "      volumes:\n",
    "      - name: my-data\n",
    "        persistentVolumeClaim:\n",
    "          claimName: my-redis-pvc\n",
    "```\n",
    "---\n",
    "\n",
    "We'll create everything in one swift stroke."
   ]
  },
  {
   "cell_type": "code",
   "execution_count": null,
   "metadata": {},
   "outputs": [],
   "source": [
    "kubectl create -f obj/my-redis-deploy.yaml\n",
    "kubectl rollout status deploy/my-redis-deploy"
   ]
  },
  {
   "cell_type": "markdown",
   "metadata": {},
   "source": [
    "Wait for the deployment to be rolled out. Then, let's create a new key."
   ]
  },
  {
   "cell_type": "code",
   "execution_count": null,
   "metadata": {},
   "outputs": [],
   "source": [
    "kubectl exec -it deploy/my-redis-deploy -- redis-cli set hpe/dev \"This CSI workshop is awesome!\""
   ]
  },
  {
   "cell_type": "markdown",
   "metadata": {},
   "source": [
    "Let’s make sure we can retrieve the key before proceeding."
   ]
  },
  {
   "cell_type": "code",
   "execution_count": null,
   "metadata": {},
   "outputs": [],
   "source": [
    "kubectl exec -it deploy/my-redis-deploy -- redis-cli get hpe/dev"
   ]
  },
  {
   "cell_type": "markdown",
   "metadata": {},
   "source": [
    "## Create your first VolumeSnapshot\n",
    "\n",
    "Creating a `VolumeSnapshot` is not more difficult than simply declaring it.\n",
    "\n",
    "---\n",
    "```yaml\n",
    "---\n",
    "apiVersion: snapshot.storage.k8s.io/v1beta1\n",
    "kind: VolumeSnapshot\n",
    "metadata:\n",
    "  name: my-snapshot\n",
    "spec:\n",
    "  volumeSnapshotClassName: hpe-snapshot\n",
    "  source:\n",
    "    persistentVolumeClaimName: my-redis-pvc\n",
    "```\n",
    "---\n",
    "\n",
    "Go ahead and create it."
   ]
  },
  {
   "cell_type": "code",
   "execution_count": null,
   "metadata": {},
   "outputs": [],
   "source": [
    "kubectl create -f obj/my-snapshot.yaml"
   ]
  },
  {
   "cell_type": "markdown",
   "metadata": {},
   "source": [
    "A few seconds later, there should be a `VolumeSnapshot` named \"my-snapshot\" available for use in the `Namespace`."
   ]
  },
  {
   "cell_type": "code",
   "execution_count": null,
   "metadata": {},
   "outputs": [],
   "source": [
    "kubectl get -f obj/my-snapshot.yaml"
   ]
  },
  {
   "cell_type": "markdown",
   "metadata": {},
   "source": [
    "## Create a new PersistentVolumeClaim from a VolumeSnapshot\n",
    "\n",
    "A clone deployment has been prepared to illustrate how to use the `VolumeSnapshot`. In this case, we've separated the `PersistentVolumeClaim` from the `Deployment`.\n",
    "\n",
    "---\n",
    "```yaml\n",
    "---\n",
    "apiVersion: v1\n",
    "kind: PersistentVolumeClaim\n",
    "metadata:\n",
    "  name: my-clone-pvc\n",
    "spec:\n",
    "  dataSource:\n",
    "    name: my-snapshot\n",
    "    kind: VolumeSnapshot\n",
    "    apiGroup: snapshot.storage.k8s.io\n",
    "  accessModes:\n",
    "    - ReadWriteOnce\n",
    "  resources:\n",
    "    requests:\n",
    "      storage: 320Mi\n",
    "  storageClassName: hpe-standard\n",
    "```\n",
    "---\n",
    "\n",
    "Pay attention to `.spec.dataSource`. This dictates that a `VolumeSnapshot` is going to be used as a source for the `PersistentVolumeClaim`.\n",
    "\n",
    "Create the `PersistentVolumeClaim`.\n",
    "\n",
    "**Note:** The `PersistentVolumeClaim` `.spec.resources.requests.storage` must match the parent `VolumeSnapshot` \"RESTORESIZE\"."
   ]
  },
  {
   "cell_type": "code",
   "execution_count": null,
   "metadata": {},
   "outputs": [],
   "source": [
    "kubectl create -f obj/my-snapshot-pvc.yaml"
   ]
  },
  {
   "cell_type": "markdown",
   "metadata": {},
   "source": [
    "Now, let's declare a `Deployment` that references the new `PersistentVolumeClaim`.\n",
    "\n",
    "---\n",
    "```yaml\n",
    "---\n",
    "apiVersion: apps/v1\n",
    "kind: Deployment\n",
    "metadata:\n",
    "  name: my-clone-deploy\n",
    "  labels:\n",
    "    app: my-clone-deploy\n",
    "spec:\n",
    "  replicas: 1\n",
    "  strategy:\n",
    "    type: Recreate\n",
    "  selector:\n",
    "    matchLabels:\n",
    "      app: my-clone\n",
    "  template:\n",
    "    metadata:\n",
    "      labels:\n",
    "        app: my-clone\n",
    "    spec:\n",
    "      containers:\n",
    "      - image: redis\n",
    "        name: redis\n",
    "        args: [\"--appendonly\", \"yes\"]\n",
    "        volumeMounts:\n",
    "          - name: my-data\n",
    "            mountPath: /data\n",
    "      volumes:\n",
    "      - name: my-data\n",
    "        persistentVolumeClaim:\n",
    "          claimName: my-clone-pvc\n",
    "```\n",
    "---\n",
    "\n",
    "This `Deployment` is identical to the one deployed in the first step. Names have been changed to avoid collision and we can also see that we're referencing the \"my-clone-pvc\" `PersistentVolumeClaim`.\n",
    "\n",
    "Create the `Deployment`."
   ]
  },
  {
   "cell_type": "code",
   "execution_count": null,
   "metadata": {},
   "outputs": [],
   "source": [
    "kubectl create -f obj/my-clone-deploy.yaml\n",
    "kubectl rollout status deploy/my-clone-deploy"
   ]
  },
  {
   "cell_type": "markdown",
   "metadata": {},
   "source": [
    "Let's make sure our key inserted into the parent `Deployment` is still intact."
   ]
  },
  {
   "cell_type": "code",
   "execution_count": null,
   "metadata": {},
   "outputs": [],
   "source": [
    "kubectl exec -it deploy/my-clone-deploy -- redis-cli get hpe/dev"
   ]
  },
  {
   "cell_type": "markdown",
   "metadata": {},
   "source": [
    "You should see the same message inserted into the parent Redis store.\n",
    "\n",
    "Deployments and persistent storage is completely decoupled. It's possible to modify the clone and the parent will be unaffected.\n",
    "\n",
    "Let's delete our key in the clone and try retrieve it."
   ]
  },
  {
   "cell_type": "code",
   "execution_count": null,
   "metadata": {},
   "outputs": [],
   "source": [
    "kubectl exec -it deploy/my-clone-deploy -- redis-cli del hpe/dev\n",
    "kubectl exec -it deploy/my-clone-deploy -- redis-cli get hpe/dev"
   ]
  },
  {
   "cell_type": "markdown",
   "metadata": {},
   "source": [
    "Retrive the key from the parent."
   ]
  },
  {
   "cell_type": "code",
   "execution_count": null,
   "metadata": {},
   "outputs": [],
   "source": [
    "kubectl exec -it deploy/my-redis-deploy -- redis-cli get hpe/dev"
   ]
  },
  {
   "cell_type": "markdown",
   "metadata": {},
   "source": [
    "Now, let's clean up a few things and redo this using the parent `PersistentVolumeClaim` directly."
   ]
  },
  {
   "cell_type": "code",
   "execution_count": null,
   "metadata": {},
   "outputs": [],
   "source": [
    "kubectl delete -f obj/my-clone-deploy.yaml -f obj/my-snapshot.yaml -f obj/my-snapshot-pvc.yaml"
   ]
  },
  {
   "cell_type": "markdown",
   "metadata": {},
   "source": [
    "## Create a new PersistentVolumeClaim from another PersistentVolumeClaim\n",
    "\n",
    "It's possible to skip the intermediary `VolumeSnapshot` and create a new `PersistentVolumeClaim` directly from an existing claim.\n",
    "\n",
    "---\n",
    "```yaml\n",
    "---\n",
    "apiVersion: v1\n",
    "kind: PersistentVolumeClaim\n",
    "metadata:\n",
    "  name: my-clone-pvc\n",
    "spec:\n",
    "  dataSource:\n",
    "    name: my-redis-pvc\n",
    "    kind: PersistentVolumeClaim\n",
    "  accessModes:\n",
    "    - ReadWriteOnce\n",
    "  resources:\n",
    "    requests:\n",
    "      storage: 320Mi\n",
    "  storageClassName: hpe-standard\n",
    "```\n",
    "---\n",
    "\n",
    "We don't need to specify the `.spec.dataSource.apiGroup` when `.spec.dataSource.kind` is `PersistentVolumeClaim`.\n",
    "\n",
    "Let's create the claim."
   ]
  },
  {
   "cell_type": "code",
   "execution_count": null,
   "metadata": {},
   "outputs": [],
   "source": [
    "kubectl create -f obj/my-clone-pvc.yaml"
   ]
  },
  {
   "cell_type": "markdown",
   "metadata": {},
   "source": [
    "Now, let's bring up the exact same `Deployment` as declared in the `VolumeSnapshot` case (we assume this has been deleted from the cluster)."
   ]
  },
  {
   "cell_type": "code",
   "execution_count": null,
   "metadata": {},
   "outputs": [],
   "source": [
    "kubectl create -f obj/my-clone-deploy.yaml\n",
    "kubectl rollout status deploy/my-clone-deploy"
   ]
  },
  {
   "cell_type": "markdown",
   "metadata": {},
   "source": [
    "The key we inserted into the parent should be intact."
   ]
  },
  {
   "cell_type": "code",
   "execution_count": null,
   "metadata": {},
   "outputs": [],
   "source": [
    "kubectl exec -it deploy/my-clone-deploy -- redis-cli get hpe/dev"
   ]
  },
  {
   "cell_type": "markdown",
   "metadata": {},
   "source": [
    "## Cleaning up\n",
    "\n",
    "Run the following command to free up resources."
   ]
  },
  {
   "cell_type": "code",
   "execution_count": null,
   "metadata": {},
   "outputs": [],
   "source": [
    "kubectl delete deploy/my-clone-deploy deploy/my-redis-deploy pvc/my-clone-pvc pvc/my-redis-pvc"
   ]
  },
  {
   "cell_type": "markdown",
   "metadata": {},
   "source": [
    "## Summary\n",
    "\n",
    "The idea behind this is to keep `VolumeSnapshots` around and use it to recreate known good states of a stateful application. If just a recent instantiation of an application is needed adhoc, it's more convenient to use the parent `PersistentVolumeClaim` as a `.spec.dataSource`.\n",
    "\n",
    "Let's continue on to [Lab 3: Ephemeral Inline Volumes](3-WKSHP-CSI-Inline.ipynb)\n",
    "\n",
    "> **Learn more**\n",
    "> - {{ BRANDING }} Community Blog: [HPE CSI Driver for Kubernetes: Snapshots, Clones and Volume Expansion](https://developer.hpe.com/blog/PklOy39w8NtX6M2RvAxW/hpe-csi-driver-for-kubernetes-snapshots-clones-and-volume-expansion)"
   ]
  }
 ],
 "metadata": {
  "kernelspec": {
   "display_name": "Bash",
   "language": "bash",
   "name": "bash"
  },
  "language_info": {
   "codemirror_mode": "shell",
   "file_extension": ".sh",
   "mimetype": "text/x-sh",
   "name": "bash"
  }
 },
 "nbformat": 4,
 "nbformat_minor": 4
}
