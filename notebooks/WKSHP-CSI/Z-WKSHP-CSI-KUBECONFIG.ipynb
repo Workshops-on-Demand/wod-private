{
 "cells": [
  {
   "cell_type": "markdown",
   "metadata": {},
   "source": [
    "# Retrieve your KUBECONFIG\n",
    "\n",
    "At the start of the lab you need to download your KUBECONFIG from the HPE Container Platform. The KUBECONFIG is token based and may expire during the labs. To deal with this, just rerun the below command when needed."
   ]
  },
  {
   "cell_type": "markdown",
   "metadata": {},
   "source": [
    "#### Initialize the environment:\n",
    "\n",
    "Let's first define the environment variables according to your HPE Ezmeral Container Platform user account and tenant name, and the HPE Ezmeral Container Platform API system endpoint.\n",
    "\n",
    "**Make sure the password is set to the password you received in the registraton e-mail**"
   ]
  },
  {
   "cell_type": "code",
   "execution_count": null,
   "metadata": {},
   "outputs": [],
   "source": [
    "#\n",
    "# environment variables to be adjusted/verified by the student\n",
    "#\n",
    "student=\"student{{ STDID }}\" # your Jupyter Notebook student Identifier (i.e.: student<xx>)\n",
    "username=\"student{{ STDID }}\" # your HPE ECP tenant login credentials - username \n",
    "password=\"{{ PASSSTU }}\" # your HPE ECP tenant login credentials - password - \n",
    "#\n",
    "# fixed environment variables setup by the HPE ECP lab administrator - Please DO NOT MODIFY!!\n",
    "#\n",
    "controller_endpoint=\"{{ HPEECPCTRLNAME }}:8080\"\n",
    "gateway_host=\"{{ HPEECPGWNAME }}\"\n",
    "tenantname=\"CSITenant{{ STDID }}\"\n",
    "k8sClusterId=\"3\"  #this is the K8s Cluster Id provided by the HPE ECP admisnistrator and assigned to your K8s tenant.\n",
    "\n",
    "echo \"your operation context is:\" $username \"on tenant\" $tenantname "
   ]
  },
  {
   "cell_type": "markdown",
   "metadata": {
    "jupyter": {
     "source_hidden": true
    }
   },
   "source": [
    "#### Authenticate as a tenant user in the specified tenant:\n",
    "\n",
    "> Note:  When you see a [*] next to the next action it means your execution step is busy working within the notebook."
   ]
  },
  {
   "cell_type": "code",
   "execution_count": null,
   "metadata": {},
   "outputs": [],
   "source": [
    "sessionlocation=$(curl -k -i -s --request POST \"https://${controller_endpoint}/api/v2/session\" \\\n",
    "--header 'Accept: application/json' \\\n",
    "--header 'Content-Type: application/json' \\\n",
    "--data-raw '{\n",
    "\"name\": \"'\"$username\"'\",\n",
    "\"password\": \"'\"$password\"'\",\n",
    "\"tenant_name\": \"'\"$tenantname\"'\"\n",
    "}' | grep Location | awk '{print $2}' | tr -d '\\r') #we remove any cr that might exist\n",
    "echo \"This is your session location: \" $sessionlocation\n",
    "SessionId=$(echo $sessionlocation | cut -d'/' -f 5) # extract sessionId for later, for logout\n",
    "echo \"This is your session_Id:\" $SessionId"
   ]
  },
  {
   "cell_type": "markdown",
   "metadata": {},
   "source": [
    "#### Get the Kubeconfig file for your tenant working context:\n",
    "The next step in deploying a containerized application in Kubernetes clusters managed by the HPE Ezmeral Container Platform is to get the kubeconfig file for your tenant working context. \n",
    "\n",
    "The HPE ECP REST API call below allows you to get the **kubeconfig file** used to access the Kubernetes cluster for your tenant user account based on your assigned role (tenant member) with the same result as if you had downloaded it from the HPE ECP UI."
   ]
  },
  {
   "cell_type": "code",
   "execution_count": null,
   "metadata": {},
   "outputs": [],
   "source": [
    "mkdir -p ~/.kube\n",
    "ls ~/.kube"
   ]
  },
  {
   "cell_type": "code",
   "execution_count": null,
   "metadata": {},
   "outputs": [],
   "source": [
    "rm ~/.kube/config\n",
    "curl -k -s --request GET \"https://${controller_endpoint}/api/v2/k8skubeconfig\" \\\n",
    "--header \"X-BDS-SESSION: $sessionlocation\" \\\n",
    "--header 'Accept: application/json' \\\n",
    "--header 'Content-Type: application/json' > ~/.kube/config"
   ]
  },
  {
   "cell_type": "code",
   "execution_count": null,
   "metadata": {},
   "outputs": [],
   "source": [
    "cat ~/.kube/config"
   ]
  },
  {
   "cell_type": "markdown",
   "metadata": {},
   "source": [
    "> Notice the kubeconfig file includes the valid token (session location) for the current session you previously established."
   ]
  },
  {
   "cell_type": "markdown",
   "metadata": {},
   "source": [
    "#### Check your working tenant context:"
   ]
  },
  {
   "cell_type": "code",
   "execution_count": null,
   "metadata": {},
   "outputs": [],
   "source": [
    "kubectl config current-context"
   ]
  },
  {
   "cell_type": "markdown",
   "metadata": {},
   "source": [
    "You can now send Kubernetes API requests using a K8s API client such as **kubectl** to deploy enterprise workloads to the kubernetes cluster using the privileges assigned to your tenant role. \n",
    "\n",
    "\n",
    "**Let's see this in action!**"
   ]
  },
  {
   "cell_type": "markdown",
   "metadata": {},
   "source": [
    "Proceed back to the labs:\n",
    "\n",
    "* [Back to the Overview](0-ReadMeFirst.ipynb#Lab-1:-Persistent-Storage-Basics)\n",
    "* [Lab 1: Persistent Storage Basics](1-WKSHP-CSI-Basics.ipynb)\n",
    "* [Lab 2: Snapshots and Clones](2-WKSHP-CSI-DataManagement.ipynb)\n",
    "* [Lab 3: Ephemeral Inline Volumes](3-WKSHP-CSI-Inline.ipynb)\n",
    "* [Lab 4: Non-portable HPE CSI Driver Capabilities](4-WKSHP-CSI-HPE.ipynb)\n"
   ]
  }
 ],
 "metadata": {
  "kernelspec": {
   "display_name": "Bash",
   "language": "bash",
   "name": "bash"
  },
  "language_info": {
   "codemirror_mode": "shell",
   "file_extension": ".sh",
   "mimetype": "text/x-sh",
   "name": "bash"
  }
 },
 "nbformat": 4,
 "nbformat_minor": 4
}
