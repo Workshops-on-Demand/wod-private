{
 "cells": [
  {
   "cell_type": "markdown",
   "metadata": {},
   "source": [
    "# Lab 3: Ephemeral Inline Volumes\n",
    "\n",
    "CSI allows the declaration of ephemeral volumes \"inline\" within a `Pod`. This is an extension of the idea of using the `emptyDir` volume concept for storing data temporarily on the Kubernetes worker node and outside of the layered filesystem where the container is running.\n",
    "\n",
    "With ephemeral inline volumes, a CSI driver can be used to declare a temporary scratch disk, offloading capacity and performance from the Kubernetes worker node.\n",
    "\n",
    "## Direct access to the CSI driver\n",
    "\n",
    "One of the drawbacks of allowing users to declare inline volumes is that direct access to the CSI driver is needed. Inline volumes do not use `PersistentVolumeClaims` nor a `StorageClass`, hence all the details need to reside inline the declaration.\n",
    "\n",
    "A `Secret` is needed, either in the same `Namespace` or in a foreign `Namespace` from where the inline declaration is being made. We'll use the same `Namespace` for this exercise.\n",
    "\n",
    "There should be a `Secret` declared in your tenant `Namespace`."
   ]
  },
  {
   "cell_type": "code",
   "execution_count": null,
   "metadata": {},
   "outputs": [],
   "source": [
    "kubectl get secret/csi-secret -o yaml"
   ]
  },
  {
   "cell_type": "markdown",
   "metadata": {},
   "source": [
    "`Secrets` store attribute values in base64 encoding and only protects from casual over-the-shoulder eavesdropping. For example, to reveal the `servicePort`, run the following."
   ]
  },
  {
   "cell_type": "code",
   "execution_count": null,
   "metadata": {},
   "outputs": [],
   "source": [
    "echo -n ODA4MA== | base64 -d"
   ]
  },
  {
   "cell_type": "markdown",
   "metadata": {},
   "source": [
    "## Declare a workload\n",
    "\n",
    "In this three replica `Deployment`, we're kicking off a logging process in three `Pods`. \n",
    "\n",
    "---\n",
    "```yaml\n",
    "---\n",
    "apiVersion: apps/v1\n",
    "kind: Deployment\n",
    "metadata:\n",
    "  name: my-inline-deploy\n",
    "  labels:\n",
    "    app: my-inline-deploy\n",
    "spec:\n",
    "  replicas: 3\n",
    "  strategy:\n",
    "    type: Recreate\n",
    "  selector:\n",
    "    matchLabels:\n",
    "      app: my-logger\n",
    "  template:\n",
    "    metadata:\n",
    "      labels:\n",
    "        app: my-logger\n",
    "    spec:\n",
    "      containers:\n",
    "      - name: my-logger\n",
    "        image: busybox\n",
    "        command: [\"bin/sh\"]\n",
    "        args: [\"-c\", \"while true; do date >> /data/mydata.txt; sleep 1; done\"]\n",
    "        volumeMounts:\n",
    "        - name: inline\n",
    "          mountPath: /data\n",
    "      volumes:\n",
    "      - name: inline\n",
    "        csi:\n",
    "          driver: csi.hpe.com\n",
    "          nodePublishSecretRef:\n",
    "            name: csi-secret\n",
    "          fsType: xfs\n",
    "          volumeAttributes:\n",
    "            csi.storage.k8s.io/ephemeral: \"true\"\n",
    "            accessProtocol: \"iscsi\"\n",
    "            size: \"32Mi\"\n",
    "```\n",
    "---\n",
    "\n",
    "In the `.spec.template.spec.volumes` is where the action is. The `volumeAttributes` keys are actual `StorageClass` parameters supported by the HPE CSI Driver and the CSP being used in the backend. This opens up very creative ways to temporarily access data.\n",
    "\n",
    "Let's declare the workload."
   ]
  },
  {
   "cell_type": "code",
   "execution_count": null,
   "metadata": {},
   "outputs": [],
   "source": [
    "kubectl create -f obj/my-inline-deploy.yaml\n",
    "kubectl rollout status deploy/my-inline-deploy"
   ]
  },
  {
   "cell_type": "markdown",
   "metadata": {},
   "source": [
    "Let's wait for the `Deployment` to come up, wait to see `3/3`."
   ]
  },
  {
   "cell_type": "code",
   "execution_count": null,
   "metadata": {},
   "outputs": [],
   "source": [
    "kubectl get deploy/my-inline-deploy"
   ]
  },
  {
   "cell_type": "markdown",
   "metadata": {},
   "source": [
    "Let's check for `PersistentVolumeClaims`."
   ]
  },
  {
   "cell_type": "code",
   "execution_count": null,
   "metadata": {},
   "outputs": [],
   "source": [
    "kubectl get pvc"
   ]
  },
  {
   "cell_type": "markdown",
   "metadata": {},
   "source": [
    "If all objects have been cleaned up from prior exercises, there should not be any `PersistentVolumeClaims` associated with our `Deployment`."
   ]
  },
  {
   "cell_type": "markdown",
   "metadata": {},
   "source": [
    "Inspect the `Pods` in the `Deployment`."
   ]
  },
  {
   "cell_type": "code",
   "execution_count": null,
   "metadata": {},
   "outputs": [],
   "source": [
    "kubectl get pods -o wide -l app=my-logger"
   ]
  },
  {
   "cell_type": "markdown",
   "metadata": {},
   "source": [
    "The key here is that we should have three `Pods` running on different nodes, illustrating the fact that inline volumes are all local to each of the `Pods`. Check the mountpoint inside the first `Pod`."
   ]
  },
  {
   "cell_type": "code",
   "execution_count": null,
   "metadata": {},
   "outputs": [],
   "source": [
    "kubectl exec -it -c my-logger deploy/my-inline-deploy -- df -h /data"
   ]
  },
  {
   "cell_type": "markdown",
   "metadata": {},
   "source": [
    "Once the `Deployment` is deleted, the backend volumes will be deleted. If a `Pod` gets rescheduled or restarted, a new volume will be created and the old one deleted."
   ]
  },
  {
   "cell_type": "code",
   "execution_count": null,
   "metadata": {},
   "outputs": [],
   "source": [
    "kubectl delete deploy/my-inline-deploy"
   ]
  },
  {
   "cell_type": "markdown",
   "metadata": {},
   "source": [
    "# Summary\n",
    "\n",
    "Ephemeral inline volumes are useful for many things. However, there is a security concern that needs to be addressed by creating a separate tenant on the backend system to ensure that users do not get privileged access to the backend system.\n",
    "\n",
    "Let's continue to [Lab 4: Non-portable HPE CSI Driver Capabilities](4-WKSHP-CSI-HPE.ipynb)\n",
    "\n",
    "> **Learn more**\n",
    "> - {{ BRANDING }} Community Blog: [Using Raw Block and Ephemeral Inline Volumes on Kubernetes](https://developer.hpe.com/blog/EE2QnZBXXwi4o7X0E4M0/using-raw-block-and-ephemeral-inline-volumes-on-kubernetes)"
   ]
  }
 ],
 "metadata": {
  "kernelspec": {
   "display_name": "Bash",
   "language": "bash",
   "name": "bash"
  },
  "language_info": {
   "codemirror_mode": "shell",
   "file_extension": ".sh",
   "mimetype": "text/x-sh",
   "name": "bash"
  }
 },
 "nbformat": 4,
 "nbformat_minor": 4
}
