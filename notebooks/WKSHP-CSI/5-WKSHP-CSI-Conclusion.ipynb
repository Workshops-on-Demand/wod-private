{
 "cells": [
  {
   "cell_type": "markdown",
   "metadata": {},
   "source": [
    "{{ BRANDINGLOGO }}\n",
    "\n",
    "# Thank you for visiting the Hack Shack\n",
    "\n",
    "Powered by [{{ BRANDING }} Community Team](hpedev.io)\n",
    "\n",
    "{% if MODEWS == 'CHLG' %}\n",
    "# Thank you for participating to our software challenge\n",
    "{% endif %}\n",
    "\n",
    "## Conclusion\n",
    "\n",
    "During this workshop, you have discovered the basics of the Container Storage Interface (CSI) on Kubernetes. You have learned how to:\n",
    "\n",
    "- Discover `StorageClasses`\n",
    "- Create and assign a `PersistentVolumeClaim` to a workload\n",
    "- Resize a `PersistentVolumeClaim`\n",
    "- Expose a raw block device to a `Pod`\n",
    "- Create a `VolumeSnapshot` from a `VolumeSnapshotClass`\n",
    "- Clone `PersistentVolumeClaims` from an existing claim or a `VolumeSnapshot`\n",
    "- Declare an ephemeral inline volume for a `Pod`\n",
    "\n",
    "Optionally:\n",
    "\n",
    "- Annotate `PersistentVolumeClaims` to leverage `StorageClass` overrides and mutations\n",
    "- Transparently provision a NFS server with the HPE CSI Driver and using `ReadWriteMany` access mode\n",
    "\n",
    "Congratulations. Well done!\n",
    "\n",
    "## Learn more\n",
    "\n",
    "Interested in more elaborate examples of CSI functionality? Check out these community blogs.\n",
    "\n",
    "- [Introducing a multi-vendor CSI driver for Kubernetes](https://developer.hpe.com/blog/n0J8kpk1DJf4y7xD2D4X/introducing-a-multi-vendor-csi-driver-for-kubernetes)\n",
    "- [HPE CSI Driver for Kubernetes: Snapshots, Clones and Volume Expansion](https://developer.hpe.com/blog/PklOy39w8NtX6M2RvAxW/hpe-csi-driver-for-kubernetes-snapshots-clones-and-volume-expansion)\n",
    "- [Using Raw Block and Ephemeral Inline Volumes on Kubernetes](https://developer.hpe.com/blog/EE2QnZBXXwi4o7X0E4M0/using-raw-block-and-ephemeral-inline-volumes-on-kubernetes)\n",
    "- [Introducing an NFS Server Provisioner for the HPE CSI Driver for Kubernetes](https://developer.hpe.com/blog/xABwJY56qEfNGMEo1lDj/introducing-an-nfs-server-provisioner-for-the-hpe-csi-driver-for-kuberne)\n",
    "- [HPE Storage Container Orchestrator Documentation](https://scod.hpedev.io)\n",
    "\n",
    "# Final step\n",
    "\n",
    "### Please take a moment to fill out our [survey]({{ SURVEYURL }}) so we can ensure future workshops meet your needs.\n",
    "\n",
    "### And make sure you use `File->Log Out` to terminate your workshop session.\n",
    "\n",
    "# Thank you\n",
    "![ThankYou](Pictures/grommet.jpg)"
   ]
  }
 ],
 "metadata": {
  "kernelspec": {
   "display_name": "Bash",
   "language": "bash",
   "name": "bash"
  },
  "language_info": {
   "codemirror_mode": "shell",
   "file_extension": ".sh",
   "mimetype": "text/x-sh",
   "name": "bash"
  }
 },
 "nbformat": 4,
 "nbformat_minor": 4
}
