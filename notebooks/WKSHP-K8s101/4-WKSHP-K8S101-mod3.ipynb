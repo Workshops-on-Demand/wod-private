{
 "cells": [
  {
   "cell_type": "markdown",
   "metadata": {},
   "source": [
    "# Module 3 - Explore your app\n",
    "\n",
    "## Objectives\n",
    "\n",
    "* Learn about Kubernetes Pods.\n",
    "* Learn about Kubernetes Nodes.\n",
    "* Troubleshoot deployed applications.\n",
    "\n",
    "## Kubernetes Pods\n",
    "\n",
    "When you created a Deployment in [Module 2](./3-WKSHP-K8S101-mod2.ipynb), Kubernetes created a **Pod** to host your application instance. A Pod is a Kubernetes abstraction that represents a group of one or more application containers (such as Docker), and some shared resources for those containers. Those resources include:\n",
    "\n",
    "* Shared storage, as Volumes\n",
    "* Networking, as a unique cluster IP address\n",
    "* Information about how to run each container, such as the container image version or specific ports to use\n",
    "\n",
    "A Pod models an application-specific \"logical host\" and can contain different application containers which are relatively tightly coupled. For example, a Pod might include both the container with your Node.js app as well as a different container that feeds the data to be published by the Node.js webserver. The containers in a Pod share an IP Address and port space, are always co-located and co-scheduled, and run in a shared context on the same Node.\n",
    "\n",
    "Pods are the atomic unit on the Kubernetes platform. When we create a Deployment on Kubernetes, that Deployment creates Pods with containers inside them (as opposed to creating containers directly). Each Pod is tied to the Node where it is scheduled, and remains there until termination (according to restart policy) or deletion. In case of a Node failure, identical Pods are scheduled on other available Nodes in the cluster.\n",
    "\n",
    ">A Pod is a group of one or more application containers (such as Docker) and includes shared storage (volumes), IP address and information about how to run them.\n",
    "\n",
    "## Pods overview\n",
    "\n",
    "<img src=\"https://d33wubrfki0l68.cloudfront.net/fe03f68d8ede9815184852ca2a4fd30325e5d15a/98064/docs/tutorials/kubernetes-basics/public/images/module_03_pods.svg\"  width=\"600\" title=\"test\" alt=\"\">\n",
    "\n",
    "## Nodes\n",
    "\n",
    "A Pod always runs on a **Node**. A Node is a worker machine in Kubernetes and may be either a virtual or a physical machine, depending on the cluster. Each Node is managed by the Master. A Node can have multiple pods, and the Kubernetes master automatically handles scheduling the pods across the Nodes in the cluster. The Master's automatic scheduling takes into account the available resources on each Node.\n",
    "\n",
    "Every Kubernetes Node runs at least:\n",
    "\n",
    "* Kubelet, a process responsible for communication between the Kubernetes Master and the Node; it manages the Pods and the containers running on a machine.\n",
    "* A container runtime (like Docker) responsible for pulling the container image from a registry, unpacking the container, and running the application.\n",
    "\n",
    ">Containers should only be scheduled together in a single Pod if they are tightly coupled and need to share resources such as disk.\n",
    "\n",
    "## Node overview\n",
    "\n",
    "<img src=\"https://d33wubrfki0l68.cloudfront.net/5cb72d407cbe2755e581b6de757e0d81760d5b86/a9df9/docs/tutorials/kubernetes-basics/public/images/module_03_nodes.svg\"  width=\"600\" title=\"test\" alt=\"\">\n",
    "\n",
    "## Troubleshooting with kubectl\n",
    "\n",
    "In [Module 2](./3-WKSHP-K8S101-mod2.ipynb), you used Kubectl command-line interface. You'll continue to use it in Module 3 to get information about deployed applications and their environments. The most common operations can be done with the following kubectl commands:\n",
    "\n",
    "* **kubectl get** - list resources\n",
    "* **kubectl describe** - show detailed information about a resource\n",
    "* **kubectl logs** - print the logs from a container in a pod\n",
    "* **kubectl exec** - execute a command on a container in a pod\n",
    "\n",
    "You can use these commands to see when applications were deployed, what their current statuses are, where they are running and what their configurations are.\n",
    "\n",
    "Now that we know more about our cluster components and the command line, let's explore our application.\n",
    "\n",
    ">A node is a worker machine in Kubernetes and may be a VM or physical machine, depending on the cluster. Multiple Pods can run on one Node.\n",
    "\n",
    "### Lab 3 - Explore your app\n",
    "#### Step 1 of 4\n",
    "\n",
    "Let’s verify that the application we deployed in the previous scenario is running. We’ll use the `kubectl get` command and look for existing Pods:"
   ]
  },
  {
   "cell_type": "code",
   "execution_count": null,
   "metadata": {},
   "outputs": [],
   "source": [
    "studentId=$(grep hpecp-user $HOME/.kube/config | cut -d= -f2)\n",
    "\n",
    "kubectl get pods | grep $studentId\n"
   ]
  },
  {
   "cell_type": "markdown",
   "metadata": {},
   "source": [
    "Next, to view what containers are inside that Pod and what images are used to build those containers we run the `describe pods` command:\n"
   ]
  },
  {
   "cell_type": "code",
   "execution_count": null,
   "metadata": {},
   "outputs": [],
   "source": [
    "POD_NAME=$(kubectl get pods -o go-template --template '{% raw %}{{range .items}}{{.metadata.name}}{{\"\\n\"}}{{end}}{% endraw %}' | grep $studentId) \n",
    "echo $POD_NAME\n",
    "kubectl describe pods $POD_NAME"
   ]
  },
  {
   "cell_type": "markdown",
   "metadata": {},
   "source": [
    "We see here details about the Pod’s container: IP address, the ports used and a list of events related to the lifecycle of the Pod.\n",
    "\n",
    "The output of the `describe` command is extensive and covers some concepts that we didn’t explain yet, but don’t worry, they will become familiar by the end of this bootcamp.\n",
    "\n",
    ">Note: the describe command can be used to get detailed information about most of the kubernetes primitives: node, pods, deployments. The describe output is designed to be human readable, not to be scripted against."
   ]
  },
  {
   "cell_type": "markdown",
   "metadata": {},
   "source": [
    "#### Step 2 of 4\n",
    "\n",
    "Recall that Pods are running in an isolated, private network - so we need to proxy access to them so we can debug and interact with them. To do this, we created a port-forward in [Module 2](./3-WKSHP-K8S101-mod2.ipynb) using the `kubectl port-forward` command in a second terminal window. \n",
    "\n",
    "To see the output of our application, run can also call the API using a `curl` request.\n",
    "\n",
    "`curl http://localhost:$port/api/v1/namespaces/default/pods/$POD_NAME/proxy/`\n",
    "\n",
    "The url is the route to the API of the Pod."
   ]
  },
  {
   "cell_type": "code",
   "execution_count": null,
   "metadata": {},
   "outputs": [],
   "source": [
    "port=$(expr $(echo ${studentId} | tr -cd '[[:digit:]]') + 8000)\n",
    "\n",
    "echo Name of the Pod: $POD_NAME\n",
    "echo Port number: $port\n",
    "\n",
    "curl http://localhost:$port/api/v1/namespaces/default/pods/$POD_NAME/proxy/"
   ]
  },
  {
   "cell_type": "markdown",
   "metadata": {},
   "source": [
    "#### Step 3 of 4\n",
    "\n",
    "Anything that the application would normally send to `STDOUT` becomes logs for the container within the Pod. We can retrieve these logs using the `kubectl logs` command:"
   ]
  },
  {
   "cell_type": "code",
   "execution_count": null,
   "metadata": {},
   "outputs": [],
   "source": [
    "kubectl logs $POD_NAME"
   ]
  },
  {
   "cell_type": "markdown",
   "metadata": {},
   "source": [
    ">The name of the container itself can be omitted since we only have a single container in the Pod."
   ]
  },
  {
   "cell_type": "markdown",
   "metadata": {},
   "source": [
    "#### Step 4 of 4\n",
    "\n",
    "We can execute commands directly on the container once the Pod is up and running. For this, we use the `exec` command and use the name of the Pod as a parameter. Let’s list the environment variables:"
   ]
  },
  {
   "cell_type": "code",
   "execution_count": null,
   "metadata": {},
   "outputs": [],
   "source": [
    "kubectl exec $POD_NAME -- env"
   ]
  },
  {
   "cell_type": "markdown",
   "metadata": {},
   "source": [
    ">Again, worth mentioning that the name of the container itself can be omitted since we only have a single container in the Pod.\n",
    "\n",
    "Next let’s check the source code of the app in the server.js file:\n"
   ]
  },
  {
   "cell_type": "code",
   "execution_count": null,
   "metadata": {},
   "outputs": [],
   "source": [
    "kubectl exec $POD_NAME -- cat server.js"
   ]
  },
  {
   "cell_type": "markdown",
   "metadata": {},
   "source": [
    "Go back to your ` Terminal ` session and stop the port-forward, using CTRL-C"
   ]
  },
  {
   "cell_type": "markdown",
   "metadata": {},
   "source": [
    "This terminates module 3. Let's continue with [module 4, Expose your app publicly](./5-WKSHP-K8S101-mod4.ipynb)."
   ]
  },
  {
   "cell_type": "code",
   "execution_count": null,
   "metadata": {},
   "outputs": [],
   "source": []
  }
 ],
 "metadata": {
  "kernelspec": {
   "display_name": "Bash",
   "language": "bash",
   "name": "bash"
  },
  "language_info": {
   "codemirror_mode": "shell",
   "file_extension": ".sh",
   "mimetype": "text/x-sh",
   "name": "bash"
  }
 },
 "nbformat": 4,
 "nbformat_minor": 4
}
