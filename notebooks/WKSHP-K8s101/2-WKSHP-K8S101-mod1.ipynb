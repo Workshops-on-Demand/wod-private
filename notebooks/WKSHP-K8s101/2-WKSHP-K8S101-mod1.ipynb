{
 "cells": [
  {
   "cell_type": "markdown",
   "metadata": {},
   "source": [
    "# Module 1 - Create a Kubernetes Cluster\n",
    "\n",
    "## Objectives\n",
    "\n",
    "- Learn what a Kubernetes cluster is.\n",
    "- Learn what Kubectl is\n",
    "- Discover your learning environment\n",
    "\n",
    "## Kubernetes Clusters\n",
    "\n",
    "**Kubernetes coordinates a highly available cluster of computers that are connected to work as a single unit.** The abstractions in Kubernetes allow you to deploy containerized applications to a cluster without tying them specifically to individual machines. To make use of this new model of deployment, applications need to be packaged in a way that decouples them from individual hosts: they need to be containerized. Containerized applications are more flexible and available than in past deployment models, where applications were installed directly onto specific machines as packages deeply integrated into the host. **Kubernetes automates the distribution and scheduling of application containers across a cluster in a more efficient way.** Kubernetes is an open-source platform and is production-ready.\n",
    "\n",
    "A Kubernetes cluster consists of two types of resources:\n",
    "\n",
    "- The **Master** coordinates the cluster\n",
    "- **Nodes** are the workers that run applications\n",
    "\n",
    ">Kubernetes is a production-grade, open-source platform that orchestrates the placement (scheduling) and execution of application containers within and across computer clusters.\n",
    "\n",
    "## Cluster Diagram\n",
    "\n",
    "<img src=\"https://d33wubrfki0l68.cloudfront.net/99d9808dcbf2880a996ed50d308a186b5900cec9/40b94/docs/tutorials/kubernetes-basics/public/images/module_01_cluster.svg\"  width=\"600\" title=\"test\" alt=\"\">\n",
    "\n",
    "**The Master is responsible for managing the cluster.** The master coordinates all activities in your cluster, such as scheduling applications, maintaining applications' desired state, scaling applications, and rolling out new updates.\n",
    "\n",
    "**A node is a VM or a physical computer that serves as a worker machine in a Kubernetes cluster.** Each node has a Kubelet, which is an agent for managing the node and communicating with the Kubernetes master. The node should also have tools for handling container operations, such as containerd or Docker. A Kubernetes cluster that handles production traffic should have a minimum of three nodes.\n",
    "\n",
    ">Masters manage the cluster and the nodes that are used to host the running applications.\n",
    "\n",
    "When you deploy applications on Kubernetes, you tell the master to start the application containers. The master schedules the containers to run on the cluster's nodes. **The nodes communicate with the master using the [Kubernetes API](https://kubernetes.io/docs/concepts/overview/kubernetes-api/),** which the master exposes. End users can also use the Kubernetes API directly to interact with the cluster.\n",
    "\n",
    "A Kubernetes cluster can be deployed on either physical or virtual machines. To get started with Kubernetes development, we will use HPE Ezmeral Container Platform. For this tutorial, however, HPE Ezmeral Container Platform is pre-installed.\n",
    "\n",
    "Now that you know what Kubernetes is, let's go to the online tutorial and start our first cluster!\n",
    "\n",
    "### Lab 1 - Create a Kubernetes Cluster\n",
    "#### Step 1 of 3\n",
    "\n",
    "- Cluster up and running\n",
    "\n",
    "We already installed HPE Ezmeral Container Platform for you. First login to the platform to collect context details."
   ]
  },
  {
   "cell_type": "code",
   "execution_count": null,
   "metadata": {},
   "outputs": [],
   "source": [
    "# Login\n",
    "#\n",
    "# Environment variables for your working tenant context\n",
    "#\n",
    "studentId=\"student{{ STDID }}\" # your Jupyter Notebook student Identifier (i.e.: student<xx>)\n",
    "username=\"student{{ STDID }}\" # your HPE ECP tenant login credentials - the username is your jupyterHub account username\n",
    "password=\"{{ PASSSTU }}\" # your HPE ECP tenant login credentials - the password is your jupyterHub account password\n",
    "\n",
    "gateway_host=\"{{ HPEECPGWNAME }}\"\n",
    "controller_endpoint=\"${gateway_host}:8080\"\n",
    "\n",
    "echo \"Environment variables set.\""
   ]
  },
  {
   "cell_type": "code",
   "execution_count": null,
   "metadata": {},
   "outputs": [],
   "source": [
    "\n",
    " \n",
    "tenantname=\"K8s101\" #case sensitive\n",
    " \n",
    "echo \"your operation context is:\" $username \"on tenant\" $tenantname\n",
    "echo \"your REST API endpoint is:\" $controller_endpoint\n",
    "\n",
    "sessionlocation=$(curl -k -i -s --request POST \"https://${controller_endpoint}/api/v2/session\" \\\n",
    "--header 'Accept: application/json' \\\n",
    "--header 'Content-Type: application/json' \\\n",
    "--data-raw '{\n",
    "\"name\": \"'\"$username\"'\",\n",
    "\"password\": \"'\"$password\"'\",\n",
    "\"tenant_name\": \"'\"$tenantname\"'\"\n",
    "}' | grep Location | awk '{print $2}' | tr -d '\\r') #we remove any cr that might exist\n",
    "echo \"This is your session location: \" $sessionlocation\n",
    "SessionId=$(echo $sessionlocation | cut -d'/' -f 5) # extract sessionId for later, for logout\n",
    "echo \"This is your session_Id:\" $SessionId\n"
   ]
  },
  {
   "cell_type": "markdown",
   "metadata": {},
   "source": [
    "#### Step 2 of 3\n",
    "\n",
    "To interact with Kubernetes during this bootcamp we’ll use the command line interface, kubectl. We’ll explain kubectl in detail in the next modules, but for now, we’re just going to download a copy of kubectl tailored for your context. To check if kubectl is installed you can run the kubectl version command, then we can check what is our context."
   ]
  },
  {
   "cell_type": "code",
   "execution_count": null,
   "metadata": {},
   "outputs": [],
   "source": [
    "# Get kubectl\n",
    "mkdir -p ~/.kube\n",
    "ls ~/.kube\n",
    "rm -f ~/.kube/config\n",
    "curl -k -s --request GET \"https://${controller_endpoint}/api/v2/k8skubeconfig\" \\\n",
    "--header \"X-BDS-SESSION: $sessionlocation\" \\\n",
    "--header 'Accept: application/json' \\\n",
    "--header 'Content-Type: application/json' > ~/.kube/config\n",
    "\n",
    "echo \"Kubeconfig file fetched\"\n",
    "kubectl version\n",
    "echo \"Current context\"\n",
    "kubectl config current-context"
   ]
  },
  {
   "cell_type": "markdown",
   "metadata": {},
   "source": [
    "#### Step 3 of 3\n",
    "\n",
    "- Cluster details\n",
    "\n",
    "Let’s view the cluster details. We’ll do that by running kubectl cluster-info:"
   ]
  },
  {
   "cell_type": "code",
   "execution_count": null,
   "metadata": {},
   "outputs": [],
   "source": [
    "kubectl cluster-info"
   ]
  },
  {
   "cell_type": "markdown",
   "metadata": {},
   "source": [
    "During this tutorial, we’ll be focusing on the command line for deploying and exploring our application. To view the nodes in the cluster, run the kubectl get nodes command:"
   ]
  },
  {
   "cell_type": "code",
   "execution_count": null,
   "metadata": {},
   "outputs": [],
   "source": [
    "kubectl get nodes"
   ]
  },
  {
   "cell_type": "markdown",
   "metadata": {},
   "source": [
    "This command shows all nodes that can be used to host our applications. We have several nodes in our cluster, and we can see that its status is ready (it is ready to accept applications for deployment)."
   ]
  },
  {
   "cell_type": "code",
   "execution_count": null,
   "metadata": {},
   "outputs": [],
   "source": [
    "kubectl config view\n"
   ]
  },
  {
   "cell_type": "markdown",
   "metadata": {},
   "source": [
    "This terminates module 1. Let's continue with [module 2, Deploy an app](./3-WKSHP-K8S101-mod2.ipynb)."
   ]
  },
  {
   "cell_type": "code",
   "execution_count": null,
   "metadata": {},
   "outputs": [],
   "source": []
  }
 ],
 "metadata": {
  "kernelspec": {
   "display_name": "Bash",
   "language": "bash",
   "name": "bash"
  },
  "language_info": {
   "codemirror_mode": "shell",
   "file_extension": ".sh",
   "mimetype": "text/x-sh",
   "name": "bash"
  }
 },
 "nbformat": 4,
 "nbformat_minor": 4
}
